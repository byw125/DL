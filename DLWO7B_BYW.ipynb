{
  "nbformat": 4,
  "nbformat_minor": 0,
  "metadata": {
    "colab": {
      "provenance": [],
      "authorship_tag": "ABX9TyNvKEsapcGGwHyJT+tMWyPM",
      "include_colab_link": true
    },
    "kernelspec": {
      "name": "python3",
      "display_name": "Python 3"
    },
    "language_info": {
      "name": "python"
    }
  },
  "cells": [
    {
      "cell_type": "markdown",
      "metadata": {
        "id": "view-in-github",
        "colab_type": "text"
      },
      "source": [
        "<a href=\"https://colab.research.google.com/github/byw125/DL/blob/main/DLWO7B_BYW.ipynb\" target=\"_parent\"><img src=\"https://colab.research.google.com/assets/colab-badge.svg\" alt=\"Open In Colab\"/></a>"
      ]
    },
    {
      "cell_type": "markdown",
      "source": [
        "#Task1"
      ],
      "metadata": {
        "id": "Dle7f2t4A9MT"
      }
    },
    {
      "cell_type": "code",
      "execution_count": null,
      "metadata": {
        "id": "hS_ZNd70YEvs"
      },
      "outputs": [],
      "source": [
        "greeting = \"Hello, students!\"\n",
        "year = 2023"
      ]
    },
    {
      "cell_type": "code",
      "source": [
        "print(greeting)\n",
        "print(year)"
      ],
      "metadata": {
        "colab": {
          "base_uri": "https://localhost:8080/"
        },
        "id": "uxG0vkMVYGQR",
        "outputId": "bcc6db4d-1d58-4bd6-8137-bdb424fc7aee"
      },
      "execution_count": null,
      "outputs": [
        {
          "output_type": "stream",
          "name": "stdout",
          "text": [
            "Hello, students!\n",
            "2023\n"
          ]
        }
      ]
    },
    {
      "cell_type": "code",
      "source": [
        "message = greeting + \" \" + str(year)\n",
        "print(message)"
      ],
      "metadata": {
        "colab": {
          "base_uri": "https://localhost:8080/"
        },
        "id": "x31qvIrJYHru",
        "outputId": "52dbcc89-8e21-4b43-f5ec-446fefea3826"
      },
      "execution_count": null,
      "outputs": [
        {
          "output_type": "stream",
          "name": "stdout",
          "text": [
            "Hello, students! 2023\n"
          ]
        }
      ]
    },
    {
      "cell_type": "code",
      "source": [
        "num1 = 10\n",
        "num2 = 3\n",
        "print(num1 + num2)"
      ],
      "metadata": {
        "colab": {
          "base_uri": "https://localhost:8080/"
        },
        "id": "BpfoM4mZYSCK",
        "outputId": "8d8708c6-0e00-4565-fb8a-5664823f445e"
      },
      "execution_count": null,
      "outputs": [
        {
          "output_type": "stream",
          "name": "stdout",
          "text": [
            "13\n"
          ]
        }
      ]
    },
    {
      "cell_type": "code",
      "source": [
        "user_string = input(\"Enter a string: \")\n",
        "user_number = int(input(\"Enter a number: \"))\n",
        "print(user_string * user_number)"
      ],
      "metadata": {
        "id": "TYd1hvB2YVn1"
      },
      "execution_count": null,
      "outputs": []
    },
    {
      "cell_type": "code",
      "source": [
        "sentence = \"Coding is fun and easy to learn!\"\n",
        "word_list = sentence.split()\n",
        "print(word_list)"
      ],
      "metadata": {
        "id": "isSAVcYhZZtu"
      },
      "execution_count": null,
      "outputs": []
    },
    {
      "cell_type": "code",
      "source": [
        "text = \"Coding is Exciting!\"\n",
        "uppercase_text = text.upper()\n",
        "lowercase_text = text.lower()\n",
        "print(\"Uppercase text:\", uppercase_text)\n",
        "print(\"Lowercase text:\", lowercase_text)"
      ],
      "metadata": {
        "id": "Zvgq1cjOaL0v"
      },
      "execution_count": null,
      "outputs": []
    },
    {
      "cell_type": "code",
      "source": [
        "quote = \"The greatest glory in living lies not in never falling, but in rising every time we fall.\"\n",
        "print(\"First character:\", quote[0])\n",
        "print(\"Last character:\", quote[-1])\n",
        "print(\"First 5 characters:\", quote[:5])\n",
        "print(\"From position 5 to the end:\", quote[5:])\n",
        "print(\"Reverse string:\", quote[::-1])"
      ],
      "metadata": {
        "id": "bc2XYxOpajjw"
      },
      "execution_count": null,
      "outputs": []
    },
    {
      "cell_type": "markdown",
      "source": [
        "#tast2"
      ],
      "metadata": {
        "id": "q_PPd-RuBBe7"
      }
    },
    {
      "cell_type": "markdown",
      "source": [
        "1. Define the content:"
      ],
      "metadata": {
        "id": "iBGdsoNBCFkb"
      }
    },
    {
      "cell_type": "code",
      "source": [
        "#@markdown Install, import, and define tts()\n",
        "%%capture\n",
        "!pip install gtts\n",
        "from gtts import gTTS\n",
        "from IPython.display import Audio\n",
        "\n",
        "\n",
        "def tts(txt):\n",
        "  text_to_say = txt\n",
        "  gtts_object = gTTS(text = text_to_say,\n",
        "                  lang = \"en\", tld = \"us\",\n",
        "                  slow = False) \n",
        "  gtts_object.save(\"E-audio.mp3\")\n",
        "  return Audio(\"E-audio.mp3\")\n",
        "\n",
        "def tts(txt):\n",
        "  text_to_say = txt\n",
        "  gtts_object = gTTS(text = text_to_say,\n",
        "                      lang =\"ko\", slow = False)\n",
        "  gtts_object.save(\"K-audio.mp3\")\n",
        "  return Audio(\"K-audio.mp3\")"
      ],
      "metadata": {
        "cellView": "form",
        "id": "QYR7UgY_HfjQ"
      },
      "execution_count": 5,
      "outputs": []
    },
    {
      "cell_type": "code",
      "source": [
        "vocab = {\n",
        "    'apple': 'a round fruit with red or green skin and a white inside',\n",
        "    'dog': 'a common domestic animal that is often kept as a pet',\n",
        "    'book': 'a set of written, printed, or blank pages bound together',\n",
        "}"
      ],
      "metadata": {
        "id": "DgFGfAXHBF02"
      },
      "execution_count": 6,
      "outputs": []
    },
    {
      "cell_type": "code",
      "source": [
        "sentences = [\n",
        "    'The apple is red.',\n",
        "    'I have a dog.',\n",
        "    'She is reading a book.',\n",
        "]"
      ],
      "metadata": {
        "id": "IlVFtb7CHahH"
      },
      "execution_count": 7,
      "outputs": []
    },
    {
      "cell_type": "markdown",
      "source": [
        "2. Create a function to quiz users on vocabulary words:"
      ],
      "metadata": {
        "id": "jdGNQN0qIyZQ"
      }
    },
    {
      "cell_type": "code",
      "source": [
        "def quiz_vocabulary(vocab):\n",
        "    word, meaning = random.choice(list(vocab.items()))\n",
        "    print(f\"What is the meaning of '{word}'?\")\n",
        "    answer = input().strip().lower()\n",
        "\n",
        "    if answer == meaning.lower():\n",
        "        print(\"Correct!\")\n",
        "    else:\n",
        "        print(f\"Wrong. The correct answer is '{meaning}'.\")"
      ],
      "metadata": {
        "id": "bPql5QDDI2FT"
      },
      "execution_count": 8,
      "outputs": []
    },
    {
      "cell_type": "markdown",
      "source": [
        "3. Create a function to practice sentence construction:"
      ],
      "metadata": {
        "id": "A6OF24FzJyxu"
      }
    },
    {
      "cell_type": "code",
      "source": [
        "def practice_sentences(sentences):\n",
        "    sentence = random.choice(sentences)\n",
        "    words = sentence.split()\n",
        "    random.shuffle(words)\n",
        "\n",
        "    print(\"Reconstruct the sentence:\")\n",
        "    print(\" \".join(words))\n",
        "    answer = input().strip()\n",
        "\n",
        "    if answer == sentence:\n",
        "        print(\"Correct!\")\n",
        "    else:\n",
        "        print(f\"Wrong. The correct sentence is '{sentence}'.\")"
      ],
      "metadata": {
        "id": "XQpX-j-vJ0Ac"
      },
      "execution_count": 9,
      "outputs": []
    },
    {
      "cell_type": "markdown",
      "source": [
        "4. Create a main function to run the application:"
      ],
      "metadata": {
        "id": "lZftbM3kJ5T6"
      }
    },
    {
      "cell_type": "code",
      "source": [
        "def main():\n",
        "    while True:\n",
        "        print(\"Choose an option:\")\n",
        "        print(\"1. Quiz vocabulary\")\n",
        "        print(\"2. Practice sentences\")\n",
        "        print(\"3. Quit\")\n",
        "\n",
        "        choice = input().strip()\n",
        "\n",
        "        if choice == '1':\n",
        "            quiz_vocabulary(vocab)\n",
        "        elif choice == '2':\n",
        "            practice_sentences(sentences)\n",
        "        elif choice == '3':\n",
        "            print(\"Goodbye!\")\n",
        "            break\n",
        "        else:\n",
        "            print(\"Invalid option. Please try again.\")"
      ],
      "metadata": {
        "id": "TqwPG7HWJ6WO"
      },
      "execution_count": 4,
      "outputs": []
    },
    {
      "cell_type": "markdown",
      "source": [
        "5. Call the main function to start the application:"
      ],
      "metadata": {
        "id": "TY0rnyPyKVyh"
      }
    },
    {
      "cell_type": "code",
      "source": [
        "import random\n",
        "\n",
        "def quiz_vocabulary(vocab):\n",
        "    word, meaning = random.choice(list(vocab.items()))\n",
        "    print(f\"What is the meaning of '{word}'?\")\n",
        "    answer = input().strip().lower()\n",
        "\n",
        "    if answer == meaning:\n",
        "        print(\"Correct!\")\n",
        "    else:\n",
        "        print(f\"Incorrect. The meaning of '{word}' is '{meaning}'.\")"
      ],
      "metadata": {
        "id": "9IhhyESLKzuD"
      },
      "execution_count": 11,
      "outputs": []
    },
    {
      "cell_type": "code",
      "source": [
        "if __name__ == \"__main__\":\n",
        "    main()"
      ],
      "metadata": {
        "id": "CZ2oaoyJKOM6",
        "outputId": "421a36ca-8e75-4deb-dcef-64242c47b052",
        "colab": {
          "base_uri": "https://localhost:8080/"
        }
      },
      "execution_count": null,
      "outputs": [
        {
          "output_type": "stream",
          "name": "stdout",
          "text": [
            "Choose an option:\n",
            "1. Quiz vocabulary\n",
            "2. Practice sentences\n",
            "3. Quit\n",
            "1\n",
            "What is the meaning of 'dog'?\n",
            "왕왕\n",
            "Incorrect. The meaning of 'dog' is 'a common domestic animal that is often kept as a pet'.\n",
            "Choose an option:\n",
            "1. Quiz vocabulary\n",
            "2. Practice sentences\n",
            "3. Quit\n",
            "2\n",
            "Reconstruct the sentence:\n",
            "is The apple red.\n",
            "right\n",
            "Wrong. The correct sentence is 'The apple is red.'.\n",
            "Choose an option:\n",
            "1. Quiz vocabulary\n",
            "2. Practice sentences\n",
            "3. Quit\n",
            "2\n",
            "Reconstruct the sentence:\n",
            "She a book. is reading\n",
            "she is reading a book\n",
            "Wrong. The correct sentence is 'She is reading a book.'.\n",
            "Choose an option:\n",
            "1. Quiz vocabulary\n",
            "2. Practice sentences\n",
            "3. Quit\n"
          ]
        }
      ]
    }
  ]
}