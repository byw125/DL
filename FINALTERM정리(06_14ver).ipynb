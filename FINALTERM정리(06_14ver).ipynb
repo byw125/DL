{
  "nbformat": 4,
  "nbformat_minor": 0,
  "metadata": {
    "colab": {
      "provenance": [],
      "collapsed_sections": [
        "-t54x6O5kG2e",
        "JGQzsNiFkVUh",
        "ZInL_my3owGo",
        "AtLHErpzjXDO",
        "T6AcMxdYje49",
        "opLKVCd4oGDF",
        "g9iHNwAxph1n",
        "ID0wThBfp81c"
      ],
      "authorship_tag": "ABX9TyMyzm7aEEaO+Ko80VETEw39",
      "include_colab_link": true
    },
    "kernelspec": {
      "name": "python3",
      "display_name": "Python 3"
    },
    "language_info": {
      "name": "python"
    },
    "widgets": {
      "application/vnd.jupyter.widget-state+json": {
        "49da684230554a8d9909afce41d21e65": {
          "model_module": "@jupyter-widgets/controls",
          "model_name": "TextModel",
          "model_module_version": "1.5.0",
          "state": {
            "_dom_classes": [],
            "_model_module": "@jupyter-widgets/controls",
            "_model_module_version": "1.5.0",
            "_model_name": "TextModel",
            "_view_count": null,
            "_view_module": "@jupyter-widgets/controls",
            "_view_module_version": "1.5.0",
            "_view_name": "TextView",
            "continuous_update": true,
            "description": "",
            "description_tooltip": null,
            "disabled": false,
            "layout": "IPY_MODEL_bc498a9286da4c2e848c32009d84dab2",
            "placeholder": "​",
            "style": "IPY_MODEL_dc32a531e4b14b38a132ae72fa051223",
            "value": ""
          }
        },
        "bc498a9286da4c2e848c32009d84dab2": {
          "model_module": "@jupyter-widgets/base",
          "model_name": "LayoutModel",
          "model_module_version": "1.2.0",
          "state": {
            "_model_module": "@jupyter-widgets/base",
            "_model_module_version": "1.2.0",
            "_model_name": "LayoutModel",
            "_view_count": null,
            "_view_module": "@jupyter-widgets/base",
            "_view_module_version": "1.2.0",
            "_view_name": "LayoutView",
            "align_content": null,
            "align_items": null,
            "align_self": null,
            "border": null,
            "bottom": null,
            "display": null,
            "flex": null,
            "flex_flow": null,
            "grid_area": null,
            "grid_auto_columns": null,
            "grid_auto_flow": null,
            "grid_auto_rows": null,
            "grid_column": null,
            "grid_gap": null,
            "grid_row": null,
            "grid_template_areas": null,
            "grid_template_columns": null,
            "grid_template_rows": null,
            "height": null,
            "justify_content": null,
            "justify_items": null,
            "left": null,
            "margin": null,
            "max_height": null,
            "max_width": null,
            "min_height": null,
            "min_width": null,
            "object_fit": null,
            "object_position": null,
            "order": null,
            "overflow": null,
            "overflow_x": null,
            "overflow_y": null,
            "padding": null,
            "right": null,
            "top": null,
            "visibility": null,
            "width": null
          }
        },
        "dc32a531e4b14b38a132ae72fa051223": {
          "model_module": "@jupyter-widgets/controls",
          "model_name": "DescriptionStyleModel",
          "model_module_version": "1.5.0",
          "state": {
            "_model_module": "@jupyter-widgets/controls",
            "_model_module_version": "1.5.0",
            "_model_name": "DescriptionStyleModel",
            "_view_count": null,
            "_view_module": "@jupyter-widgets/base",
            "_view_module_version": "1.2.0",
            "_view_name": "StyleView",
            "description_width": ""
          }
        }
      }
    }
  },
  "cells": [
    {
      "cell_type": "markdown",
      "metadata": {
        "id": "view-in-github",
        "colab_type": "text"
      },
      "source": [
        "<a href=\"https://colab.research.google.com/github/byw125/DL/blob/main/FINALTERM%EC%A0%95%EB%A6%AC(06_14ver).ipynb\" target=\"_parent\"><img src=\"https://colab.research.google.com/assets/colab-badge.svg\" alt=\"Open In Colab\"/></a>"
      ]
    },
    {
      "cell_type": "markdown",
      "source": [
        " # 01. How to import a module (like random) and use its functions"
      ],
      "metadata": {
        "id": "GlK_zTvQoP4b"
      }
    },
    {
      "cell_type": "markdown",
      "source": [
        "- 코딩에서 모듈(Module)은 하나의 파이썬 파일(.py)로, 변수, 함수, 클래스 등을 정의하고 실행할 수 있는 코드의 집합.\n",
        "- 다른 파이썬 파일에서 모듈을 사용할 때는 import 문을 사용.\n",
        "- 이 때 import 문 뒤에 모듈의 이름을 지정하면 해당 모듈의 함수, 변수, 클래스 등을 사용할 수 있음."
      ],
      "metadata": {
        "id": "bz-46pgSdKv_"
      }
    },
    {
      "cell_type": "code",
      "execution_count": null,
      "metadata": {
        "colab": {
          "base_uri": "https://localhost:8080/"
        },
        "id": "a_3WFb9HccdA",
        "outputId": "2315250e-2305-4189-e383-35e58d03c299"
      },
      "outputs": [
        {
          "output_type": "stream",
          "name": "stdout",
          "text": [
            "[4, 3, 2, 1, 5]\n"
          ]
        }
      ],
      "source": [
        "#주어진 숫자를 셔플하여 제공하는 function\n",
        "\n",
        "import random\n",
        "\n",
        "numbers = [1, 2, 3, 4, 5]\n",
        "random.shuffle(numbers)\n",
        "\n",
        "print(numbers)"
      ]
    },
    {
      "cell_type": "code",
      "source": [
        "#주어진 숫자 사이의 한 숫자를 제공하는 function\n",
        "\n",
        "import random\n",
        "\n",
        "random_number = random.randint(1, 10)\n",
        "print(random_number)"
      ],
      "metadata": {
        "colab": {
          "base_uri": "https://localhost:8080/"
        },
        "id": "Nza8ws0Jdtln",
        "outputId": "aa50c291-6322-43d4-e0a4-fd8450857c28"
      },
      "execution_count": null,
      "outputs": [
        {
          "output_type": "stream",
          "name": "stdout",
          "text": [
            "9\n"
          ]
        }
      ]
    },
    {
      "cell_type": "markdown",
      "source": [
        "# 02. Python basics: Basic data types, variables, and basic input/output functions."
      ],
      "metadata": {
        "id": "PhoZjkxAoKDp"
      }
    },
    {
      "cell_type": "markdown",
      "source": [
        "## 문자열(strings) <br>\n",
        ": 문자(character)들의 시퀀스(sequence)  /  따옴표(' ' 또는 \" \")로 묶인 문자열을 생성 가능<br>\n",
        ": 문자열 내부에는 인덱싱(indexing)과 슬라이싱(slicing)을 통해 특정 문자에 접근할 수 있음. 예를 들어, \"Hello World!\"라는 문자열에서 'W'를 출력하려면 문자열[6]으로 접근 가능.<br>\n",
        ": 문자열 내부에서 \\n을 사용하면 줄바꿈할 수 있음<br>"
      ],
      "metadata": {
        "id": "qPaDQYKmexw-"
      }
    },
    {
      "cell_type": "code",
      "source": [
        "my_string = \"Hello, World!\"\n",
        "print(my_string) # Hello, World!"
      ],
      "metadata": {
        "colab": {
          "base_uri": "https://localhost:8080/"
        },
        "id": "0lG5tvlSljld",
        "outputId": "1b5664d1-b660-4663-ff87-6473d7b17031"
      },
      "execution_count": null,
      "outputs": [
        {
          "output_type": "stream",
          "name": "stdout",
          "text": [
            "Hello, World!\n"
          ]
        }
      ]
    },
    {
      "cell_type": "markdown",
      "source": [
        "## 정수(integers)<br>\n",
        ": 정수형(Integer)과 부동소수점형(Float)은 파이썬에서 사용되는 숫자 데이터 타입 (키워드는 int)<br>\n",
        ": 정수는 소수점 이하가 없는 숫자.<br>\n",
        ": Python에서는 일반적인 사칙연산과 같은 연산자를 사용하여 정수 연산을 수행할 수 있음. <br>\n",
        ": 부동소수점형(Float)은 소수점 이하를 가지는 실수를 표현 (키워드는 float)"
      ],
      "metadata": {
        "id": "-t54x6O5kG2e"
      }
    },
    {
      "cell_type": "code",
      "source": [
        "# 더하기\n",
        "a = 10\n",
        "b = 20\n",
        "c = a + b\n",
        "print(c)   # 30"
      ],
      "metadata": {
        "colab": {
          "base_uri": "https://localhost:8080/"
        },
        "id": "Jb3tc9O4mGe_",
        "outputId": "fa0f93f8-fd33-450e-bd40-3ae29c5f87f2"
      },
      "execution_count": null,
      "outputs": [
        {
          "output_type": "stream",
          "name": "stdout",
          "text": [
            "30\n"
          ]
        }
      ]
    },
    {
      "cell_type": "code",
      "source": [
        "# 빼기\n",
        "a = 10\n",
        "b = 20\n",
        "c = b - a\n",
        "print(c)   # 10\n"
      ],
      "metadata": {
        "colab": {
          "base_uri": "https://localhost:8080/"
        },
        "id": "UiwoSpjJmLoN",
        "outputId": "b7e62f2b-d219-45b0-8656-301d827fa4b9"
      },
      "execution_count": null,
      "outputs": [
        {
          "output_type": "stream",
          "name": "stdout",
          "text": [
            "10\n"
          ]
        }
      ]
    },
    {
      "cell_type": "code",
      "source": [
        "# 곱하기\n",
        "a = 10\n",
        "b = 20\n",
        "c = a * b\n",
        "print(c)   # 200"
      ],
      "metadata": {
        "colab": {
          "base_uri": "https://localhost:8080/"
        },
        "id": "gvU_e3_GmUby",
        "outputId": "c0f656c9-06e7-478e-d04f-d2b9b3057c04"
      },
      "execution_count": null,
      "outputs": [
        {
          "output_type": "stream",
          "name": "stdout",
          "text": [
            "200\n"
          ]
        }
      ]
    },
    {
      "cell_type": "code",
      "source": [
        "# (결과값은 실수형이 되고 /자리에 %를 써서 나머지를 반환받을 수 있다.)\n",
        "a = 10\n",
        "b = 20\n",
        "c = b / a\n",
        "print(c)   # 2.0"
      ],
      "metadata": {
        "colab": {
          "base_uri": "https://localhost:8080/"
        },
        "id": "YsLvrwTpmf2N",
        "outputId": "b5395573-1c05-4b19-abf4-e022750be42a"
      },
      "execution_count": null,
      "outputs": [
        {
          "output_type": "stream",
          "name": "stdout",
          "text": [
            "2.0\n"
          ]
        }
      ]
    },
    {
      "cell_type": "markdown",
      "source": [
        "## 리스트(lists) <br>\n",
        ": 리스트는 대괄호([ ])로 묶인 값들의 시퀀스 (각 값은 쉼표로 구분) <br>\n",
        ": 덱싱과 슬라이싱을 통해 특정 요소에 접근하거나 변경할 수 있음."
      ],
      "metadata": {
        "id": "c65gHsmMkNG2"
      }
    },
    {
      "cell_type": "markdown",
      "source": [
        "list는 프린트 할 수 없음"
      ],
      "metadata": {
        "id": "b12rXIPi9M6Y"
      }
    },
    {
      "cell_type": "code",
      "source": [
        "fruits = ['apple', 'banana', 'cherry']"
      ],
      "metadata": {
        "id": "qJ2N3sM1kUxJ"
      },
      "execution_count": null,
      "outputs": []
    },
    {
      "cell_type": "code",
      "source": [
        "# 리스트의 각 항목에는 인덱스를 사용하여 접근 가능 (인덱스는 0부터 시작)\n",
        "print(fruits[0])   # 'apple'\n",
        "print(fruits[1])   # 'banana'\n",
        "print(fruits[2])   # 'cherry'"
      ],
      "metadata": {
        "colab": {
          "base_uri": "https://localhost:8080/"
        },
        "id": "vPn1Ynm0m7p3",
        "outputId": "6d65e916-43e9-4c81-f187-2808a739e2a7"
      },
      "execution_count": null,
      "outputs": [
        {
          "output_type": "stream",
          "name": "stdout",
          "text": [
            "apple\n",
            "banana\n",
            "cherry\n"
          ]
        }
      ]
    },
    {
      "cell_type": "code",
      "source": [
        "# 빈 리스트 만들기\n",
        "empty_list = []\n",
        "\n",
        "# 정수형 데이터를 포함하는 리스트\n",
        "int_list = [1, 2, 3, 4, 5]\n",
        "\n",
        "# 실수형 데이터를 포함하는 리스트\n",
        "float_list = [1.2, 2.3, 3.4, 4.5, 5.6]\n",
        "\n",
        "# 문자열 데이터를 포함하는 리스트\n",
        "string_list = [\"apple\", \"banana\", \"cherry\", \"durian\"]\n",
        "\n",
        "# 혼합 데이터 타입을 포함하는 리스트\n",
        "mixed_list = [1, \"apple\", 2.5, True, \"banana\"]"
      ],
      "metadata": {
        "id": "lEd1t6-29tBM"
      },
      "execution_count": null,
      "outputs": []
    },
    {
      "cell_type": "markdown",
      "source": [
        "\n",
        "## 딕셔너리(dictionaries) <br>\n",
        ": **{'key':'value'}** <br>\n",
        ": 중괄호({ })로 묶인 key-value 쌍의 집합 (각 쌍은 쉼표로 구분됨) <br>\n",
        ": 딕셔너리는 키(key)를 사용하여 값을 저장하고 검색함. 값을 얻으려면 키를 사용하여 해당 값에 엑세스하고 새 항목을 추가하려면 새 키와 값을 지정해야 함."
      ],
      "metadata": {
        "id": "JGQzsNiFkVUh"
      }
    },
    {
      "cell_type": "code",
      "source": [
        "my_dict = {\"apple\": 1, \"banana\": 2, \"orange\": 3}\n",
        "print(my_dict)\n",
        "#  \"apple\", \"banana\", \"orange\"가 키(Key)이며, 각각의 값(Value)은 1, 2, 3"
      ],
      "metadata": {
        "colab": {
          "base_uri": "https://localhost:8080/"
        },
        "id": "GXgXt3DUkuIp",
        "outputId": "47081028-4dc0-470c-be65-2485304fe419"
      },
      "execution_count": null,
      "outputs": [
        {
          "output_type": "stream",
          "name": "stdout",
          "text": [
            "{'apple': 1, 'banana': 2, 'orange': 3}\n"
          ]
        }
      ]
    },
    {
      "cell_type": "code",
      "source": [
        "my_dict = {\"apple\": 1, \"banana\": 2, \"orange\": 3}\n",
        "print(my_dict[\"apple\"])   # 1\n",
        "print(my_dict[\"banana\"])  # 2\n",
        "print(my_dict[\"orange\"])  # 3"
      ],
      "metadata": {
        "colab": {
          "base_uri": "https://localhost:8080/"
        },
        "id": "Bg0SSFbNk7pJ",
        "outputId": "947c8477-e4f6-4907-b9ea-3695ab82e47e"
      },
      "execution_count": null,
      "outputs": [
        {
          "output_type": "stream",
          "name": "stdout",
          "text": [
            "1\n",
            "2\n",
            "3\n"
          ]
        }
      ]
    },
    {
      "cell_type": "code",
      "source": [
        "# 새로운 요소를 추가하기 위해서는 딕셔너리의 이름을 사용하여 대괄호([]) 안에 새로운 키를 넣고, 새로운 값을 할당\n",
        "my_dict = {\"apple\": 1, \"banana\": 2, \"orange\": 3}\n",
        "my_dict[\"grape\"] = 4\n",
        "print(my_dict)"
      ],
      "metadata": {
        "colab": {
          "base_uri": "https://localhost:8080/"
        },
        "id": "Qz1EfRydlBKp",
        "outputId": "76e83814-b118-4e58-cb3a-c3b1a11ea431"
      },
      "execution_count": null,
      "outputs": [
        {
          "output_type": "stream",
          "name": "stdout",
          "text": [
            "{'apple': 1, 'banana': 2, 'orange': 3, 'grape': 4}\n"
          ]
        }
      ]
    },
    {
      "cell_type": "code",
      "source": [
        "# 딕셔너리에서 특정 요소를 삭제하기 위해서는 del 키워드를 사용. 대괄호([]) 안에 삭제할 요소의 키를 넣으면 됨.\n",
        "my_dict = {\"apple\": 1, \"banana\": 2, \"orange\": 3}\n",
        "del my_dict[\"banana\"]\n",
        "print(my_dict)"
      ],
      "metadata": {
        "colab": {
          "base_uri": "https://localhost:8080/"
        },
        "id": "_LnEa1LIlPNV",
        "outputId": "c08fc686-584c-4612-d030-7de8322a179d"
      },
      "execution_count": null,
      "outputs": [
        {
          "output_type": "stream",
          "name": "stdout",
          "text": [
            "{'apple': 1, 'orange': 3}\n"
          ]
        }
      ]
    },
    {
      "cell_type": "markdown",
      "source": [
        "## 변수(variables) <br>\n",
        ": 데이터를 저장하는 공간 (Python에서 변수는 값을 할당하는 것으로 생성) <br>\n",
        ": 변수는 문자로 시작해야 하며, 숫자와 문자로 구성될 수 있음."
      ],
      "metadata": {
        "id": "EUmDQ-MMkktn"
      }
    },
    {
      "cell_type": "code",
      "source": [
        "x = 5\n",
        "# 변수에 다른 값을 할당하면 이전에 저장된 값은 더 이상 유지되지 않음."
      ],
      "metadata": {
        "id": "JXBgrUjdkgiy"
      },
      "execution_count": null,
      "outputs": []
    },
    {
      "cell_type": "code",
      "source": [
        "# 변수를 사용하여 계산을 수행할 수 있음.\n",
        "x = 5\n",
        "y = 3\n",
        "z = x + y\n",
        "print(z)   # 8"
      ],
      "metadata": {
        "colab": {
          "base_uri": "https://localhost:8080/"
        },
        "id": "sOhiWQ2Cnidk",
        "outputId": "7fdbb612-38e2-4cc3-93b3-2f1798b0e5e6"
      },
      "execution_count": null,
      "outputs": [
        {
          "output_type": "stream",
          "name": "stdout",
          "text": [
            "8\n"
          ]
        }
      ]
    },
    {
      "cell_type": "markdown",
      "source": [
        "## type() 함수 <br>\n",
        ": 파이썬에서 객체의 데이터 타입을 반환하는 내장 함수"
      ],
      "metadata": {
        "id": "7xFGWKOdrPp7"
      }
    },
    {
      "cell_type": "code",
      "source": [
        "# x의 데이터 타입을 알 수 있음.\n",
        "x = 10\n",
        "print(type(x)) # <class 'int'>"
      ],
      "metadata": {
        "colab": {
          "base_uri": "https://localhost:8080/"
        },
        "id": "_qMxXQTRrkcU",
        "outputId": "8ebf737e-206e-4453-bf63-a492fd934492"
      },
      "execution_count": null,
      "outputs": [
        {
          "output_type": "stream",
          "name": "stdout",
          "text": [
            "<class 'int'>\n"
          ]
        }
      ]
    },
    {
      "cell_type": "code",
      "source": [
        "x = \"Hello, World!\"\n",
        "print(type(x)) # <class 'str'>"
      ],
      "metadata": {
        "colab": {
          "base_uri": "https://localhost:8080/"
        },
        "id": "_4qcc-knr5kt",
        "outputId": "535f9407-4801-4b59-950b-fca97adb1253"
      },
      "execution_count": null,
      "outputs": [
        {
          "output_type": "stream",
          "name": "stdout",
          "text": [
            "<class 'str'>\n"
          ]
        }
      ]
    },
    {
      "cell_type": "markdown",
      "source": [
        "\n",
        "## print() 함수 <br>\n",
        ": 괄호 안에 있는 값을 출력 <br>"
      ],
      "metadata": {
        "id": "mpLvO03GkgxC"
      }
    },
    {
      "cell_type": "markdown",
      "source": [
        "## input() 함수 <br>\n",
        ": input() 함수는 사용자로부터 값을 입력 받음. <br>\n",
        ": 함수 호출 시 괄호 안에 사용자에게 보여줄 메시지를 지정할 수 있음. <br>\n",
        ": 사용자가 입력한 값은 문자열(string) 형태로 반환됨. 반환된 문자열을 적절한 데이터 타입으로 변환하여 사용 가능."
      ],
      "metadata": {
        "id": "ZInL_my3owGo"
      }
    },
    {
      "cell_type": "code",
      "source": [
        "name = input(\"이름을 입력하세요: \")\n",
        "print(\"안녕하세요, \" + name + \"님!\")"
      ],
      "metadata": {
        "colab": {
          "base_uri": "https://localhost:8080/"
        },
        "id": "zJnzLVVkn0AF",
        "outputId": "91d45632-cef9-43e8-acb2-8e2489d3903e"
      },
      "execution_count": null,
      "outputs": [
        {
          "output_type": "stream",
          "name": "stdout",
          "text": [
            "이름을 입력하세요: 예원\n",
            "안녕하세요, 예원님!\n"
          ]
        }
      ]
    },
    {
      "cell_type": "code",
      "source": [
        "num = input(\"정수를 입력하세요: \")\n",
        "print(\"입력된 정수:\", num)\n",
        "print(\"데이터 타입:\", type(num))"
      ],
      "metadata": {
        "colab": {
          "base_uri": "https://localhost:8080/"
        },
        "id": "OYn7aiFtsiyU",
        "outputId": "52af02c6-2b54-4fc9-c6a6-55a3c6bff12a"
      },
      "execution_count": null,
      "outputs": [
        {
          "output_type": "stream",
          "name": "stdout",
          "text": [
            "정수를 입력하세요: 5\n",
            "입력된 정수: 5\n",
            "데이터 타입: <class 'str'>\n"
          ]
        }
      ]
    },
    {
      "cell_type": "markdown",
      "source": [
        "## 인덱싱(Indexing)\n",
        ": 시퀀스 자료형에서 특정 위치의 값을 가져오는 방법"
      ],
      "metadata": {
        "id": "AtLHErpzjXDO"
      }
    },
    {
      "cell_type": "code",
      "source": [
        "s = \"Hello, World!\"\n",
        "print(s[0])  # 'H'\n",
        "print(s[1])  # 'e'\n",
        "print(s[7])  # 'W'\n",
        "print(s[-1]) # '!'"
      ],
      "metadata": {
        "colab": {
          "base_uri": "https://localhost:8080/"
        },
        "id": "MDS44f62jfY2",
        "outputId": "34ef90fe-183c-4421-98a3-311c6ad1dd43"
      },
      "execution_count": null,
      "outputs": [
        {
          "output_type": "stream",
          "name": "stdout",
          "text": [
            "H\n",
            "e\n",
            "W\n",
            "!\n"
          ]
        }
      ]
    },
    {
      "cell_type": "markdown",
      "source": [
        "## 슬라이싱(Slicing)\n",
        ": 시퀀스 자료형에서 일부분을 가져오는 방법"
      ],
      "metadata": {
        "id": "T6AcMxdYje49"
      }
    },
    {
      "cell_type": "code",
      "source": [
        "s = \"Hello, World!\"\n",
        "print(s[0:5])  # 'Hello'\n",
        "print(s[7:12]) # 'World'\n"
      ],
      "metadata": {
        "colab": {
          "base_uri": "https://localhost:8080/"
        },
        "id": "JJ3kxcXtjsdm",
        "outputId": "8d557464-c6dd-476d-a2aa-42276525d0e4"
      },
      "execution_count": null,
      "outputs": [
        {
          "output_type": "stream",
          "name": "stdout",
          "text": [
            "Hello\n",
            "World\n"
          ]
        }
      ]
    },
    {
      "cell_type": "markdown",
      "source": [
        "# 03.String manipulation: Cover string methods"
      ],
      "metadata": {
        "id": "VoCfuHbooAE6"
      }
    },
    {
      "cell_type": "markdown",
      "source": [
        "## .strip()\n",
        "- 문자열의 양쪽 끝에 있는 공백(띄어쓰기, 탭, 개행 문자 등)을 제거"
      ],
      "metadata": {
        "id": "opLKVCd4oGDF"
      }
    },
    {
      "cell_type": "code",
      "source": [
        "my_str = \"  Hello, World!   \"\n",
        "new_str = my_str.strip()\n",
        "print(new_str) # \"Hello, World!\""
      ],
      "metadata": {
        "id": "s_tWxryapQNg",
        "outputId": "b9acfd1b-dfd2-4b13-f682-3774f878c305",
        "colab": {
          "base_uri": "https://localhost:8080/"
        }
      },
      "execution_count": null,
      "outputs": [
        {
          "output_type": "stream",
          "name": "stdout",
          "text": [
            "Hello, World!\n"
          ]
        }
      ]
    },
    {
      "cell_type": "code",
      "source": [
        "my_sstr = \" Hi, Everyone!  \"\n",
        "new_sstr = my_sstr.strip()\n",
        "print(new_sstr)"
      ],
      "metadata": {
        "colab": {
          "base_uri": "https://localhost:8080/"
        },
        "id": "WFeH4ndR09JR",
        "outputId": "83e17911-5007-425f-8298-f36f52eb6df2"
      },
      "execution_count": null,
      "outputs": [
        {
          "output_type": "stream",
          "name": "stdout",
          "text": [
            "Hi, Everyone!\n"
          ]
        }
      ]
    },
    {
      "cell_type": "markdown",
      "source": [
        "## .lower()\n",
        "- 문자열을 모두 소문자로 변경합니다."
      ],
      "metadata": {
        "id": "g9iHNwAxph1n"
      }
    },
    {
      "cell_type": "code",
      "source": [
        "my_str = \"Hello, World!\"\n",
        "new_str = my_str.lower()\n",
        "print(new_str) # \"hello, world!\""
      ],
      "metadata": {
        "colab": {
          "base_uri": "https://localhost:8080/"
        },
        "id": "3wVKSPgMpVyY",
        "outputId": "fcd4dec2-a608-477e-b572-d23ea0d07992"
      },
      "execution_count": null,
      "outputs": [
        {
          "output_type": "stream",
          "name": "stdout",
          "text": [
            "hello, world!\n"
          ]
        }
      ]
    },
    {
      "cell_type": "markdown",
      "source": [
        "## .upper()\n",
        "-  문자열을 모두 대문자로 변경"
      ],
      "metadata": {
        "id": "ID0wThBfp81c"
      }
    },
    {
      "cell_type": "code",
      "source": [
        "my_str = \"Hello, World!\"\n",
        "new_str = my_str.upper()\n",
        "print(new_str) # \"HELLO, WORLD!\""
      ],
      "metadata": {
        "colab": {
          "base_uri": "https://localhost:8080/"
        },
        "id": "zaa5fmqMqCvN",
        "outputId": "7199ed83-de19-451f-c1f8-39cb9705c5b2"
      },
      "execution_count": null,
      "outputs": [
        {
          "output_type": "stream",
          "name": "stdout",
          "text": [
            "HELLO, WORLD!\n"
          ]
        }
      ]
    },
    {
      "cell_type": "markdown",
      "source": [
        "## .split()"
      ],
      "metadata": {
        "id": "Cw_7yl0V24n3"
      }
    },
    {
      "cell_type": "code",
      "source": [
        "w = \"Hello world, how are you?\"\n",
        "a = w.split()\n",
        "print(a)\n",
        "# ['Hello', 'world,', 'how', 'are', 'you?']"
      ],
      "metadata": {
        "id": "76nHdU2e28lJ",
        "outputId": "6cb78137-bbdd-40be-851a-65e81adae989",
        "colab": {
          "base_uri": "https://localhost:8080/"
        }
      },
      "execution_count": 8,
      "outputs": [
        {
          "output_type": "stream",
          "name": "stdout",
          "text": [
            "['Hello', 'world,', 'how', 'are', 'you?']\n"
          ]
        }
      ]
    },
    {
      "cell_type": "code",
      "source": [
        "example_string = \"My name is Sarah. I live in a big city. I like to read books and play with my cat.\"\n",
        "set1 = example_string.split(\".\")\n",
        "print(set1)"
      ],
      "metadata": {
        "id": "zEtRz327dUIg",
        "outputId": "3fb276ee-5a50-48cd-9195-e2c8aa260bdb",
        "colab": {
          "base_uri": "https://localhost:8080/"
        }
      },
      "execution_count": 9,
      "outputs": [
        {
          "output_type": "stream",
          "name": "stdout",
          "text": [
            "['My name is Sarah', ' I live in a big city', ' I like to read books and play with my cat', '']\n"
          ]
        }
      ]
    },
    {
      "cell_type": "code",
      "source": [
        "# Remove empty string in a list\n",
        "\n",
        "set2 = [x for x in set1 if x != \"\"]\n",
        "set2"
      ],
      "metadata": {
        "id": "VJezdyeEwnGW",
        "outputId": "ffe95bc6-6647-4b58-f9c3-b6b6758f7359",
        "colab": {
          "base_uri": "https://localhost:8080/"
        }
      },
      "execution_count": 11,
      "outputs": [
        {
          "output_type": "execute_result",
          "data": {
            "text/plain": [
              "['My name is Sarah',\n",
              " ' I live in a big city',\n",
              " ' I like to read books and play with my cat']"
            ]
          },
          "metadata": {},
          "execution_count": 11
        }
      ]
    },
    {
      "cell_type": "markdown",
      "source": [
        "## 응용"
      ],
      "metadata": {
        "id": "Egktqwz-1oyf"
      }
    },
    {
      "cell_type": "code",
      "source": [
        "w = \"MJ is pretty.\"\n",
        "a = w.split()\n",
        "w1 = a[0]; w2 = a[1]; w3 = a[2]\n",
        "\n",
        "nw2 = w2[0].upper() + w2[1:]\n",
        "\n",
        "s = nw2 + ' ' + w1 + ' ' + w3\n",
        "\n",
        "s1 = s[:-1]\n",
        "s2 = s1 + '?'\n",
        "s2"
      ],
      "metadata": {
        "colab": {
          "base_uri": "https://localhost:8080/",
          "height": 35
        },
        "id": "ntVrOOAA1wCJ",
        "outputId": "d809c982-6e31-4a3f-e821-d3b34bce1ce7"
      },
      "execution_count": null,
      "outputs": [
        {
          "output_type": "execute_result",
          "data": {
            "text/plain": [
              "'Is MJ pretty?'"
            ],
            "application/vnd.google.colaboratory.intrinsic+json": {
              "type": "string"
            }
          },
          "metadata": {},
          "execution_count": 27
        }
      ]
    },
    {
      "cell_type": "code",
      "source": [
        "m = \"Joey is a student.\"\n",
        "a = m.split()\n",
        "m1 = a[0] ; m2 = a[1] ; m3 = a[2] ; m4 = a[3]\n",
        "\n",
        "nm2 = m2[0].upper() + m2[1:]\n",
        "\n",
        "s = nm2 + \" \" + m1 + \" \" + m3 + \" \" + m4\n",
        "\n",
        "s1 = s[:-1]\n",
        "s2 = s1 + '?'\n",
        "s2"
      ],
      "metadata": {
        "colab": {
          "base_uri": "https://localhost:8080/",
          "height": 35
        },
        "id": "ZwnS9KBy3oqG",
        "outputId": "85c6482a-3c25-4a0d-be14-bd715b86f964"
      },
      "execution_count": null,
      "outputs": [
        {
          "output_type": "execute_result",
          "data": {
            "text/plain": [
              "'Is Joey a student?'"
            ],
            "application/vnd.google.colaboratory.intrinsic+json": {
              "type": "string"
            }
          },
          "metadata": {},
          "execution_count": 25
        }
      ]
    },
    {
      "cell_type": "code",
      "source": [
        "m = \"Joey is my bestfriend.\"\n",
        "a = m.split()\n",
        "m1 = a[0] ; m2 = a[1] ; m3 = a[2] ; m4 = a[3]\n",
        "\n",
        "nm2 = m2[0].upper() + m2[1:]\n",
        "\n",
        "s = nm2 + \" \" + m1 + \" \" + m3 + \" \" + m4\n",
        "\n",
        "s1 = s[:-1]\n",
        "s2 = s1 + '?'\n",
        "s2"
      ],
      "metadata": {
        "colab": {
          "base_uri": "https://localhost:8080/",
          "height": 35
        },
        "id": "wIaOyJ8_6F6A",
        "outputId": "c757d3bf-731a-4b3a-da7d-6d0d83ea3e3f"
      },
      "execution_count": null,
      "outputs": [
        {
          "output_type": "execute_result",
          "data": {
            "text/plain": [
              "'Is Joey my bestfriend?'"
            ],
            "application/vnd.google.colaboratory.intrinsic+json": {
              "type": "string"
            }
          },
          "metadata": {},
          "execution_count": 56
        }
      ]
    },
    {
      "cell_type": "markdown",
      "source": [
        "# 04. Text-to-speach app"
      ],
      "metadata": {
        "id": "b9_9lcdrVuSy"
      }
    },
    {
      "cell_type": "markdown",
      "source": [
        "## setting-ups"
      ],
      "metadata": {
        "id": "HKtZg-sbV23Z"
      }
    },
    {
      "cell_type": "code",
      "source": [
        "#@markdown 기본 제목 텍스트\n",
        "!pip install gtts\n",
        "!pip install IPython\n",
        "!pip install gradio"
      ],
      "metadata": {
        "id": "KUxDOo14V60i",
        "outputId": "bbbd8698-6645-4754-847c-803c34013714",
        "colab": {
          "base_uri": "https://localhost:8080/"
        }
      },
      "execution_count": 3,
      "outputs": [
        {
          "output_type": "stream",
          "name": "stdout",
          "text": [
            "Looking in indexes: https://pypi.org/simple, https://us-python.pkg.dev/colab-wheels/public/simple/\n",
            "Collecting gtts\n",
            "  Downloading gTTS-2.3.2-py3-none-any.whl (28 kB)\n",
            "Requirement already satisfied: requests<3,>=2.27 in /usr/local/lib/python3.10/dist-packages (from gtts) (2.27.1)\n",
            "Requirement already satisfied: click<8.2,>=7.1 in /usr/local/lib/python3.10/dist-packages (from gtts) (8.1.3)\n",
            "Requirement already satisfied: urllib3<1.27,>=1.21.1 in /usr/local/lib/python3.10/dist-packages (from requests<3,>=2.27->gtts) (1.26.15)\n",
            "Requirement already satisfied: certifi>=2017.4.17 in /usr/local/lib/python3.10/dist-packages (from requests<3,>=2.27->gtts) (2022.12.7)\n",
            "Requirement already satisfied: charset-normalizer~=2.0.0 in /usr/local/lib/python3.10/dist-packages (from requests<3,>=2.27->gtts) (2.0.12)\n",
            "Requirement already satisfied: idna<4,>=2.5 in /usr/local/lib/python3.10/dist-packages (from requests<3,>=2.27->gtts) (3.4)\n",
            "Installing collected packages: gtts\n",
            "Successfully installed gtts-2.3.2\n",
            "Looking in indexes: https://pypi.org/simple, https://us-python.pkg.dev/colab-wheels/public/simple/\n",
            "Requirement already satisfied: IPython in /usr/local/lib/python3.10/dist-packages (7.34.0)\n",
            "Requirement already satisfied: setuptools>=18.5 in /usr/local/lib/python3.10/dist-packages (from IPython) (67.7.2)\n",
            "Collecting jedi>=0.16 (from IPython)\n",
            "  Downloading jedi-0.18.2-py2.py3-none-any.whl (1.6 MB)\n",
            "\u001b[2K     \u001b[90m━━━━━━━━━━━━━━━━━━━━━━━━━━━━━━━━━━━━━━━━\u001b[0m \u001b[32m1.6/1.6 MB\u001b[0m \u001b[31m19.8 MB/s\u001b[0m eta \u001b[36m0:00:00\u001b[0m\n",
            "\u001b[?25hRequirement already satisfied: decorator in /usr/local/lib/python3.10/dist-packages (from IPython) (4.4.2)\n",
            "Requirement already satisfied: pickleshare in /usr/local/lib/python3.10/dist-packages (from IPython) (0.7.5)\n",
            "Requirement already satisfied: traitlets>=4.2 in /usr/local/lib/python3.10/dist-packages (from IPython) (5.7.1)\n",
            "Requirement already satisfied: prompt-toolkit!=3.0.0,!=3.0.1,<3.1.0,>=2.0.0 in /usr/local/lib/python3.10/dist-packages (from IPython) (3.0.38)\n",
            "Requirement already satisfied: pygments in /usr/local/lib/python3.10/dist-packages (from IPython) (2.14.0)\n",
            "Requirement already satisfied: backcall in /usr/local/lib/python3.10/dist-packages (from IPython) (0.2.0)\n",
            "Requirement already satisfied: matplotlib-inline in /usr/local/lib/python3.10/dist-packages (from IPython) (0.1.6)\n",
            "Requirement already satisfied: pexpect>4.3 in /usr/local/lib/python3.10/dist-packages (from IPython) (4.8.0)\n",
            "Requirement already satisfied: parso<0.9.0,>=0.8.0 in /usr/local/lib/python3.10/dist-packages (from jedi>=0.16->IPython) (0.8.3)\n",
            "Requirement already satisfied: ptyprocess>=0.5 in /usr/local/lib/python3.10/dist-packages (from pexpect>4.3->IPython) (0.7.0)\n",
            "Requirement already satisfied: wcwidth in /usr/local/lib/python3.10/dist-packages (from prompt-toolkit!=3.0.0,!=3.0.1,<3.1.0,>=2.0.0->IPython) (0.2.6)\n",
            "Installing collected packages: jedi\n",
            "Successfully installed jedi-0.18.2\n",
            "Looking in indexes: https://pypi.org/simple, https://us-python.pkg.dev/colab-wheels/public/simple/\n",
            "Collecting gradio\n",
            "  Downloading gradio-3.34.0-py3-none-any.whl (20.0 MB)\n",
            "\u001b[2K     \u001b[90m━━━━━━━━━━━━━━━━━━━━━━━━━━━━━━━━━━━━━━━━\u001b[0m \u001b[32m20.0/20.0 MB\u001b[0m \u001b[31m24.2 MB/s\u001b[0m eta \u001b[36m0:00:00\u001b[0m\n",
            "\u001b[?25hCollecting aiofiles (from gradio)\n",
            "  Downloading aiofiles-23.1.0-py3-none-any.whl (14 kB)\n",
            "Collecting aiohttp (from gradio)\n",
            "  Downloading aiohttp-3.8.4-cp310-cp310-manylinux_2_17_x86_64.manylinux2014_x86_64.whl (1.0 MB)\n",
            "\u001b[2K     \u001b[90m━━━━━━━━━━━━━━━━━━━━━━━━━━━━━━━━━━━━━━━━\u001b[0m \u001b[32m1.0/1.0 MB\u001b[0m \u001b[31m38.6 MB/s\u001b[0m eta \u001b[36m0:00:00\u001b[0m\n",
            "\u001b[?25hRequirement already satisfied: altair>=4.2.0 in /usr/local/lib/python3.10/dist-packages (from gradio) (4.2.2)\n",
            "Collecting fastapi (from gradio)\n",
            "  Downloading fastapi-0.97.0-py3-none-any.whl (56 kB)\n",
            "\u001b[2K     \u001b[90m━━━━━━━━━━━━━━━━━━━━━━━━━━━━━━━━━━━━━━━━\u001b[0m \u001b[32m57.0/57.0 kB\u001b[0m \u001b[31m6.1 MB/s\u001b[0m eta \u001b[36m0:00:00\u001b[0m\n",
            "\u001b[?25hCollecting ffmpy (from gradio)\n",
            "  Downloading ffmpy-0.3.0.tar.gz (4.8 kB)\n",
            "  Preparing metadata (setup.py) ... \u001b[?25l\u001b[?25hdone\n",
            "Collecting gradio-client>=0.2.6 (from gradio)\n",
            "  Downloading gradio_client-0.2.6-py3-none-any.whl (288 kB)\n",
            "\u001b[2K     \u001b[90m━━━━━━━━━━━━━━━━━━━━━━━━━━━━━━━━━━━━━━\u001b[0m \u001b[32m288.3/288.3 kB\u001b[0m \u001b[31m23.5 MB/s\u001b[0m eta \u001b[36m0:00:00\u001b[0m\n",
            "\u001b[?25hCollecting httpx (from gradio)\n",
            "  Downloading httpx-0.24.1-py3-none-any.whl (75 kB)\n",
            "\u001b[2K     \u001b[90m━━━━━━━━━━━━━━━━━━━━━━━━━━━━━━━━━━━━━━━━\u001b[0m \u001b[32m75.4/75.4 kB\u001b[0m \u001b[31m6.6 MB/s\u001b[0m eta \u001b[36m0:00:00\u001b[0m\n",
            "\u001b[?25hCollecting huggingface-hub>=0.14.0 (from gradio)\n",
            "  Downloading huggingface_hub-0.15.1-py3-none-any.whl (236 kB)\n",
            "\u001b[2K     \u001b[90m━━━━━━━━━━━━━━━━━━━━━━━━━━━━━━━━━━━━━━\u001b[0m \u001b[32m236.8/236.8 kB\u001b[0m \u001b[31m22.3 MB/s\u001b[0m eta \u001b[36m0:00:00\u001b[0m\n",
            "\u001b[?25hRequirement already satisfied: jinja2 in /usr/local/lib/python3.10/dist-packages (from gradio) (3.1.2)\n",
            "Requirement already satisfied: markdown-it-py[linkify]>=2.0.0 in /usr/local/lib/python3.10/dist-packages (from gradio) (2.2.0)\n",
            "Requirement already satisfied: markupsafe in /usr/local/lib/python3.10/dist-packages (from gradio) (2.1.2)\n",
            "Requirement already satisfied: matplotlib in /usr/local/lib/python3.10/dist-packages (from gradio) (3.7.1)\n",
            "Collecting mdit-py-plugins<=0.3.3 (from gradio)\n",
            "  Downloading mdit_py_plugins-0.3.3-py3-none-any.whl (50 kB)\n",
            "\u001b[2K     \u001b[90m━━━━━━━━━━━━━━━━━━━━━━━━━━━━━━━━━━━━━━━━\u001b[0m \u001b[32m50.5/50.5 kB\u001b[0m \u001b[31m5.3 MB/s\u001b[0m eta \u001b[36m0:00:00\u001b[0m\n",
            "\u001b[?25hRequirement already satisfied: numpy in /usr/local/lib/python3.10/dist-packages (from gradio) (1.22.4)\n",
            "Collecting orjson (from gradio)\n",
            "  Downloading orjson-3.9.1-cp310-cp310-manylinux_2_17_x86_64.manylinux2014_x86_64.whl (136 kB)\n",
            "\u001b[2K     \u001b[90m━━━━━━━━━━━━━━━━━━━━━━━━━━━━━━━━━━━━━━\u001b[0m \u001b[32m137.0/137.0 kB\u001b[0m \u001b[31m15.1 MB/s\u001b[0m eta \u001b[36m0:00:00\u001b[0m\n",
            "\u001b[?25hRequirement already satisfied: pandas in /usr/local/lib/python3.10/dist-packages (from gradio) (1.5.3)\n",
            "Requirement already satisfied: pillow in /usr/local/lib/python3.10/dist-packages (from gradio) (8.4.0)\n",
            "Requirement already satisfied: pydantic in /usr/local/lib/python3.10/dist-packages (from gradio) (1.10.7)\n",
            "Collecting pydub (from gradio)\n",
            "  Downloading pydub-0.25.1-py2.py3-none-any.whl (32 kB)\n",
            "Requirement already satisfied: pygments>=2.12.0 in /usr/local/lib/python3.10/dist-packages (from gradio) (2.14.0)\n",
            "Collecting python-multipart (from gradio)\n",
            "  Downloading python_multipart-0.0.6-py3-none-any.whl (45 kB)\n",
            "\u001b[2K     \u001b[90m━━━━━━━━━━━━━━━━━━━━━━━━━━━━━━━━━━━━━━━━\u001b[0m \u001b[32m45.7/45.7 kB\u001b[0m \u001b[31m4.2 MB/s\u001b[0m eta \u001b[36m0:00:00\u001b[0m\n",
            "\u001b[?25hRequirement already satisfied: pyyaml in /usr/local/lib/python3.10/dist-packages (from gradio) (6.0)\n",
            "Requirement already satisfied: requests in /usr/local/lib/python3.10/dist-packages (from gradio) (2.27.1)\n",
            "Collecting semantic-version (from gradio)\n",
            "  Downloading semantic_version-2.10.0-py2.py3-none-any.whl (15 kB)\n",
            "Requirement already satisfied: typing-extensions in /usr/local/lib/python3.10/dist-packages (from gradio) (4.5.0)\n",
            "Collecting uvicorn>=0.14.0 (from gradio)\n",
            "  Downloading uvicorn-0.22.0-py3-none-any.whl (58 kB)\n",
            "\u001b[2K     \u001b[90m━━━━━━━━━━━━━━━━━━━━━━━━━━━━━━━━━━━━━━━━\u001b[0m \u001b[32m58.3/58.3 kB\u001b[0m \u001b[31m5.9 MB/s\u001b[0m eta \u001b[36m0:00:00\u001b[0m\n",
            "\u001b[?25hCollecting websockets>=10.0 (from gradio)\n",
            "  Downloading websockets-11.0.3-cp310-cp310-manylinux_2_5_x86_64.manylinux1_x86_64.manylinux_2_17_x86_64.manylinux2014_x86_64.whl (129 kB)\n",
            "\u001b[2K     \u001b[90m━━━━━━━━━━━━━━━━━━━━━━━━━━━━━━━━━━━━━━\u001b[0m \u001b[32m129.9/129.9 kB\u001b[0m \u001b[31m13.5 MB/s\u001b[0m eta \u001b[36m0:00:00\u001b[0m\n",
            "\u001b[?25hRequirement already satisfied: entrypoints in /usr/local/lib/python3.10/dist-packages (from altair>=4.2.0->gradio) (0.4)\n",
            "Requirement already satisfied: jsonschema>=3.0 in /usr/local/lib/python3.10/dist-packages (from altair>=4.2.0->gradio) (4.3.3)\n",
            "Requirement already satisfied: toolz in /usr/local/lib/python3.10/dist-packages (from altair>=4.2.0->gradio) (0.12.0)\n",
            "Requirement already satisfied: fsspec in /usr/local/lib/python3.10/dist-packages (from gradio-client>=0.2.6->gradio) (2023.4.0)\n",
            "Requirement already satisfied: packaging in /usr/local/lib/python3.10/dist-packages (from gradio-client>=0.2.6->gradio) (23.1)\n",
            "Requirement already satisfied: filelock in /usr/local/lib/python3.10/dist-packages (from huggingface-hub>=0.14.0->gradio) (3.12.0)\n",
            "Requirement already satisfied: tqdm>=4.42.1 in /usr/local/lib/python3.10/dist-packages (from huggingface-hub>=0.14.0->gradio) (4.65.0)\n",
            "Requirement already satisfied: mdurl~=0.1 in /usr/local/lib/python3.10/dist-packages (from markdown-it-py[linkify]>=2.0.0->gradio) (0.1.2)\n",
            "Collecting linkify-it-py<3,>=1 (from markdown-it-py[linkify]>=2.0.0->gradio)\n",
            "  Downloading linkify_it_py-2.0.2-py3-none-any.whl (19 kB)\n",
            "Requirement already satisfied: python-dateutil>=2.8.1 in /usr/local/lib/python3.10/dist-packages (from pandas->gradio) (2.8.2)\n",
            "Requirement already satisfied: pytz>=2020.1 in /usr/local/lib/python3.10/dist-packages (from pandas->gradio) (2022.7.1)\n",
            "Requirement already satisfied: click>=7.0 in /usr/local/lib/python3.10/dist-packages (from uvicorn>=0.14.0->gradio) (8.1.3)\n",
            "Collecting h11>=0.8 (from uvicorn>=0.14.0->gradio)\n",
            "  Downloading h11-0.14.0-py3-none-any.whl (58 kB)\n",
            "\u001b[2K     \u001b[90m━━━━━━━━━━━━━━━━━━━━━━━━━━━━━━━━━━━━━━━━\u001b[0m \u001b[32m58.3/58.3 kB\u001b[0m \u001b[31m7.1 MB/s\u001b[0m eta \u001b[36m0:00:00\u001b[0m\n",
            "\u001b[?25hRequirement already satisfied: attrs>=17.3.0 in /usr/local/lib/python3.10/dist-packages (from aiohttp->gradio) (23.1.0)\n",
            "Requirement already satisfied: charset-normalizer<4.0,>=2.0 in /usr/local/lib/python3.10/dist-packages (from aiohttp->gradio) (2.0.12)\n",
            "Collecting multidict<7.0,>=4.5 (from aiohttp->gradio)\n",
            "  Downloading multidict-6.0.4-cp310-cp310-manylinux_2_17_x86_64.manylinux2014_x86_64.whl (114 kB)\n",
            "\u001b[2K     \u001b[90m━━━━━━━━━━━━━━━━━━━━━━━━━━━━━━━━━━━━━━\u001b[0m \u001b[32m114.5/114.5 kB\u001b[0m \u001b[31m10.4 MB/s\u001b[0m eta \u001b[36m0:00:00\u001b[0m\n",
            "\u001b[?25hCollecting async-timeout<5.0,>=4.0.0a3 (from aiohttp->gradio)\n",
            "  Downloading async_timeout-4.0.2-py3-none-any.whl (5.8 kB)\n",
            "Collecting yarl<2.0,>=1.0 (from aiohttp->gradio)\n",
            "  Downloading yarl-1.9.2-cp310-cp310-manylinux_2_17_x86_64.manylinux2014_x86_64.whl (268 kB)\n",
            "\u001b[2K     \u001b[90m━━━━━━━━━━━━━━━━━━━━━━━━━━━━━━━━━━━━━━\u001b[0m \u001b[32m268.8/268.8 kB\u001b[0m \u001b[31m23.8 MB/s\u001b[0m eta \u001b[36m0:00:00\u001b[0m\n",
            "\u001b[?25hCollecting frozenlist>=1.1.1 (from aiohttp->gradio)\n",
            "  Downloading frozenlist-1.3.3-cp310-cp310-manylinux_2_5_x86_64.manylinux1_x86_64.manylinux_2_17_x86_64.manylinux2014_x86_64.whl (149 kB)\n",
            "\u001b[2K     \u001b[90m━━━━━━━━━━━━━━━━━━━━━━━━━━━━━━━━━━━━━━\u001b[0m \u001b[32m149.6/149.6 kB\u001b[0m \u001b[31m15.0 MB/s\u001b[0m eta \u001b[36m0:00:00\u001b[0m\n",
            "\u001b[?25hCollecting aiosignal>=1.1.2 (from aiohttp->gradio)\n",
            "  Downloading aiosignal-1.3.1-py3-none-any.whl (7.6 kB)\n",
            "Collecting starlette<0.28.0,>=0.27.0 (from fastapi->gradio)\n",
            "  Downloading starlette-0.27.0-py3-none-any.whl (66 kB)\n",
            "\u001b[2K     \u001b[90m━━━━━━━━━━━━━━━━━━━━━━━━━━━━━━━━━━━━━━━━\u001b[0m \u001b[32m67.0/67.0 kB\u001b[0m \u001b[31m7.0 MB/s\u001b[0m eta \u001b[36m0:00:00\u001b[0m\n",
            "\u001b[?25hRequirement already satisfied: certifi in /usr/local/lib/python3.10/dist-packages (from httpx->gradio) (2022.12.7)\n",
            "Collecting httpcore<0.18.0,>=0.15.0 (from httpx->gradio)\n",
            "  Downloading httpcore-0.17.2-py3-none-any.whl (72 kB)\n",
            "\u001b[2K     \u001b[90m━━━━━━━━━━━━━━━━━━━━━━━━━━━━━━━━━━━━━━━━\u001b[0m \u001b[32m72.5/72.5 kB\u001b[0m \u001b[31m7.3 MB/s\u001b[0m eta \u001b[36m0:00:00\u001b[0m\n",
            "\u001b[?25hRequirement already satisfied: idna in /usr/local/lib/python3.10/dist-packages (from httpx->gradio) (3.4)\n",
            "Requirement already satisfied: sniffio in /usr/local/lib/python3.10/dist-packages (from httpx->gradio) (1.3.0)\n",
            "Requirement already satisfied: contourpy>=1.0.1 in /usr/local/lib/python3.10/dist-packages (from matplotlib->gradio) (1.0.7)\n",
            "Requirement already satisfied: cycler>=0.10 in /usr/local/lib/python3.10/dist-packages (from matplotlib->gradio) (0.11.0)\n",
            "Requirement already satisfied: fonttools>=4.22.0 in /usr/local/lib/python3.10/dist-packages (from matplotlib->gradio) (4.39.3)\n",
            "Requirement already satisfied: kiwisolver>=1.0.1 in /usr/local/lib/python3.10/dist-packages (from matplotlib->gradio) (1.4.4)\n",
            "Requirement already satisfied: pyparsing>=2.3.1 in /usr/local/lib/python3.10/dist-packages (from matplotlib->gradio) (3.0.9)\n",
            "Requirement already satisfied: urllib3<1.27,>=1.21.1 in /usr/local/lib/python3.10/dist-packages (from requests->gradio) (1.26.15)\n",
            "Requirement already satisfied: anyio<5.0,>=3.0 in /usr/local/lib/python3.10/dist-packages (from httpcore<0.18.0,>=0.15.0->httpx->gradio) (3.6.2)\n",
            "Requirement already satisfied: pyrsistent!=0.17.0,!=0.17.1,!=0.17.2,>=0.14.0 in /usr/local/lib/python3.10/dist-packages (from jsonschema>=3.0->altair>=4.2.0->gradio) (0.19.3)\n",
            "Collecting uc-micro-py (from linkify-it-py<3,>=1->markdown-it-py[linkify]>=2.0.0->gradio)\n",
            "  Downloading uc_micro_py-1.0.2-py3-none-any.whl (6.2 kB)\n",
            "Requirement already satisfied: six>=1.5 in /usr/local/lib/python3.10/dist-packages (from python-dateutil>=2.8.1->pandas->gradio) (1.16.0)\n",
            "Building wheels for collected packages: ffmpy\n",
            "  Building wheel for ffmpy (setup.py) ... \u001b[?25l\u001b[?25hdone\n",
            "  Created wheel for ffmpy: filename=ffmpy-0.3.0-py3-none-any.whl size=4694 sha256=93ea5f6361b54c7e471d75246bffc2e6dbeb14821db023acd01e5463ca8ce623\n",
            "  Stored in directory: /root/.cache/pip/wheels/0c/c2/0e/3b9c6845c6a4e35beb90910cc70d9ac9ab5d47402bd62af0df\n",
            "Successfully built ffmpy\n",
            "Installing collected packages: pydub, ffmpy, websockets, uc-micro-py, semantic-version, python-multipart, orjson, multidict, h11, frozenlist, async-timeout, aiofiles, yarl, uvicorn, starlette, mdit-py-plugins, linkify-it-py, huggingface-hub, httpcore, aiosignal, httpx, fastapi, aiohttp, gradio-client, gradio\n",
            "Successfully installed aiofiles-23.1.0 aiohttp-3.8.4 aiosignal-1.3.1 async-timeout-4.0.2 fastapi-0.97.0 ffmpy-0.3.0 frozenlist-1.3.3 gradio-3.34.0 gradio-client-0.2.6 h11-0.14.0 httpcore-0.17.2 httpx-0.24.1 huggingface-hub-0.15.1 linkify-it-py-2.0.2 mdit-py-plugins-0.3.3 multidict-6.0.4 orjson-3.9.1 pydub-0.25.1 python-multipart-0.0.6 semantic-version-2.10.0 starlette-0.27.0 uc-micro-py-1.0.2 uvicorn-0.22.0 websockets-11.0.3 yarl-1.9.2\n"
          ]
        }
      ]
    },
    {
      "cell_type": "markdown",
      "source": [
        "해당 코드는 Python에서 사용할 수 있는 라이브러리들을 설치하는 코드입니다. 각각의 라이브러리는 다음과 같은 역할을 수행합니다.\n",
        "\n",
        "- gtts : Google Text-to-Speech API를 사용하여 텍스트를 음성으로 변환해주는 라이브러리입니다. <br>\n",
        "- IPython : IPython 환경에서 사용할 수 있는 여러 기능들을 제공하는 라이브러리입니다.<br>\n",
        "- gradio : 웹 기반 인터페이스를 제공하는 라이브러리로, 간단한 인터페이스를 통해 모델 테스트, 평가 등을 할 수 있습니다."
      ],
      "metadata": {
        "id": "ryXwTwW7WJS0"
      }
    },
    {
      "cell_type": "code",
      "source": [
        "from gtts import gTTS\n",
        "from IPython.display import Audio, display\n",
        "from ipywidgets import widgets\n",
        "import os\n",
        "import gradio as gr"
      ],
      "metadata": {
        "id": "aDr8Yt5RWXLN"
      },
      "execution_count": null,
      "outputs": []
    },
    {
      "cell_type": "markdown",
      "source": [
        "이 코드는 GTTS를 사용하여 텍스트를 음성으로 변환하고, IPython.display와 ipywidgets를 사용하여 Colab에서 오디오 재생을 제어하며, Gradio를 사용하여 인터랙티브 웹 애플리케이션을 만들기 위한 필수 라이브러리를 import하는 코드입니다.\n",
        "\n",
        "- gtts는 텍스트를 음성으로 변환해주는 라이브러리입니다.<br>\n",
        "- IPython.display 모듈은 Colab에서 이미지, 오디오 등 다양한 미디어 타입을 출력하는 기능을 제공합니다. <br>\n",
        "- ipywidgets 모듈은 인터랙티브한 위젯을 만들어주는 라이브러리입니다.<br>\n",
        "- gradio는 머신러닝 모델을 쉽게 웹 인터페이스로 구현할 수 있게 해주는 라이브러리입니다."
      ],
      "metadata": {
        "id": "pZZWIngtWhA0"
      }
    },
    {
      "cell_type": "markdown",
      "source": [
        "## Text-to-speach with continue buttons"
      ],
      "metadata": {
        "id": "kWYpahsBW9Yt"
      }
    },
    {
      "cell_type": "code",
      "source": [
        "#@markdown gradio\n",
        "!pip install gradio"
      ],
      "metadata": {
        "id": "FMUpBwiwYNXq",
        "outputId": "7189e83d-c7d3-41fd-d731-59c5c01e0cc1",
        "colab": {
          "base_uri": "https://localhost:8080/"
        }
      },
      "execution_count": null,
      "outputs": [
        {
          "output_type": "stream",
          "name": "stdout",
          "text": [
            "Looking in indexes: https://pypi.org/simple, https://us-python.pkg.dev/colab-wheels/public/simple/\n",
            "Requirement already satisfied: gradio in /usr/local/lib/python3.10/dist-packages (3.34.0)\n",
            "Requirement already satisfied: aiofiles in /usr/local/lib/python3.10/dist-packages (from gradio) (23.1.0)\n",
            "Requirement already satisfied: aiohttp in /usr/local/lib/python3.10/dist-packages (from gradio) (3.8.4)\n",
            "Requirement already satisfied: altair>=4.2.0 in /usr/local/lib/python3.10/dist-packages (from gradio) (4.2.2)\n",
            "Requirement already satisfied: fastapi in /usr/local/lib/python3.10/dist-packages (from gradio) (0.97.0)\n",
            "Requirement already satisfied: ffmpy in /usr/local/lib/python3.10/dist-packages (from gradio) (0.3.0)\n",
            "Requirement already satisfied: gradio-client>=0.2.6 in /usr/local/lib/python3.10/dist-packages (from gradio) (0.2.6)\n",
            "Requirement already satisfied: httpx in /usr/local/lib/python3.10/dist-packages (from gradio) (0.24.1)\n",
            "Requirement already satisfied: huggingface-hub>=0.14.0 in /usr/local/lib/python3.10/dist-packages (from gradio) (0.15.1)\n",
            "Requirement already satisfied: jinja2 in /usr/local/lib/python3.10/dist-packages (from gradio) (3.1.2)\n",
            "Requirement already satisfied: markdown-it-py[linkify]>=2.0.0 in /usr/local/lib/python3.10/dist-packages (from gradio) (2.2.0)\n",
            "Requirement already satisfied: markupsafe in /usr/local/lib/python3.10/dist-packages (from gradio) (2.1.2)\n",
            "Requirement already satisfied: matplotlib in /usr/local/lib/python3.10/dist-packages (from gradio) (3.7.1)\n",
            "Requirement already satisfied: mdit-py-plugins<=0.3.3 in /usr/local/lib/python3.10/dist-packages (from gradio) (0.3.3)\n",
            "Requirement already satisfied: numpy in /usr/local/lib/python3.10/dist-packages (from gradio) (1.22.4)\n",
            "Requirement already satisfied: orjson in /usr/local/lib/python3.10/dist-packages (from gradio) (3.9.1)\n",
            "Requirement already satisfied: pandas in /usr/local/lib/python3.10/dist-packages (from gradio) (1.5.3)\n",
            "Requirement already satisfied: pillow in /usr/local/lib/python3.10/dist-packages (from gradio) (8.4.0)\n",
            "Requirement already satisfied: pydantic in /usr/local/lib/python3.10/dist-packages (from gradio) (1.10.7)\n",
            "Requirement already satisfied: pydub in /usr/local/lib/python3.10/dist-packages (from gradio) (0.25.1)\n",
            "Requirement already satisfied: pygments>=2.12.0 in /usr/local/lib/python3.10/dist-packages (from gradio) (2.14.0)\n",
            "Requirement already satisfied: python-multipart in /usr/local/lib/python3.10/dist-packages (from gradio) (0.0.6)\n",
            "Requirement already satisfied: pyyaml in /usr/local/lib/python3.10/dist-packages (from gradio) (6.0)\n",
            "Requirement already satisfied: requests in /usr/local/lib/python3.10/dist-packages (from gradio) (2.27.1)\n",
            "Requirement already satisfied: semantic-version in /usr/local/lib/python3.10/dist-packages (from gradio) (2.10.0)\n",
            "Requirement already satisfied: typing-extensions in /usr/local/lib/python3.10/dist-packages (from gradio) (4.5.0)\n",
            "Requirement already satisfied: uvicorn>=0.14.0 in /usr/local/lib/python3.10/dist-packages (from gradio) (0.22.0)\n",
            "Requirement already satisfied: websockets>=10.0 in /usr/local/lib/python3.10/dist-packages (from gradio) (11.0.3)\n",
            "Requirement already satisfied: entrypoints in /usr/local/lib/python3.10/dist-packages (from altair>=4.2.0->gradio) (0.4)\n",
            "Requirement already satisfied: jsonschema>=3.0 in /usr/local/lib/python3.10/dist-packages (from altair>=4.2.0->gradio) (4.3.3)\n",
            "Requirement already satisfied: toolz in /usr/local/lib/python3.10/dist-packages (from altair>=4.2.0->gradio) (0.12.0)\n",
            "Requirement already satisfied: fsspec in /usr/local/lib/python3.10/dist-packages (from gradio-client>=0.2.6->gradio) (2023.4.0)\n",
            "Requirement already satisfied: packaging in /usr/local/lib/python3.10/dist-packages (from gradio-client>=0.2.6->gradio) (23.1)\n",
            "Requirement already satisfied: filelock in /usr/local/lib/python3.10/dist-packages (from huggingface-hub>=0.14.0->gradio) (3.12.0)\n",
            "Requirement already satisfied: tqdm>=4.42.1 in /usr/local/lib/python3.10/dist-packages (from huggingface-hub>=0.14.0->gradio) (4.65.0)\n",
            "Requirement already satisfied: mdurl~=0.1 in /usr/local/lib/python3.10/dist-packages (from markdown-it-py[linkify]>=2.0.0->gradio) (0.1.2)\n",
            "Requirement already satisfied: linkify-it-py<3,>=1 in /usr/local/lib/python3.10/dist-packages (from markdown-it-py[linkify]>=2.0.0->gradio) (2.0.2)\n",
            "Requirement already satisfied: python-dateutil>=2.8.1 in /usr/local/lib/python3.10/dist-packages (from pandas->gradio) (2.8.2)\n",
            "Requirement already satisfied: pytz>=2020.1 in /usr/local/lib/python3.10/dist-packages (from pandas->gradio) (2022.7.1)\n",
            "Requirement already satisfied: click>=7.0 in /usr/local/lib/python3.10/dist-packages (from uvicorn>=0.14.0->gradio) (8.1.3)\n",
            "Requirement already satisfied: h11>=0.8 in /usr/local/lib/python3.10/dist-packages (from uvicorn>=0.14.0->gradio) (0.14.0)\n",
            "Requirement already satisfied: attrs>=17.3.0 in /usr/local/lib/python3.10/dist-packages (from aiohttp->gradio) (23.1.0)\n",
            "Requirement already satisfied: charset-normalizer<4.0,>=2.0 in /usr/local/lib/python3.10/dist-packages (from aiohttp->gradio) (2.0.12)\n",
            "Requirement already satisfied: multidict<7.0,>=4.5 in /usr/local/lib/python3.10/dist-packages (from aiohttp->gradio) (6.0.4)\n",
            "Requirement already satisfied: async-timeout<5.0,>=4.0.0a3 in /usr/local/lib/python3.10/dist-packages (from aiohttp->gradio) (4.0.2)\n",
            "Requirement already satisfied: yarl<2.0,>=1.0 in /usr/local/lib/python3.10/dist-packages (from aiohttp->gradio) (1.9.2)\n",
            "Requirement already satisfied: frozenlist>=1.1.1 in /usr/local/lib/python3.10/dist-packages (from aiohttp->gradio) (1.3.3)\n",
            "Requirement already satisfied: aiosignal>=1.1.2 in /usr/local/lib/python3.10/dist-packages (from aiohttp->gradio) (1.3.1)\n",
            "Requirement already satisfied: starlette<0.28.0,>=0.27.0 in /usr/local/lib/python3.10/dist-packages (from fastapi->gradio) (0.27.0)\n",
            "Requirement already satisfied: certifi in /usr/local/lib/python3.10/dist-packages (from httpx->gradio) (2022.12.7)\n",
            "Requirement already satisfied: httpcore<0.18.0,>=0.15.0 in /usr/local/lib/python3.10/dist-packages (from httpx->gradio) (0.17.2)\n",
            "Requirement already satisfied: idna in /usr/local/lib/python3.10/dist-packages (from httpx->gradio) (3.4)\n",
            "Requirement already satisfied: sniffio in /usr/local/lib/python3.10/dist-packages (from httpx->gradio) (1.3.0)\n",
            "Requirement already satisfied: contourpy>=1.0.1 in /usr/local/lib/python3.10/dist-packages (from matplotlib->gradio) (1.0.7)\n",
            "Requirement already satisfied: cycler>=0.10 in /usr/local/lib/python3.10/dist-packages (from matplotlib->gradio) (0.11.0)\n",
            "Requirement already satisfied: fonttools>=4.22.0 in /usr/local/lib/python3.10/dist-packages (from matplotlib->gradio) (4.39.3)\n",
            "Requirement already satisfied: kiwisolver>=1.0.1 in /usr/local/lib/python3.10/dist-packages (from matplotlib->gradio) (1.4.4)\n",
            "Requirement already satisfied: pyparsing>=2.3.1 in /usr/local/lib/python3.10/dist-packages (from matplotlib->gradio) (3.0.9)\n",
            "Requirement already satisfied: urllib3<1.27,>=1.21.1 in /usr/local/lib/python3.10/dist-packages (from requests->gradio) (1.26.15)\n",
            "Requirement already satisfied: anyio<5.0,>=3.0 in /usr/local/lib/python3.10/dist-packages (from httpcore<0.18.0,>=0.15.0->httpx->gradio) (3.6.2)\n",
            "Requirement already satisfied: pyrsistent!=0.17.0,!=0.17.1,!=0.17.2,>=0.14.0 in /usr/local/lib/python3.10/dist-packages (from jsonschema>=3.0->altair>=4.2.0->gradio) (0.19.3)\n",
            "Requirement already satisfied: uc-micro-py in /usr/local/lib/python3.10/dist-packages (from linkify-it-py<3,>=1->markdown-it-py[linkify]>=2.0.0->gradio) (1.0.2)\n",
            "Requirement already satisfied: six>=1.5 in /usr/local/lib/python3.10/dist-packages (from python-dateutil>=2.8.1->pandas->gradio) (1.16.0)\n"
          ]
        }
      ]
    },
    {
      "cell_type": "code",
      "source": [
        "#@markdown Text-to-Speech with continue buttons (yes or no)\n",
        "\n",
        "def create_and_play_audio(text):\n",
        "    truncated_text = text[:13] if len(text) > 13 else text\n",
        "    filename = f\"{truncated_text}.mp3\"\n",
        "    tts = gTTS(text, lang='en')\n",
        "    tts.save(filename)\n",
        "    return Audio(filename, autoplay=True)\n",
        "\n",
        "def on_button_click(button):\n",
        "    if button.description == \"Yes\":\n",
        "        main()\n",
        "    else:\n",
        "        print(\"Well done!\")\n",
        "        for btn in buttons:\n",
        "            btn.close()\n",
        "\n",
        "def create_buttons():\n",
        "    button_yes = widgets.Button(description=\"Yes\")\n",
        "    button_no = widgets.Button(description=\"No\")\n",
        "    button_yes.on_click(on_button_click)\n",
        "    button_no.on_click(on_button_click)\n",
        "\n",
        "    return [button_yes, button_no]\n",
        "\n",
        "def main():\n",
        "    print(\"Enter the text to convert to speech:\")\n",
        "    text_input = widgets.Text()\n",
        "    display(text_input)\n",
        "\n",
        "    def on_text_submit(sender):\n",
        "        user_text = text_input.value\n",
        "        if user_text:\n",
        "            text_input.value = \"\"\n",
        "            text_input.disabled = True\n",
        "            audio = create_and_play_audio(user_text)\n",
        "            display(audio)\n",
        "\n",
        "            print(\"Do you want to continue?\")\n",
        "            global buttons\n",
        "            buttons = create_buttons()\n",
        "            display(widgets.HBox(buttons))\n",
        "\n",
        "    text_input.on_submit(on_text_submit)\n",
        "\n",
        "if __name__ == \"__main__\":\n",
        "    main()\n"
      ],
      "metadata": {
        "id": "jhisCXeTcOQ9",
        "outputId": "0d8bad11-d8f4-4d20-cda5-9335e24f557e",
        "colab": {
          "base_uri": "https://localhost:8080/",
          "height": 67,
          "referenced_widgets": [
            "49da684230554a8d9909afce41d21e65",
            "bc498a9286da4c2e848c32009d84dab2",
            "dc32a531e4b14b38a132ae72fa051223"
          ]
        }
      },
      "execution_count": null,
      "outputs": [
        {
          "output_type": "stream",
          "name": "stdout",
          "text": [
            "Enter the text to convert to speech:\n"
          ]
        },
        {
          "output_type": "display_data",
          "data": {
            "text/plain": [
              "Text(value='')"
            ],
            "application/vnd.jupyter.widget-view+json": {
              "version_major": 2,
              "version_minor": 0,
              "model_id": "49da684230554a8d9909afce41d21e65"
            }
          },
          "metadata": {}
        }
      ]
    },
    {
      "cell_type": "markdown",
      "source": [
        "## Create a live link of the app using {Gradio}"
      ],
      "metadata": {
        "id": "hbsjfqEdbwK7"
      }
    },
    {
      "cell_type": "code",
      "source": [
        "#@markdown Online text-to-speech\n",
        "\n",
        "def create_and_play_audio(text):\n",
        "    filename = f\"{text[:10]}.mp3\" if len(text) > 10 else f\"{text}.mp3\"\n",
        "    tts = gTTS(text, lang='en')\n",
        "    tts.save(filename)\n",
        "    return filename\n",
        "\n",
        "def tts_app(text):\n",
        "    audio_file = create_and_play_audio(text)\n",
        "    return audio_file\n",
        "\n",
        "iface = gr.Interface(\n",
        "    fn=tts_app,\n",
        "    inputs=gr.inputs.Textbox(lines=3, label=\"Enter text to convert to speech\"),\n",
        "    outputs=gr.outputs.Audio(type=\"filepath\", label=\"Generated speech\"),\n",
        "    title=\"My Text-to-Speech App\",\n",
        "    description=\"A simple Text-to-Speech app using gTTS. This link is for my class, and it expires in 72 hours.\",\n",
        ")\n",
        "\n",
        "iface.launch(share=True)\n"
      ],
      "metadata": {
        "id": "ZrXSbvdBH6YW",
        "outputId": "f9fe0681-b03e-435b-b718-84485deb5c01",
        "colab": {
          "base_uri": "https://localhost:8080/",
          "height": 758
        }
      },
      "execution_count": null,
      "outputs": [
        {
          "output_type": "stream",
          "name": "stderr",
          "text": [
            "/usr/local/lib/python3.10/dist-packages/gradio/inputs.py:27: UserWarning: Usage of gradio.inputs is deprecated, and will not be supported in the future, please import your component from gradio.components\n",
            "  warnings.warn(\n",
            "/usr/local/lib/python3.10/dist-packages/gradio/inputs.py:30: UserWarning: `optional` parameter is deprecated, and it has no effect\n",
            "  super().__init__(\n",
            "/usr/local/lib/python3.10/dist-packages/gradio/inputs.py:30: UserWarning: `numeric` parameter is deprecated, and it has no effect\n",
            "  super().__init__(\n",
            "/usr/local/lib/python3.10/dist-packages/gradio/outputs.py:81: UserWarning: Usage of gradio.outputs is deprecated, and will not be supported in the future, please import your components from gradio.components\n",
            "  warnings.warn(\n"
          ]
        },
        {
          "output_type": "stream",
          "name": "stdout",
          "text": [
            "Colab notebook detected. To show errors in colab notebook, set debug=True in launch()\n",
            "Running on public URL: https://8f3138289220110ac9.gradio.live\n",
            "\n",
            "This share link expires in 72 hours. For free permanent hosting and GPU upgrades, run `gradio deploy` from Terminal to deploy to Spaces (https://huggingface.co/spaces)\n"
          ]
        },
        {
          "output_type": "display_data",
          "data": {
            "text/plain": [
              "<IPython.core.display.HTML object>"
            ],
            "text/html": [
              "<div><iframe src=\"https://8f3138289220110ac9.gradio.live\" width=\"100%\" height=\"500\" allow=\"autoplay; camera; microphone; clipboard-read; clipboard-write;\" frameborder=\"0\" allowfullscreen></iframe></div>"
            ]
          },
          "metadata": {}
        },
        {
          "output_type": "execute_result",
          "data": {
            "text/plain": []
          },
          "metadata": {},
          "execution_count": 54
        }
      ]
    },
    {
      "cell_type": "markdown",
      "source": [
        "## 🌱 Settings:\n",
        "+ American English: etts(),\n",
        "+ British English: btts(),\n",
        "+ Canadian English: ctts()\n",
        "+ Korean: ktts(),"
      ],
      "metadata": {
        "id": "ax0HlqZv6oHL"
      }
    },
    {
      "cell_type": "code",
      "source": [
        "#@markdown 🔄 Install and import libraries\n",
        "%%capture\n",
        "!pip install gTTS\n",
        "from gtts import gTTS\n",
        "from IPython.display import Audio, Image, YouTubeVideo"
      ],
      "metadata": {
        "cellView": "form",
        "id": "R1QwMFEC6mjr"
      },
      "execution_count": null,
      "outputs": []
    },
    {
      "cell_type": "code",
      "source": [
        "#@markdown 🔄 Making functions: etts('text'), ktts('text'), btts('text)\n",
        "%%capture\n",
        "!pip install gTTS\n",
        "from gtts import gTTS\n",
        "from IPython.display import Audio\n",
        "\n",
        "def etts(text):\n",
        "  text_to_say = text\n",
        "\n",
        "  gtts_object = gTTS(text = text_to_say,\n",
        "                     lang = \"en\", tld = \"us\",\n",
        "                    slow = False)\n",
        "\n",
        "  gtts_object.save(\"E-audio.mp3\")\n",
        "  return Audio(\"E-audio.mp3\")\n",
        "\n",
        "def ktts(text):\n",
        "  text_to_say = text\n",
        "\n",
        "  gtts_object = gTTS(text = text_to_say,\n",
        "                     lang = \"ko\",\n",
        "                    slow = False)\n",
        "\n",
        "  gtts_object.save(\"E-audio.mp3\")\n",
        "  return Audio(\"E-audio.mp3\")\n",
        "\n",
        "def btts(text):\n",
        "  text_to_say = text\n",
        "\n",
        "  gtts_object = gTTS(text = text_to_say,\n",
        "                     lang = \"en\", tld = \"co.uk\",\n",
        "                    slow = False)\n",
        "\n",
        "  gtts_object.save(\"E-audio.mp3\")\n",
        "  return Audio(\"E-audio.mp3\")\n",
        "\n",
        "def ctts(text):\n",
        "  text_to_say = text\n",
        "\n",
        "  gtts_object = gTTS(text = text_to_say,\n",
        "                     lang = \"en\", tld = \"ca\",\n",
        "                    slow = False)\n",
        "\n",
        "  gtts_object.save(\"E-audio.mp3\")\n",
        "  return Audio(\"E-audio.mp3\")"
      ],
      "metadata": {
        "cellView": "form",
        "id": "CKzRbgtq6uX_"
      },
      "execution_count": null,
      "outputs": []
    },
    {
      "cell_type": "code",
      "source": [
        "Intro = \"1\" #@param = [1,2,3,4]\n",
        "n = int(Intro) -1\n",
        "txt = [\"Hi everyone.\", \"Nice to see you.\", \"Let me tell you how to make some codes.\", \"Actually, I don't know well, too.\"]\n",
        "mytxt = txt[n]\n",
        "etts(mytxt)\n",
        "Audio(\"E-audio.mp3\", autoplay = True)"
      ],
      "metadata": {
        "id": "aC3svaOD7dYW",
        "colab": {
          "base_uri": "https://localhost:8080/",
          "height": 74
        },
        "outputId": "e74cc9bd-ec1a-43e9-9c9f-12346989f6a1"
      },
      "execution_count": null,
      "outputs": [
        {
          "output_type": "execute_result",
          "data": {
            "text/plain": [
              "<IPython.lib.display.Audio object>"
            ],
            "text/html": [
              "\n",
              "                <audio  controls=\"controls\" autoplay=\"autoplay\">\n",
              "                    <source src=\"data:audio/mpeg;base64,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\" type=\"audio/mpeg\" />\n",
              "                    Your browser does not support the audio element.\n",
              "                </audio>\n",
              "              "
            ]
          },
          "metadata": {},
          "execution_count": 57
        }
      ]
    },
    {
      "cell_type": "code",
      "source": [
        "Intro = \"1\" #@param = [1,2,3,4]\n",
        "n = int(Intro) -1\n",
        "txt = [\"Hi everyone.\", \"Nice to see you.\", \"Let me tell you how to make some codes.\", \"Actually, I don't know well, too.\"]\n",
        "mytxt = txt[n]\n",
        "ktts(mytxt)\n",
        "Audio(\"E-audio.mp3\", autoplay = True)"
      ],
      "metadata": {
        "colab": {
          "base_uri": "https://localhost:8080/",
          "height": 74
        },
        "id": "mGrfB2HT8-AL",
        "outputId": "712cf648-a87d-4525-984a-d361b5bbac28"
      },
      "execution_count": null,
      "outputs": [
        {
          "output_type": "execute_result",
          "data": {
            "text/plain": [
              "<IPython.lib.display.Audio object>"
            ],
            "text/html": [
              "\n",
              "                <audio  controls=\"controls\" autoplay=\"autoplay\">\n",
              "                    <source src=\"data:audio/mpeg;base64,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\" type=\"audio/mpeg\" />\n",
              "                    Your browser does not support the audio element.\n",
              "                </audio>\n",
              "              "
            ]
          },
          "metadata": {},
          "execution_count": 59
        }
      ]
    },
    {
      "cell_type": "markdown",
      "source": [
        "# 05. Control structures: for loops, while loops, and conditional statement (if, elif, else)"
      ],
      "metadata": {
        "id": "tyulZFOmc38G"
      }
    },
    {
      "cell_type": "markdown",
      "source": [
        "##  for loops <br>\n",
        "- for 반복문은 파이썬에서 가장 많이 사용되는 반복문 중 하나 <br>\n",
        "- for 반복문은 정해진 범위에서 값을 하나씩 꺼내서 처리할 때 사용 <br>\n",
        "- for 변수 in 시퀀스: <br>\n",
        "    실행할 코드 <br>\n",
        "    위 구문에서 변수는 시퀀스에서 꺼낸 값이 저장될 변수의 이름을 의미합니다. 시퀀스는 반복문을 수행할 대상 데이터를 의미합니다. 실행할 코드는 시퀀스에서 꺼낸 값에 대해 실행할 코드를 작성합니다.\n"
      ],
      "metadata": {
        "id": "lCCdaD14c_xV"
      }
    },
    {
      "cell_type": "code",
      "source": [
        "number = 2\n",
        "print(number**2)"
      ],
      "metadata": {
        "id": "8axdZo8yyK49",
        "outputId": "9c80838a-59c3-4466-8ff7-6d7477d86034",
        "colab": {
          "base_uri": "https://localhost:8080/"
        }
      },
      "execution_count": null,
      "outputs": [
        {
          "output_type": "stream",
          "name": "stdout",
          "text": [
            "4\n"
          ]
        }
      ]
    },
    {
      "cell_type": "markdown",
      "source": [
        "If you want the same process (square of x) for 1, 2, 3, 4, 5"
      ],
      "metadata": {
        "id": "m9sAA43oyUG-"
      }
    },
    {
      "cell_type": "code",
      "source": [
        "# Define a list of numbers\n",
        "numbers = [1, 2, 3, 4, 5]\n",
        "\n",
        "# Use a for loop to iterate through the list\n",
        "for num in numbers:\n",
        "    # Print the square of each number\n",
        "    print(num ** 2)"
      ],
      "metadata": {
        "id": "N1b7Us8myGNK",
        "outputId": "60df1c3f-2c2b-4a1f-f4a9-f38ee1a8b799",
        "colab": {
          "base_uri": "https://localhost:8080/"
        }
      },
      "execution_count": null,
      "outputs": [
        {
          "output_type": "stream",
          "name": "stdout",
          "text": [
            "1\n",
            "4\n",
            "9\n",
            "16\n",
            "25\n"
          ]
        }
      ]
    },
    {
      "cell_type": "markdown",
      "source": [
        "append()는 리스트 객체의 메서드 중 하나로, 리스트의 끝에 새로운 요소를 추가하는 기능을 합니다.\n",
        "\n",
        "리스트의 append() 메서드를 호출할 때 괄호 안에 추가할 요소를 넣으면 리스트의 마지막에 새로운 요소가 추가됩니다."
      ],
      "metadata": {
        "id": "QuegMU2mAKL-"
      }
    },
    {
      "cell_type": "code",
      "source": [
        "numbers = [1, 2, 3, 4, 5]\n",
        "numbers.append(6)\n",
        "\n",
        "for num in numbers:\n",
        "   print(num ** 2)"
      ],
      "metadata": {
        "id": "N6WKYWzAi9zS",
        "outputId": "de6f522e-82bc-4565-f3d3-6f48e6250380",
        "colab": {
          "base_uri": "https://localhost:8080/"
        }
      },
      "execution_count": null,
      "outputs": [
        {
          "output_type": "stream",
          "name": "stdout",
          "text": [
            "1\n",
            "4\n",
            "9\n",
            "16\n",
            "25\n",
            "36\n"
          ]
        }
      ]
    },
    {
      "cell_type": "markdown",
      "source": [
        "DIY\n",
        "\n",
        "1. Ask how many to input\n",
        "2. User input name\n",
        "3. Using for loop, append the attendance list\n",
        "\n",
        "\n",
        "\n"
      ],
      "metadata": {
        "id": "eoodtQr3PQZa"
      }
    },
    {
      "cell_type": "code",
      "source": [
        "Phoebenum_names = input(\"How many names? \")\n",
        "num_names = int(num_names)\n",
        "\n",
        "attendance = []\n",
        "\n",
        "for i in range(0, num_names):\n",
        "  name = input()\n",
        "  attendance.append(name)\n",
        "\n",
        "print(attendance)\n"
      ],
      "metadata": {
        "id": "1h-L7PPzP0o4",
        "outputId": "6710aaf5-9ef1-4b32-aa19-22cf0a2a1176",
        "colab": {
          "base_uri": "https://localhost:8080/"
        }
      },
      "execution_count": null,
      "outputs": [
        {
          "output_type": "stream",
          "name": "stdout",
          "text": [
            "How many names? 6\n",
            "Chandler\n",
            "Joey\n",
            "Monica\n",
            "Ross\n",
            "Rachel\n",
            "Phoebe\n",
            "['Chandler', 'Joey', 'Monica', 'Ross', 'Rachel', 'Phoebe']\n"
          ]
        }
      ]
    },
    {
      "cell_type": "code",
      "source": [
        "len(attendance)"
      ],
      "metadata": {
        "id": "0esSSfGdQOaL",
        "outputId": "a687a7ef-71d5-4973-987c-efe0b05f4db3",
        "colab": {
          "base_uri": "https://localhost:8080/"
        }
      },
      "execution_count": null,
      "outputs": [
        {
          "output_type": "execute_result",
          "data": {
            "text/plain": [
              "6"
            ]
          },
          "metadata": {},
          "execution_count": 77
        }
      ]
    },
    {
      "cell_type": "markdown",
      "source": [
        "## range()\n",
        "\n",
        "In Python, the range() function is used to generate a sequence of numbers. It takes three arguments: the start value, the end value (exclusive), and the step value. In the example range(10, 0, -1), the arguments are:\n",
        "\n",
        "- 10: The start value, indicating that the sequence will begin with the number 10.<br>\n",
        "- 0: The end value (exclusive), meaning that the sequence will stop before reaching 0. <br>\n",
        "- -1: The step value, which determines the difference between each number in the sequence. In this case, the step is -1, indicating that the numbers in the sequence will decrease by 1 with each iteration. <br>\n",
        "- So, the range(10, 0, -1) function will generate a sequence of numbers counting down from 10 to 1 in reverse order, like this: 10, 9, 8, 7, 6, 5, 4, 3, 2, 1."
      ],
      "metadata": {
        "id": "6m2rS4rmB4oI"
      }
    },
    {
      "cell_type": "code",
      "source": [
        "# Set the starting number for the countdown\n",
        "sn = 10\n",
        "\n",
        "# Use a for loop to iterate through the countdown\n",
        "for i in range(sn, 0, -1):\n",
        "    # Print the current countdown number\n",
        "    print(i)\n",
        "\n",
        "# Print the final message after the countdown\n",
        "print(\"Blast off!\")"
      ],
      "metadata": {
        "colab": {
          "base_uri": "https://localhost:8080/"
        },
        "id": "Tzw1H2BmCv4y",
        "outputId": "61762383-9a47-42b8-d750-7509c8725418"
      },
      "execution_count": null,
      "outputs": [
        {
          "output_type": "stream",
          "name": "stdout",
          "text": [
            "10\n",
            "9\n",
            "8\n",
            "7\n",
            "6\n",
            "5\n",
            "4\n",
            "3\n",
            "2\n",
            "1\n",
            "Blast off!\n"
          ]
        }
      ]
    },
    {
      "cell_type": "markdown",
      "source": [
        "DIY: using for loop, print odd numbers starting from 17"
      ],
      "metadata": {
        "id": "HR8OoxDK0BIe"
      }
    },
    {
      "cell_type": "code",
      "source": [
        "for num in range(17, 20, 2):\n",
        "    print(num)"
      ],
      "metadata": {
        "id": "30AxHsUi0NXY",
        "colab": {
          "base_uri": "https://localhost:8080/"
        },
        "outputId": "060bd8ef-3c29-4f0c-a950-601db904bd6c"
      },
      "execution_count": null,
      "outputs": [
        {
          "output_type": "stream",
          "name": "stdout",
          "text": [
            "17\n",
            "19\n"
          ]
        }
      ]
    },
    {
      "cell_type": "markdown",
      "source": [
        "- range(17, 100, 2)는 17부터 99까지의 홀수를 생성하는 시퀀스를 만듭니다.\n",
        "- range()의 세 번째 인자는 증감폭을 나타내며 2로 설정하여 홀수만 생성합니다.\n",
        "- for 반복문은 range() 함수로 생성된 시퀀스의 각 요소를 반복하여 순회합니다.\n",
        "print(num)은 현재 반복 중인 num 변수를 출력합니다."
      ],
      "metadata": {
        "id": "HFnSImy7CN7N"
      }
    },
    {
      "cell_type": "markdown",
      "source": [
        " DIY how to get a list with numbers 1 * 1, 2 * 4, 3 * 9, 4 * 16, 5 * 25 from the above"
      ],
      "metadata": {
        "id": "qCphIQEqDaEZ"
      }
    },
    {
      "cell_type": "code",
      "source": [
        "numbers = [1, 2, 3, 4, 5]\n",
        "squared = []\n",
        "\n",
        "for num in numbers:\n",
        "  sq = num ** 2\n",
        "  result = num * sq\n",
        "  squared.append(result)\n",
        "\n",
        "print(squared)"
      ],
      "metadata": {
        "id": "DUNgA-9Xo0JI",
        "colab": {
          "base_uri": "https://localhost:8080/"
        },
        "outputId": "fa32089f-22be-4e16-d6d7-cf3d748cd531"
      },
      "execution_count": null,
      "outputs": [
        {
          "output_type": "stream",
          "name": "stdout",
          "text": [
            "[1, 8, 27, 64, 125]\n"
          ]
        }
      ]
    },
    {
      "cell_type": "markdown",
      "source": [
        "# 06. 글씨체를 바꾸는 방법"
      ],
      "metadata": {
        "id": "ewwqAJfjDin5"
      }
    },
    {
      "cell_type": "markdown",
      "source": [
        "## 줄 만들기\n",
        "---"
      ],
      "metadata": {
        "id": "cFXXkbo9D4Re"
      }
    },
    {
      "cell_type": "markdown",
      "source": [
        "## Bold\n",
        "**This word** is in bold."
      ],
      "metadata": {
        "id": "bg_qyDd3EVyZ"
      }
    },
    {
      "cell_type": "markdown",
      "source": [
        "## italic\n",
        "_This word_ is in italic."
      ],
      "metadata": {
        "id": "Vbhu0gtgEAeP"
      }
    },
    {
      "cell_type": "markdown",
      "source": [
        "## 동그라미\n",
        "+ Bullet 1\n",
        "+ Bullet 2"
      ],
      "metadata": {
        "id": "9eRmG1KNEPgR"
      }
    },
    {
      "cell_type": "markdown",
      "source": [
        "## Numbering\n",
        "1. Number 1\n",
        "2. Number 2"
      ],
      "metadata": {
        "id": "5UesRcuTEbg2"
      }
    },
    {
      "cell_type": "markdown",
      "source": [
        "## File link\n",
        "Visit [my website](https://MK316.github.io)"
      ],
      "metadata": {
        "id": "vmJOHjsfEiuf"
      }
    },
    {
      "cell_type": "markdown",
      "source": [
        "## Image link\n",
        "<p align=\"center\">\n",
        "  <img src=\"https://github.com/byw125/Image-Files/raw/main/%ED%91%B8%EB%A7%88BTS4.png\" width=\"450\" title=\"Safe inside the blanket\">\n",
        "</p>"
      ],
      "metadata": {
        "id": "1VnTgKc0EmA_"
      }
    },
    {
      "cell_type": "markdown",
      "source": [
        "# 07. How to display image files (just like PPT slides)"
      ],
      "metadata": {
        "id": "JDaoCx5m3GgH"
      }
    },
    {
      "cell_type": "markdown",
      "source": [
        "## 이미지 띄우기\n",
        "-  PPT를 만든 후 메뉴에서 그림 파일로 내보내기가 가능합니다. 그러면 각 슬라이드 한 페이지가 이미지 파일로 저장됩니다. 각 이미지를 github에 올려놓습니다.\n",
        "<br>(ppt에서 파일>내보내기>JPEG>데스크탑에 저장)\n",
        "<br>(github의 자신의 repository>add file>upload files>choose your file>commit changes)\n",
        "- 복사한 링크를 붙일 때 주소창에서 복사한 링크 가운데 /blob/이라고 된 부분을 반드시시 /raw/로 바꾸셔야 합니다."
      ],
      "metadata": {
        "id": "Fc3kxfRm3O1r"
      }
    },
    {
      "cell_type": "code",
      "source": [
        "#markdown Slides (e.g., 3 Image files)\n",
        "\n",
        "from IPython.display import Image\n",
        "\n",
        "myslides = \"1\" #@param = [1,2,3]\n",
        "\n",
        "sn = int(myslides)-1\n",
        "\n",
        "urls = [\"https://github.com/byw125/Image-Files/raw/main/%EC%8A%AC%EB%9D%BC%EC%9D%B4%EB%93%9C1.JPG\",\n",
        "        \"https://github.com/byw125/Image-Files/raw/main/%EC%8A%AC%EB%9D%BC%EC%9D%B4%EB%93%9C2.JPG\",\n",
        "        \"https://github.com/byw125/Image-Files/raw/main/%EC%8A%AC%EB%9D%BC%EC%9D%B4%EB%93%9C3.JPG\"]\n",
        "\n",
        "image = Image(urls[sn], width = 600, height = 500)\n",
        "display(image)\n"
      ],
      "metadata": {
        "id": "6AROqqLT7Nl_",
        "outputId": "a39a44fc-d17a-4322-8777-4cfff49c4c3c",
        "colab": {
          "base_uri": "https://localhost:8080/",
          "height": 517
        }
      },
      "execution_count": null,
      "outputs": [
        {
          "output_type": "display_data",
          "data": {
            "image/jpeg": "[encoded data removed]",
            "text/plain": [
              "<IPython.core.display.Image object>"
            ]
          },
          "metadata": {
            "image/jpeg": {
              "width": 600,
              "height": 500
            }
          }
        }
      ]
    },
    {
      "cell_type": "markdown",
      "source": [
        "## 영상 띄우기"
      ],
      "metadata": {
        "id": "Cu5mYGP-7Odw"
      }
    },
    {
      "cell_type": "code",
      "source": [
        "from IPython.display import YouTubeVideo\n",
        "\n",
        "myvideo = \"YTZ0mxNZWX0\"\n",
        "YouTubeVideo(myvideo, width = 800, height = 600)"
      ],
      "metadata": {
        "id": "mkN2XL087QM-",
        "outputId": "17f98f2f-88dd-4360-87c0-b903ac583dd4",
        "colab": {
          "base_uri": "https://localhost:8080/",
          "height": 620
        }
      },
      "execution_count": null,
      "outputs": [
        {
          "output_type": "execute_result",
          "data": {
            "text/plain": [
              "<IPython.lib.display.YouTubeVideo at 0x7f7ebad79780>"
            ],
            "text/html": [
              "\n",
              "        <iframe\n",
              "            width=\"800\"\n",
              "            height=\"600\"\n",
              "            src=\"https://www.youtube.com/embed/YTZ0mxNZWX0\"\n",
              "            frameborder=\"0\"\n",
              "            allowfullscreen\n",
              "            \n",
              "        ></iframe>\n",
              "        "
            ],
            "image/jpeg": "[encoded data removed]"
          },
          "metadata": {},
          "execution_count": 36
        }
      ]
    },
    {
      "cell_type": "markdown",
      "source": [
        "## QR코드 만들기"
      ],
      "metadata": {
        "id": "VeaBZOqXP674"
      }
    },
    {
      "cell_type": "code",
      "source": [
        "!pip install pyqrcode\n",
        "\n",
        "import pyqrcode\n",
        "from pyqrcode import QRCode\n",
        "\n",
        "s = input(\"Paste the link: \")\n",
        "\n",
        "url = pyqrcode.create(s)\n",
        "\n",
        "url.svg(\"myqrcode.svg\", scale=10)\n",
        "\n",
        "from IPython.display import SVG, display\n",
        "def show_svg(file):\n",
        "    display(SVG(file))\n",
        "\n",
        "show_svg(\"myqrcode.svg\")"
      ],
      "metadata": {
        "colab": {
          "base_uri": "https://localhost:8080/",
          "height": 746
        },
        "id": "4lPwNUTEodtL",
        "outputId": "f34c7ba1-acfc-4baa-c40b-9a569fec626f"
      },
      "execution_count": null,
      "outputs": [
        {
          "name": "stdout",
          "output_type": "stream",
          "text": [
            "Looking in indexes: https://pypi.org/simple, https://us-python.pkg.dev/colab-wheels/public/simple/\n",
            "Collecting pyqrcode\n",
            "  Downloading PyQRCode-1.2.1.zip (41 kB)\n",
            "\u001b[2K     \u001b[90m━━━━━━━━━━━━━━━━━━━━━━━━━━━━━━━━━━━━━━━━\u001b[0m \u001b[32m41.9/41.9 kB\u001b[0m \u001b[31m2.6 MB/s\u001b[0m eta \u001b[36m0:00:00\u001b[0m\n",
            "\u001b[?25h  Preparing metadata (setup.py) ... \u001b[?25l\u001b[?25hdone\n",
            "Building wheels for collected packages: pyqrcode\n",
            "  Building wheel for pyqrcode (setup.py) ... \u001b[?25l\u001b[?25hdone\n",
            "  Created wheel for pyqrcode: filename=PyQRCode-1.2.1-py3-none-any.whl size=36228 sha256=860fd67a4d28546602b4dab92f8169794de689f1ace4101a9781ba5433778f92\n",
            "  Stored in directory: /root/.cache/pip/wheels/34/2d/20/082874e49a32cdcc87ebaf99dd0099fb7774ef30f010dfb6f2\n",
            "Successfully built pyqrcode\n",
            "Installing collected packages: pyqrcode\n",
            "Successfully installed pyqrcode-1.2.1\n",
            "Paste the link:  https://www.bing.com/images/create?form=FLPGEN\n"
          ]
        },
        {
          "output_type": "display_data",
          "data": {
            "text/plain": [
              "<IPython.core.display.SVG object>"
            ],
            "image/svg+xml": "<svg xmlns=\"http://www.w3.org/2000/svg\" height=\"490\" width=\"490\" class=\"pyqrcode\"><path transform=\"scale(10)\" stroke=\"#000\" class=\"pyqrline\" d=\"M4 4.5h7m1 0h3m1 0h1m2 0h2m2 0h2m1 0h2m1 0h4m2 0h2m1 0h7m-41 1h1m5 0h1m1 0h2m1 0h6m4 0h2m2 0h3m2 0h1m1 0h1m1 0h1m5 0h1m-41 1h1m1 0h3m1 0h1m1 0h2m1 0h1m2 0h1m3 0h3m2 0h1m1 0h1m1 0h2m2 0h2m1 0h1m1 0h3m1 0h1m-41 1h1m1 0h3m1 0h1m2 0h2m1 0h1m2 0h2m1 0h1m1 0h4m2 0h1m3 0h2m2 0h1m1 0h3m1 0h1m-41 1h1m1 0h3m1 0h1m2 0h1m1 0h4m3 0h3m2 0h1m5 0h1m1 0h2m1 0h1m1 0h3m1 0h1m-41 1h1m5 0h1m1 0h2m2 0h1m1 0h3m1 0h2m1 0h1m4 0h4m2 0h1m1 0h1m5 0h1m-41 1h7m1 0h1m1 0h1m1 0h1m1 0h1m1 0h1m1 0h1m1 0h1m1 0h1m1 0h1m1 0h1m1 0h1m1 0h1m1 0h1m1 0h7m-33 1h2m1 0h2m1 0h1m1 0h2m4 0h3m1 0h1m-25 1h3m1 0h1m1 0h3m4 0h2m1 0h2m3 0h3m1 0h1m1 0h1m1 0h1m1 0h3m2 0h3m-40 1h1m1 0h1m3 0h1m1 0h2m1 0h2m1 0h3m1 0h1m1 0h1m3 0h1m2 0h2m1 0h1m1 0h4m2 0h1m-40 1h1m1 0h1m3 0h1m1 0h3m1 0h1m1 0h2m3 0h1m1 0h3m3 0h1m4 0h2m2 0h1m-36 1h1m2 0h2m1 0h1m1 0h1m1 0h1m5 0h3m1 0h1m1 0h3m2 0h1m2 0h2m2 0h3m2 0h1m-40 1h2m1 0h1m1 0h2m2 0h2m3 0h2m2 0h2m3 0h1m3 0h2m1 0h1m1 0h1m4 0h1m-39 1h1m2 0h3m1 0h4m1 0h3m1 0h5m3 0h1m2 0h1m2 0h1m1 0h1m2 0h4m1 0h1m-41 1h1m1 0h2m2 0h1m6 0h1m3 0h1m1 0h3m1 0h3m1 0h5m1 0h1m1 0h1m2 0h1m-38 1h1m5 0h2m2 0h1m1 0h1m1 0h1m3 0h1m1 0h2m3 0h2m2 0h4m2 0h2m2 0h1m-39 1h1m1 0h4m1 0h1m3 0h2m1 0h2m2 0h1m4 0h3m1 0h1m1 0h1m3 0h1m2 0h2m-40 1h1m2 0h1m3 0h1m1 0h3m1 0h4m1 0h1m3 0h2m3 0h6m1 0h3m2 0h2m-41 1h1m1 0h3m1 0h7m1 0h1m7 0h2m1 0h3m1 0h1m4 0h1m1 0h1m1 0h1m-39 1h1m2 0h3m4 0h1m4 0h2m1 0h2m3 0h1m2 0h1m1 0h5m1 0h4m-38 1h7m2 0h1m8 0h1m1 0h1m3 0h1m1 0h3m7 0h1m1 0h3m-40 1h1m1 0h1m1 0h1m3 0h4m3 0h1m3 0h2m1 0h4m1 0h1m1 0h6m1 0h1m1 0h2m-41 1h3m2 0h2m2 0h2m8 0h2m1 0h8m2 0h1m4 0h1m1 0h1m-39 1h1m2 0h1m2 0h1m3 0h2m1 0h1m1 0h1m1 0h2m1 0h1m1 0h1m2 0h3m2 0h2m2 0h1m1 0h1m2 0h1m-41 1h2m3 0h4m1 0h1m2 0h2m1 0h1m4 0h1m1 0h1m3 0h1m1 0h1m1 0h1m1 0h1m1 0h1m4 0h1m-40 1h2m1 0h1m2 0h2m1 0h1m5 0h2m1 0h1m4 0h1m1 0h1m4 0h1m2 0h3m1 0h2m-40 1h1m1 0h1m2 0h5m2 0h2m2 0h1m2 0h3m1 0h1m2 0h3m1 0h1m3 0h3m-37 1h5m2 0h4m1 0h2m1 0h1m2 0h1m3 0h5m1 0h1m2 0h1m1 0h2m1 0h2m1 0h1m-40 1h1m5 0h1m2 0h2m2 0h1m3 0h2m1 0h1m2 0h3m1 0h1m1 0h1m1 0h2m1 0h1m2 0h3m-40 1h1m1 0h1m1 0h2m1 0h1m3 0h5m1 0h1m2 0h1m2 0h2m1 0h5m2 0h1m1 0h3m1 0h2m-41 1h1m1 0h2m2 0h2m1 0h2m1 0h2m2 0h1m4 0h1m1 0h1m2 0h1m5 0h2m3 0h2m-39 1h1m1 0h1m1 0h2m1 0h1m5 0h1m2 0h5m1 0h1m3 0h1m1 0h1m5 0h2m4 0h1m-41 1h1m2 0h4m1 0h7m4 0h2m3 0h2m3 0h2m1 0h5m1 0h1m1 0h1m-33 1h2m3 0h1m8 0h3m1 0h3m3 0h1m3 0h2m1 0h2m-41 1h7m2 0h1m3 0h1m1 0h1m1 0h1m2 0h1m2 0h3m1 0h2m1 0h3m1 0h1m1 0h2m-38 1h1m5 0h1m2 0h1m2 0h3m3 0h2m2 0h1m4 0h2m2 0h2m3 0h2m1 0h2m-41 1h1m1 0h3m1 0h1m1 0h2m3 0h1m1 0h2m2 0h1m1 0h3m6 0h1m1 0h5m1 0h2m-40 1h1m1 0h3m1 0h1m1 0h1m1 0h4m2 0h1m1 0h1m1 0h2m4 0h1m1 0h1m2 0h3m1 0h1m1 0h4m-41 1h1m1 0h3m1 0h1m1 0h1m1 0h2m2 0h1m3 0h3m1 0h1m1 0h1m2 0h3m1 0h2m1 0h3m1 0h2m-40 1h1m5 0h1m3 0h1m2 0h1m1 0h1m1 0h1m1 0h3m3 0h1m2 0h1m3 0h1m1 0h1m1 0h1m2 0h1m-40 1h7m2 0h1m6 0h3m2 0h1m1 0h7m5 0h2\"/></svg>"
          },
          "metadata": {}
        }
      ]
    },
    {
      "cell_type": "markdown",
      "source": [
        "#08. 코드 가리기"
      ],
      "metadata": {
        "id": "y6zKjZU8MGfQ"
      }
    },
    {
      "cell_type": "code",
      "source": [
        "#@markdown 이 밑으론 가리기\n",
        "\n",
        "print(\"Hello, World!\")\n",
        "a = 10\n",
        "b = 20\n",
        "result = a + b"
      ],
      "metadata": {
        "id": "B3GkpDkbMIPf",
        "outputId": "0cbdee04-ef6d-454b-cb8b-583e40a1307a",
        "colab": {
          "base_uri": "https://localhost:8080/"
        }
      },
      "execution_count": 2,
      "outputs": [
        {
          "output_type": "stream",
          "name": "stdout",
          "text": [
            "Hello, World!\n"
          ]
        }
      ]
    },
    {
      "cell_type": "code",
      "source": [
        "print(captured_output.stdout)"
      ],
      "metadata": {
        "colab": {
          "base_uri": "https://localhost:8080/"
        },
        "id": "xDWl6H0oRp4A",
        "outputId": "125b0fe5-2756-4419-edc3-b00172f74d5e"
      },
      "execution_count": null,
      "outputs": [
        {
          "output_type": "stream",
          "name": "stdout",
          "text": [
            "Hello, World!\n",
            "\n"
          ]
        }
      ]
    },
    {
      "cell_type": "markdown",
      "source": [
        "#09. Wordcloud"
      ],
      "metadata": {
        "id": "UeyJhLZCvAtV"
      }
    },
    {
      "cell_type": "code",
      "source": [
        "#@markdown Wordcloud with your own text: Paste your text\n",
        "\n",
        "#Import libraries\n",
        "import matplotlib.pyplot as plt\n",
        "from wordcloud import WordCloud\n",
        "\n",
        "# Getting text from the user\n",
        "user_text = input(\"Please paste your text here: \")\n",
        "\n",
        "\n",
        "wordcloud = WordCloud(\n",
        "    background_color='white',\n",
        "    width=800,\n",
        "    height=800,\n",
        "    max_words=100\n",
        ").generate(user_text)\n",
        "\n",
        "plt.figure(figsize=(8, 8))\n",
        "plt.imshow(wordcloud, interpolation='bilinear')\n",
        "plt.axis('off')\n",
        "plt.show()"
      ],
      "metadata": {
        "id": "Su94RiizvDnT"
      },
      "execution_count": null,
      "outputs": []
    },
    {
      "cell_type": "markdown",
      "source": [
        "#10. Stopwords"
      ],
      "metadata": {
        "id": "bXk73FRHxliE"
      }
    },
    {
      "cell_type": "code",
      "source": [
        "pip install nltk"
      ],
      "metadata": {
        "id": "NlRuxdGyxf8U",
        "outputId": "25123f4f-482e-49e5-c50a-d98122e867b0",
        "colab": {
          "base_uri": "https://localhost:8080/"
        }
      },
      "execution_count": 12,
      "outputs": [
        {
          "output_type": "stream",
          "name": "stdout",
          "text": [
            "Looking in indexes: https://pypi.org/simple, https://us-python.pkg.dev/colab-wheels/public/simple/\n",
            "Requirement already satisfied: nltk in /usr/local/lib/python3.10/dist-packages (3.8.1)\n",
            "Requirement already satisfied: click in /usr/local/lib/python3.10/dist-packages (from nltk) (8.1.3)\n",
            "Requirement already satisfied: joblib in /usr/local/lib/python3.10/dist-packages (from nltk) (1.2.0)\n",
            "Requirement already satisfied: regex>=2021.8.3 in /usr/local/lib/python3.10/dist-packages (from nltk) (2022.10.31)\n",
            "Requirement already satisfied: tqdm in /usr/local/lib/python3.10/dist-packages (from nltk) (4.65.0)\n"
          ]
        }
      ]
    },
    {
      "cell_type": "code",
      "source": [
        "import nltk\n",
        "nltk.download(\"stopwords\")\n",
        "nltk.download(\"punkt\")\n",
        "from nltk.corpus import stopwords\n",
        "from nltk.tokenize import word_tokenize\n",
        "\n",
        "sample = \"Sir, I protest. I am not a merry man!\"\n",
        "s1 = word_tokenize(sample)\n",
        "print(s1)"
      ],
      "metadata": {
        "colab": {
          "base_uri": "https://localhost:8080/"
        },
        "id": "29UKHNzEgk_J",
        "outputId": "1fd23480-c7e5-47c3-8dc6-8d176bcfcc1d"
      },
      "execution_count": 19,
      "outputs": [
        {
          "output_type": "stream",
          "name": "stdout",
          "text": [
            "['Sir', ',', 'I', 'protest', '.', 'I', 'am', 'not', 'a', 'merry', 'man', '!']\n"
          ]
        },
        {
          "output_type": "stream",
          "name": "stderr",
          "text": [
            "[nltk_data] Downloading package stopwords to /root/nltk_data...\n",
            "[nltk_data]   Package stopwords is already up-to-date!\n",
            "[nltk_data] Downloading package punkt to /root/nltk_data...\n",
            "[nltk_data]   Package punkt is already up-to-date!\n"
          ]
        }
      ]
    },
    {
      "cell_type": "code",
      "source": [
        "stop_words = set(stopwords.words(\"english\"))"
      ],
      "metadata": {
        "id": "UHnUTvwfyChE"
      },
      "execution_count": 16,
      "outputs": []
    },
    {
      "cell_type": "code",
      "source": [
        "# string.casefold(): to all lower case so that we can compare strings\n",
        "\n",
        "w1 = \"Mary\"\n",
        "w2 = \"susan\"\n",
        "w1.casefold()"
      ],
      "metadata": {
        "id": "2CwYQEzuyFY9",
        "outputId": "4e3bb71b-f1b2-46b9-d745-30b0ff9655dc",
        "colab": {
          "base_uri": "https://localhost:8080/",
          "height": 35
        }
      },
      "execution_count": 17,
      "outputs": [
        {
          "output_type": "execute_result",
          "data": {
            "text/plain": [
              "'mary'"
            ],
            "application/vnd.google.colaboratory.intrinsic+json": {
              "type": "string"
            }
          },
          "metadata": {},
          "execution_count": 17
        }
      ]
    },
    {
      "cell_type": "code",
      "source": [
        "# Remove punctuations and stopwords\n",
        "\n",
        "filtered_list = []\n",
        "\n",
        "for word in s1:\n",
        "   if (word.casefold() not in stop_words) & (len(word)>1):\n",
        "        filtered_list.append(word)\n",
        "\n",
        "filtered_list"
      ],
      "metadata": {
        "id": "92JWqHrkyIOT",
        "outputId": "ac4361b2-b2ca-41c4-ac8a-a474a56e4398",
        "colab": {
          "base_uri": "https://localhost:8080/"
        }
      },
      "execution_count": 18,
      "outputs": [
        {
          "output_type": "execute_result",
          "data": {
            "text/plain": [
              "['Sir', 'protest', 'merry', 'man']"
            ]
          },
          "metadata": {},
          "execution_count": 18
        }
      ]
    }
  ]
}