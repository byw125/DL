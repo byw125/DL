{
  "nbformat": 4,
  "nbformat_minor": 0,
  "metadata": {
    "colab": {
      "provenance": [],
      "collapsed_sections": [
        "-t54x6O5kG2e",
        "JGQzsNiFkVUh",
        "ZInL_my3owGo",
        "AtLHErpzjXDO",
        "T6AcMxdYje49",
        "opLKVCd4oGDF",
        "g9iHNwAxph1n",
        "ID0wThBfp81c",
        "b9_9lcdrVuSy"
      ],
      "authorship_tag": "ABX9TyPrPL5yzq4g67E5hUhMWVFK",
      "include_colab_link": true
    },
    "kernelspec": {
      "name": "python3",
      "display_name": "Python 3"
    },
    "language_info": {
      "name": "python"
    }
  },
  "cells": [
    {
      "cell_type": "markdown",
      "metadata": {
        "id": "view-in-github",
        "colab_type": "text"
      },
      "source": [
        "<a href=\"https://colab.research.google.com/github/byw125/DL/blob/main/MIDTERM%EC%A0%95%EB%A6%AC(05.01ver).ipynb\" target=\"_parent\"><img src=\"https://colab.research.google.com/assets/colab-badge.svg\" alt=\"Open In Colab\"/></a>"
      ]
    },
    {
      "cell_type": "markdown",
      "source": [
        " # 01. How to import a module (like random) and use its functions"
      ],
      "metadata": {
        "id": "GlK_zTvQoP4b"
      }
    },
    {
      "cell_type": "markdown",
      "source": [
        "- 코딩에서 모듈(Module)은 하나의 파이썬 파일(.py)로, 변수, 함수, 클래스 등을 정의하고 실행할 수 있는 코드의 집합.\n",
        "- 다른 파이썬 파일에서 모듈을 사용할 때는 import 문을 사용. \n",
        "- 이 때 import 문 뒤에 모듈의 이름을 지정하면 해당 모듈의 함수, 변수, 클래스 등을 사용할 수 있음."
      ],
      "metadata": {
        "id": "bz-46pgSdKv_"
      }
    },
    {
      "cell_type": "code",
      "execution_count": 2,
      "metadata": {
        "colab": {
          "base_uri": "https://localhost:8080/"
        },
        "id": "a_3WFb9HccdA",
        "outputId": "4b40cd0b-9128-415d-ce8b-a693543d0d62"
      },
      "outputs": [
        {
          "output_type": "stream",
          "name": "stdout",
          "text": [
            "[4, 3, 5, 1, 2]\n"
          ]
        }
      ],
      "source": [
        "#주어진 숫자를 셔플하여 제공하는 function\n",
        "\n",
        "import random\n",
        "\n",
        "numbers = [1, 2, 3, 4, 5]\n",
        "random.shuffle(numbers)\n",
        "\n",
        "print(numbers)"
      ]
    },
    {
      "cell_type": "code",
      "source": [
        "#주어진 숫자 사이의 한 숫자를 제공하는 function\n",
        "\n",
        "import random\n",
        "\n",
        "random_number = random.randint(1, 10)\n",
        "print(random_number)"
      ],
      "metadata": {
        "colab": {
          "base_uri": "https://localhost:8080/"
        },
        "id": "Nza8ws0Jdtln",
        "outputId": "9dde56ec-0930-4f57-fcda-0af50bf7958b"
      },
      "execution_count": 4,
      "outputs": [
        {
          "output_type": "stream",
          "name": "stdout",
          "text": [
            "9\n"
          ]
        }
      ]
    },
    {
      "cell_type": "markdown",
      "source": [
        "# 02. Python basics: Basic data types, variables, and basic input/output functions."
      ],
      "metadata": {
        "id": "PhoZjkxAoKDp"
      }
    },
    {
      "cell_type": "markdown",
      "source": [
        "## 문자열(strings) <br>\n",
        ": 문자(character)들의 시퀀스(sequence)  /  따옴표(' ' 또는 \" \")로 묶인 문자열을 생성 가능<br>\n",
        ": 문자열 내부에는 인덱싱(indexing)과 슬라이싱(slicing)을 통해 특정 문자에 접근할 수 있음. 예를 들어, \"Hello World!\"라는 문자열에서 'W'를 출력하려면 문자열[6]으로 접근 가능.<br>\n",
        ": 문자열 내부에서 \\n을 사용하면 줄바꿈할 수 있음<br>"
      ],
      "metadata": {
        "id": "qPaDQYKmexw-"
      }
    },
    {
      "cell_type": "code",
      "source": [
        "my_string = \"Hello, World!\"\n",
        "print(my_string) # Hello, World!"
      ],
      "metadata": {
        "colab": {
          "base_uri": "https://localhost:8080/"
        },
        "id": "0lG5tvlSljld",
        "outputId": "1b5664d1-b660-4663-ff87-6473d7b17031"
      },
      "execution_count": 18,
      "outputs": [
        {
          "output_type": "stream",
          "name": "stdout",
          "text": [
            "Hello, World!\n"
          ]
        }
      ]
    },
    {
      "cell_type": "markdown",
      "source": [
        "## 정수(integers)<br>\n",
        ": 정수형(Integer)과 부동소수점형(Float)은 파이썬에서 사용되는 숫자 데이터 타입 (키워드는 int)<br>\n",
        ": 정수는 소수점 이하가 없는 숫자.<br>\n",
        ": Python에서는 일반적인 사칙연산과 같은 연산자를 사용하여 정수 연산을 수행할 수 있음. <br>\n",
        ": 부동소수점형(Float)은 소수점 이하를 가지는 실수를 표현 (키워드는 float)"
      ],
      "metadata": {
        "id": "-t54x6O5kG2e"
      }
    },
    {
      "cell_type": "code",
      "source": [
        "# 더하기\n",
        "a = 10\n",
        "b = 20\n",
        "c = a + b\n",
        "print(c)   # 30"
      ],
      "metadata": {
        "colab": {
          "base_uri": "https://localhost:8080/"
        },
        "id": "Jb3tc9O4mGe_",
        "outputId": "abb8300c-8d6a-4839-d864-bf20a5a6a12e"
      },
      "execution_count": 19,
      "outputs": [
        {
          "output_type": "stream",
          "name": "stdout",
          "text": [
            "30\n"
          ]
        }
      ]
    },
    {
      "cell_type": "code",
      "source": [
        "# 빼기\n",
        "a = 10\n",
        "b = 20\n",
        "c = b - a\n",
        "print(c)   # 10\n"
      ],
      "metadata": {
        "colab": {
          "base_uri": "https://localhost:8080/"
        },
        "id": "UiwoSpjJmLoN",
        "outputId": "4a0ddb5e-4798-4494-d61e-ad1cf857738b"
      },
      "execution_count": 20,
      "outputs": [
        {
          "output_type": "stream",
          "name": "stdout",
          "text": [
            "10\n"
          ]
        }
      ]
    },
    {
      "cell_type": "code",
      "source": [
        "# 곱하기\n",
        "a = 10\n",
        "b = 20\n",
        "c = a * b\n",
        "print(c)   # 200"
      ],
      "metadata": {
        "colab": {
          "base_uri": "https://localhost:8080/"
        },
        "id": "gvU_e3_GmUby",
        "outputId": "17d09861-7a76-477c-9636-6c6da8bcd885"
      },
      "execution_count": 21,
      "outputs": [
        {
          "output_type": "stream",
          "name": "stdout",
          "text": [
            "200\n"
          ]
        }
      ]
    },
    {
      "cell_type": "code",
      "source": [
        "# (결과값은 실수형이 되고 /자리에 %를 써서 반환받을 수 있다.)\n",
        "a = 10\n",
        "b = 20\n",
        "c = b / a\n",
        "print(c)   # 2.0"
      ],
      "metadata": {
        "colab": {
          "base_uri": "https://localhost:8080/"
        },
        "id": "YsLvrwTpmf2N",
        "outputId": "b3838e74-8512-4dc6-bb8d-63ae2f793e97"
      },
      "execution_count": 22,
      "outputs": [
        {
          "output_type": "stream",
          "name": "stdout",
          "text": [
            "2.0\n"
          ]
        }
      ]
    },
    {
      "cell_type": "markdown",
      "source": [
        "## 리스트(lists) <br>\n",
        ": 리스트는 대괄호([ ])로 묶인 값들의 시퀀스 (각 값은 쉼표로 구분) <br>\n",
        ": 덱싱과 슬라이싱을 통해 특정 요소에 접근하거나 변경할 수 있음."
      ],
      "metadata": {
        "id": "c65gHsmMkNG2"
      }
    },
    {
      "cell_type": "markdown",
      "source": [
        "list는 프린트 할 수 없음"
      ],
      "metadata": {
        "id": "b12rXIPi9M6Y"
      }
    },
    {
      "cell_type": "code",
      "source": [
        "fruits = ['apple', 'banana', 'cherry']"
      ],
      "metadata": {
        "id": "qJ2N3sM1kUxJ"
      },
      "execution_count": 23,
      "outputs": []
    },
    {
      "cell_type": "code",
      "source": [
        "# 리스트의 각 항목에는 인덱스를 사용하여 접근 가능 (인덱스는 0부터 시작)\n",
        "print(fruits[0])   # 'apple'\n",
        "print(fruits[1])   # 'banana'\n",
        "print(fruits[2])   # 'cherry'"
      ],
      "metadata": {
        "colab": {
          "base_uri": "https://localhost:8080/"
        },
        "id": "vPn1Ynm0m7p3",
        "outputId": "eaa55263-557f-4ca1-a401-24f671d8d786"
      },
      "execution_count": 24,
      "outputs": [
        {
          "output_type": "stream",
          "name": "stdout",
          "text": [
            "apple\n",
            "banana\n",
            "cherry\n"
          ]
        }
      ]
    },
    {
      "cell_type": "code",
      "source": [
        "# 빈 리스트 만들기\n",
        "empty_list = []\n",
        "\n",
        "# 정수형 데이터를 포함하는 리스트\n",
        "int_list = [1, 2, 3, 4, 5]\n",
        "\n",
        "# 실수형 데이터를 포함하는 리스트\n",
        "float_list = [1.2, 2.3, 3.4, 4.5, 5.6]\n",
        "\n",
        "# 문자열 데이터를 포함하는 리스트\n",
        "string_list = [\"apple\", \"banana\", \"cherry\", \"durian\"]\n",
        "\n",
        "# 혼합 데이터 타입을 포함하는 리스트\n",
        "mixed_list = [1, \"apple\", 2.5, True, \"banana\"]"
      ],
      "metadata": {
        "id": "lEd1t6-29tBM"
      },
      "execution_count": null,
      "outputs": []
    },
    {
      "cell_type": "markdown",
      "source": [
        "\n",
        "## 딕셔너리(dictionaries) <br>\n",
        ": **{'key':'value'}** <br>\n",
        ": 중괄호({ })로 묶인 key-value 쌍의 집합 (각 쌍은 쉼표로 구분됨) <br>\n",
        ": 딕셔너리는 키(key)를 사용하여 값을 저장하고 검색함. 값을 얻으려면 키를 사용하여 해당 값에 엑세스하고 새 항목을 추가하려면 새 키와 값을 지정해야 함."
      ],
      "metadata": {
        "id": "JGQzsNiFkVUh"
      }
    },
    {
      "cell_type": "code",
      "source": [
        "my_dict = {\"apple\": 1, \"banana\": 2, \"orange\": 3}\n",
        "print(my_dict)\n",
        "#  \"apple\", \"banana\", \"orange\"가 키(Key)이며, 각각의 값(Value)은 1, 2, 3"
      ],
      "metadata": {
        "colab": {
          "base_uri": "https://localhost:8080/"
        },
        "id": "GXgXt3DUkuIp",
        "outputId": "6239fb57-dccf-485f-9f8d-3cf8b9cb47f9"
      },
      "execution_count": 25,
      "outputs": [
        {
          "output_type": "stream",
          "name": "stdout",
          "text": [
            "{'apple': 1, 'banana': 2, 'orange': 3}\n"
          ]
        }
      ]
    },
    {
      "cell_type": "code",
      "source": [
        "my_dict = {\"apple\": 1, \"banana\": 2, \"orange\": 3}\n",
        "print(my_dict[\"apple\"])   # 1\n",
        "print(my_dict[\"banana\"])  # 2\n",
        "print(my_dict[\"orange\"])  # 3"
      ],
      "metadata": {
        "colab": {
          "base_uri": "https://localhost:8080/"
        },
        "id": "Bg0SSFbNk7pJ",
        "outputId": "947c8477-e4f6-4907-b9ea-3695ab82e47e"
      },
      "execution_count": 26,
      "outputs": [
        {
          "output_type": "stream",
          "name": "stdout",
          "text": [
            "1\n",
            "2\n",
            "3\n"
          ]
        }
      ]
    },
    {
      "cell_type": "code",
      "source": [
        "# 새로운 요소를 추가하기 위해서는 딕셔너리의 이름을 사용하여 대괄호([]) 안에 새로운 키를 넣고, 새로운 값을 할당\n",
        "my_dict = {\"apple\": 1, \"banana\": 2, \"orange\": 3}\n",
        "my_dict[\"grape\"] = 4\n",
        "print(my_dict)  "
      ],
      "metadata": {
        "colab": {
          "base_uri": "https://localhost:8080/"
        },
        "id": "Qz1EfRydlBKp",
        "outputId": "4cb75ca9-8b33-44f1-c103-3a4e3eb100f6"
      },
      "execution_count": 27,
      "outputs": [
        {
          "output_type": "stream",
          "name": "stdout",
          "text": [
            "{'apple': 1, 'banana': 2, 'orange': 3, 'grape': 4}\n"
          ]
        }
      ]
    },
    {
      "cell_type": "code",
      "source": [
        "# 딕셔너리에서 특정 요소를 삭제하기 위해서는 del 키워드를 사용. 대괄호([]) 안에 삭제할 요소의 키를 넣으면 됨.\n",
        "my_dict = {\"apple\": 1, \"banana\": 2, \"orange\": 3}\n",
        "del my_dict[\"banana\"]\n",
        "print(my_dict)"
      ],
      "metadata": {
        "colab": {
          "base_uri": "https://localhost:8080/"
        },
        "id": "_LnEa1LIlPNV",
        "outputId": "1fba0902-25ab-46db-d82d-2d0b47d2e422"
      },
      "execution_count": 28,
      "outputs": [
        {
          "output_type": "stream",
          "name": "stdout",
          "text": [
            "{'apple': 1, 'orange': 3}\n"
          ]
        }
      ]
    },
    {
      "cell_type": "markdown",
      "source": [
        "## 변수(variables) <br>\n",
        ": 데이터를 저장하는 공간 (Python에서 변수는 값을 할당하는 것으로 생성) <br>\n",
        ": 변수는 문자로 시작해야 하며, 숫자와 문자로 구성될 수 있음."
      ],
      "metadata": {
        "id": "EUmDQ-MMkktn"
      }
    },
    {
      "cell_type": "code",
      "source": [
        "x = 5\n",
        "# 변수에 다른 값을 할당하면 이전에 저장된 값은 더 이상 유지되지 않음."
      ],
      "metadata": {
        "id": "JXBgrUjdkgiy"
      },
      "execution_count": 29,
      "outputs": []
    },
    {
      "cell_type": "code",
      "source": [
        "# 변수를 사용하여 계산을 수행할 수 있음.\n",
        "x = 5\n",
        "y = 3\n",
        "z = x + y\n",
        "print(z)   # 8"
      ],
      "metadata": {
        "colab": {
          "base_uri": "https://localhost:8080/"
        },
        "id": "sOhiWQ2Cnidk",
        "outputId": "5ec5806a-407a-4f30-9fa5-2c7b90284ae5"
      },
      "execution_count": 30,
      "outputs": [
        {
          "output_type": "stream",
          "name": "stdout",
          "text": [
            "8\n"
          ]
        }
      ]
    },
    {
      "cell_type": "markdown",
      "source": [
        "## type() 함수 <br>\n",
        ": 파이썬에서 객체의 데이터 타입을 반환하는 내장 함수"
      ],
      "metadata": {
        "id": "7xFGWKOdrPp7"
      }
    },
    {
      "cell_type": "code",
      "source": [
        "# x의 데이터 타입을 알 수 있음.\n",
        "x = 10\n",
        "print(type(x)) # <class 'int'>"
      ],
      "metadata": {
        "colab": {
          "base_uri": "https://localhost:8080/"
        },
        "id": "_qMxXQTRrkcU",
        "outputId": "7d7d3ed8-255f-4c66-c1ee-7425ab39231d"
      },
      "execution_count": 31,
      "outputs": [
        {
          "output_type": "stream",
          "name": "stdout",
          "text": [
            "<class 'int'>\n"
          ]
        }
      ]
    },
    {
      "cell_type": "code",
      "source": [
        "x = \"Hello, World!\"\n",
        "print(type(x)) # <class 'str'>"
      ],
      "metadata": {
        "colab": {
          "base_uri": "https://localhost:8080/"
        },
        "id": "_4qcc-knr5kt",
        "outputId": "535f9407-4801-4b59-950b-fca97adb1253"
      },
      "execution_count": 32,
      "outputs": [
        {
          "output_type": "stream",
          "name": "stdout",
          "text": [
            "<class 'str'>\n"
          ]
        }
      ]
    },
    {
      "cell_type": "markdown",
      "source": [
        "\n",
        "## print() 함수 <br>\n",
        ": 괄호 안에 있는 값을 출력 <br>"
      ],
      "metadata": {
        "id": "mpLvO03GkgxC"
      }
    },
    {
      "cell_type": "markdown",
      "source": [
        "## input() 함수 <br>\n",
        ": input() 함수는 사용자로부터 값을 입력 받음. <br>\n",
        ": 함수 호출 시 괄호 안에 사용자에게 보여줄 메시지를 지정할 수 있음. <br>\n",
        ": 사용자가 입력한 값은 문자열(string) 형태로 반환됨. 반환된 문자열을 적절한 데이터 타입으로 변환하여 사용 가능."
      ],
      "metadata": {
        "id": "ZInL_my3owGo"
      }
    },
    {
      "cell_type": "code",
      "source": [
        "name = input(\"이름을 입력하세요: \")\n",
        "print(\"안녕하세요, \" + name + \"님!\")"
      ],
      "metadata": {
        "colab": {
          "base_uri": "https://localhost:8080/"
        },
        "id": "zJnzLVVkn0AF",
        "outputId": "3fb930c1-3fc3-4502-a696-74d4b0e90eb0"
      },
      "execution_count": 33,
      "outputs": [
        {
          "output_type": "stream",
          "name": "stdout",
          "text": [
            "이름을 입력하세요: d\n",
            "안녕하세요, d님!\n"
          ]
        }
      ]
    },
    {
      "cell_type": "code",
      "source": [
        "num = input(\"정수를 입력하세요: \")\n",
        "print(\"입력된 정수:\", num)\n",
        "print(\"데이터 타입:\", type(num))"
      ],
      "metadata": {
        "colab": {
          "base_uri": "https://localhost:8080/"
        },
        "id": "OYn7aiFtsiyU",
        "outputId": "07b28721-9d44-4eaa-b0d7-cd5c2fe3191b"
      },
      "execution_count": 34,
      "outputs": [
        {
          "output_type": "stream",
          "name": "stdout",
          "text": [
            "정수를 입력하세요: 5\n",
            "입력된 정수: 5\n",
            "데이터 타입: <class 'str'>\n"
          ]
        }
      ]
    },
    {
      "cell_type": "markdown",
      "source": [
        "## 인덱싱(Indexing)\n",
        ": 시퀀스 자료형에서 특정 위치의 값을 가져오는 방법"
      ],
      "metadata": {
        "id": "AtLHErpzjXDO"
      }
    },
    {
      "cell_type": "code",
      "source": [
        "s = \"Hello, World!\"\n",
        "print(s[0])  # 'H'\n",
        "print(s[1])  # 'e'\n",
        "print(s[7])  # 'W'\n",
        "print(s[-1]) # '!'"
      ],
      "metadata": {
        "colab": {
          "base_uri": "https://localhost:8080/"
        },
        "id": "MDS44f62jfY2",
        "outputId": "50c974ec-04f1-4885-f380-eecf58fab318"
      },
      "execution_count": 35,
      "outputs": [
        {
          "output_type": "stream",
          "name": "stdout",
          "text": [
            "H\n",
            "e\n",
            "W\n",
            "!\n"
          ]
        }
      ]
    },
    {
      "cell_type": "markdown",
      "source": [
        "## 슬라이싱(Slicing)\n",
        ": 시퀀스 자료형에서 일부분을 가져오는 방법"
      ],
      "metadata": {
        "id": "T6AcMxdYje49"
      }
    },
    {
      "cell_type": "code",
      "source": [
        "s = \"Hello, World!\"\n",
        "print(s[0:5])  # 'Hello'\n",
        "print(s[7:12]) # 'World'\n"
      ],
      "metadata": {
        "colab": {
          "base_uri": "https://localhost:8080/"
        },
        "id": "JJ3kxcXtjsdm",
        "outputId": "8d557464-c6dd-476d-a2aa-42276525d0e4"
      },
      "execution_count": 36,
      "outputs": [
        {
          "output_type": "stream",
          "name": "stdout",
          "text": [
            "Hello\n",
            "World\n"
          ]
        }
      ]
    },
    {
      "cell_type": "markdown",
      "source": [
        "# 03.String manipulation: Cover string methods"
      ],
      "metadata": {
        "id": "VoCfuHbooAE6"
      }
    },
    {
      "cell_type": "markdown",
      "source": [
        "## .strip()\n",
        "- 문자열의 양쪽 끝에 있는 공백(띄어쓰기, 탭, 개행 문자 등)을 제거"
      ],
      "metadata": {
        "id": "opLKVCd4oGDF"
      }
    },
    {
      "cell_type": "code",
      "source": [
        "my_str = \"  Hello, World!   \"\n",
        "new_str = my_str.strip()\n",
        "print(new_str) # \"Hello, World!\""
      ],
      "metadata": {
        "id": "s_tWxryapQNg"
      },
      "execution_count": null,
      "outputs": []
    },
    {
      "cell_type": "code",
      "source": [
        "my_sstr = \" Hi, Everyone!  \"\n",
        "new_sstr = my_sstr .strip()\n",
        "print(new_sstr)"
      ],
      "metadata": {
        "colab": {
          "base_uri": "https://localhost:8080/"
        },
        "id": "WFeH4ndR09JR",
        "outputId": "e97bfd4e-f7ed-450c-ad01-36112177364b"
      },
      "execution_count": 17,
      "outputs": [
        {
          "output_type": "stream",
          "name": "stdout",
          "text": [
            "Hi, Everyone!\n"
          ]
        }
      ]
    },
    {
      "cell_type": "markdown",
      "source": [
        "## .lower()\n",
        "- 문자열을 모두 소문자로 변경합니다."
      ],
      "metadata": {
        "id": "g9iHNwAxph1n"
      }
    },
    {
      "cell_type": "code",
      "source": [
        "my_str = \"Hello, World!\"\n",
        "new_str = my_str.lower()\n",
        "print(new_str) # \"hello, world!\""
      ],
      "metadata": {
        "colab": {
          "base_uri": "https://localhost:8080/"
        },
        "id": "3wVKSPgMpVyY",
        "outputId": "fcd4dec2-a608-477e-b572-d23ea0d07992"
      },
      "execution_count": 25,
      "outputs": [
        {
          "output_type": "stream",
          "name": "stdout",
          "text": [
            "hello, world!\n"
          ]
        }
      ]
    },
    {
      "cell_type": "markdown",
      "source": [
        "## .upper()\n",
        "-  문자열을 모두 대문자로 변경"
      ],
      "metadata": {
        "id": "ID0wThBfp81c"
      }
    },
    {
      "cell_type": "code",
      "source": [
        "my_str = \"Hello, World!\"\n",
        "new_str = my_str.upper()\n",
        "print(new_str) # \"HELLO, WORLD!\""
      ],
      "metadata": {
        "colab": {
          "base_uri": "https://localhost:8080/"
        },
        "id": "zaa5fmqMqCvN",
        "outputId": "9a0943bb-4582-4a50-c16e-e319d9d921f6"
      },
      "execution_count": 26,
      "outputs": [
        {
          "output_type": "stream",
          "name": "stdout",
          "text": [
            "HELLO, WORLD!\n"
          ]
        }
      ]
    },
    {
      "cell_type": "markdown",
      "source": [
        "## .split()"
      ],
      "metadata": {
        "id": "Cw_7yl0V24n3"
      }
    },
    {
      "cell_type": "code",
      "source": [
        "w = \"Hello world, how are you?\"\n",
        "a = w.split()\n",
        "# ['Hello', 'world,', 'how', 'are', 'you?']"
      ],
      "metadata": {
        "id": "76nHdU2e28lJ"
      },
      "execution_count": 43,
      "outputs": []
    },
    {
      "cell_type": "markdown",
      "source": [
        "## 응용"
      ],
      "metadata": {
        "id": "Egktqwz-1oyf"
      }
    },
    {
      "cell_type": "code",
      "source": [
        "w = \"Mary is friendly.\"\n",
        "a = w.split()\n",
        "w1 = a[0]; w2 = a[1]; w3 = a[2]\n",
        "\n",
        "nw2 = w2[0].upper() + w2[1:]\n",
        "\n",
        "s = nw2 + ' ' + w1 + ' ' + w3\n",
        "\n",
        "s1 = s[:-1]\n",
        "s2 = s1 + '?'\n",
        "s2"
      ],
      "metadata": {
        "colab": {
          "base_uri": "https://localhost:8080/",
          "height": 35
        },
        "id": "ntVrOOAA1wCJ",
        "outputId": "848a4848-4791-4ab4-a77b-fdafffb6eb35"
      },
      "execution_count": 44,
      "outputs": [
        {
          "output_type": "execute_result",
          "data": {
            "text/plain": [
              "'Is Mary friendly?'"
            ],
            "application/vnd.google.colaboratory.intrinsic+json": {
              "type": "string"
            }
          },
          "metadata": {},
          "execution_count": 44
        }
      ]
    },
    {
      "cell_type": "code",
      "source": [
        "m = \"Joey is a student.\"\n",
        "a = m.split()\n",
        "m1 = a[0] ; m2 = a[1] ; m3 = a[2] ; m4 = a[3]\n",
        "\n",
        "nm2 = m2[0].upper() + m2[1:]\n",
        "\n",
        "s = nm2 + \" \" + m1 + \" \" + m3 + \" \" + m4\n",
        "\n",
        "s1 = s[:-1]\n",
        "s2 = s1 + '?'\n",
        "s2"
      ],
      "metadata": {
        "colab": {
          "base_uri": "https://localhost:8080/",
          "height": 35
        },
        "id": "ZwnS9KBy3oqG",
        "outputId": "c55165e5-994c-43bd-e7eb-299d6a9d0285"
      },
      "execution_count": 55,
      "outputs": [
        {
          "output_type": "execute_result",
          "data": {
            "text/plain": [
              "'Is Joey a student?'"
            ],
            "application/vnd.google.colaboratory.intrinsic+json": {
              "type": "string"
            }
          },
          "metadata": {},
          "execution_count": 55
        }
      ]
    },
    {
      "cell_type": "code",
      "source": [
        "m = \"Joey is my bestfriend.\"\n",
        "a = m.split()\n",
        "m1 = a[0] ; m2 = a[1] ; m3 = a[2] ; m4 = a[3]\n",
        "\n",
        "nm2 = m2[0].upper() + m2[1:]\n",
        "\n",
        "s = nm2 + \" \" + m1 + \" \" + m3 + \" \" + m4\n",
        "\n",
        "s1 = s[:-1]\n",
        "s2 = s1 + '?'\n",
        "s2"
      ],
      "metadata": {
        "colab": {
          "base_uri": "https://localhost:8080/",
          "height": 35
        },
        "id": "wIaOyJ8_6F6A",
        "outputId": "c757d3bf-731a-4b3a-da7d-6d0d83ea3e3f"
      },
      "execution_count": 56,
      "outputs": [
        {
          "output_type": "execute_result",
          "data": {
            "text/plain": [
              "'Is Joey my bestfriend?'"
            ],
            "application/vnd.google.colaboratory.intrinsic+json": {
              "type": "string"
            }
          },
          "metadata": {},
          "execution_count": 56
        }
      ]
    },
    {
      "cell_type": "markdown",
      "source": [],
      "metadata": {
        "id": "St567elz6xLb"
      }
    },
    {
      "cell_type": "markdown",
      "source": [
        "# 04. Text-to-speach app"
      ],
      "metadata": {
        "id": "b9_9lcdrVuSy"
      }
    },
    {
      "cell_type": "markdown",
      "source": [
        "## setting-ups"
      ],
      "metadata": {
        "id": "HKtZg-sbV23Z"
      }
    },
    {
      "cell_type": "code",
      "source": [
        "!pip install gtts\n",
        "!pip install IPython\n",
        "!pip install gradio"
      ],
      "metadata": {
        "colab": {
          "base_uri": "https://localhost:8080/"
        },
        "id": "KUxDOo14V60i",
        "outputId": "f204a47d-685b-4f03-8a78-ad541601886f"
      },
      "execution_count": 105,
      "outputs": [
        {
          "output_type": "stream",
          "name": "stdout",
          "text": [
            "Looking in indexes: https://pypi.org/simple, https://us-python.pkg.dev/colab-wheels/public/simple/\n",
            "Requirement already satisfied: gtts in /usr/local/lib/python3.10/dist-packages (2.3.2)\n",
            "Requirement already satisfied: requests<3,>=2.27 in /usr/local/lib/python3.10/dist-packages (from gtts) (2.27.1)\n",
            "Requirement already satisfied: click<8.2,>=7.1 in /usr/local/lib/python3.10/dist-packages (from gtts) (8.1.3)\n",
            "Requirement already satisfied: certifi>=2017.4.17 in /usr/local/lib/python3.10/dist-packages (from requests<3,>=2.27->gtts) (2022.12.7)\n",
            "Requirement already satisfied: idna<4,>=2.5 in /usr/local/lib/python3.10/dist-packages (from requests<3,>=2.27->gtts) (3.4)\n",
            "Requirement already satisfied: urllib3<1.27,>=1.21.1 in /usr/local/lib/python3.10/dist-packages (from requests<3,>=2.27->gtts) (1.26.15)\n",
            "Requirement already satisfied: charset-normalizer~=2.0.0 in /usr/local/lib/python3.10/dist-packages (from requests<3,>=2.27->gtts) (2.0.12)\n",
            "Looking in indexes: https://pypi.org/simple, https://us-python.pkg.dev/colab-wheels/public/simple/\n",
            "Requirement already satisfied: IPython in /usr/local/lib/python3.10/dist-packages (7.34.0)\n",
            "Requirement already satisfied: matplotlib-inline in /usr/local/lib/python3.10/dist-packages (from IPython) (0.1.6)\n",
            "Requirement already satisfied: traitlets>=4.2 in /usr/local/lib/python3.10/dist-packages (from IPython) (5.7.1)\n",
            "Requirement already satisfied: jedi>=0.16 in /usr/local/lib/python3.10/dist-packages (from IPython) (0.18.2)\n",
            "Requirement already satisfied: setuptools>=18.5 in /usr/local/lib/python3.10/dist-packages (from IPython) (67.7.2)\n",
            "Requirement already satisfied: prompt-toolkit!=3.0.0,!=3.0.1,<3.1.0,>=2.0.0 in /usr/local/lib/python3.10/dist-packages (from IPython) (3.0.38)\n",
            "Requirement already satisfied: backcall in /usr/local/lib/python3.10/dist-packages (from IPython) (0.2.0)\n",
            "Requirement already satisfied: pygments in /usr/local/lib/python3.10/dist-packages (from IPython) (2.14.0)\n",
            "Requirement already satisfied: pexpect>4.3 in /usr/local/lib/python3.10/dist-packages (from IPython) (4.8.0)\n",
            "Requirement already satisfied: decorator in /usr/local/lib/python3.10/dist-packages (from IPython) (4.4.2)\n",
            "Requirement already satisfied: pickleshare in /usr/local/lib/python3.10/dist-packages (from IPython) (0.7.5)\n",
            "Requirement already satisfied: parso<0.9.0,>=0.8.0 in /usr/local/lib/python3.10/dist-packages (from jedi>=0.16->IPython) (0.8.3)\n",
            "Requirement already satisfied: ptyprocess>=0.5 in /usr/local/lib/python3.10/dist-packages (from pexpect>4.3->IPython) (0.7.0)\n",
            "Requirement already satisfied: wcwidth in /usr/local/lib/python3.10/dist-packages (from prompt-toolkit!=3.0.0,!=3.0.1,<3.1.0,>=2.0.0->IPython) (0.2.6)\n",
            "Looking in indexes: https://pypi.org/simple, https://us-python.pkg.dev/colab-wheels/public/simple/\n",
            "Requirement already satisfied: gradio in /usr/local/lib/python3.10/dist-packages (3.28.1)\n",
            "Requirement already satisfied: fastapi in /usr/local/lib/python3.10/dist-packages (from gradio) (0.95.1)\n",
            "Requirement already satisfied: numpy in /usr/local/lib/python3.10/dist-packages (from gradio) (1.22.4)\n",
            "Requirement already satisfied: pydub in /usr/local/lib/python3.10/dist-packages (from gradio) (0.25.1)\n",
            "Requirement already satisfied: markupsafe in /usr/local/lib/python3.10/dist-packages (from gradio) (2.1.2)\n",
            "Requirement already satisfied: altair>=4.2.0 in /usr/local/lib/python3.10/dist-packages (from gradio) (4.2.2)\n",
            "Requirement already satisfied: mdit-py-plugins<=0.3.3 in /usr/local/lib/python3.10/dist-packages (from gradio) (0.3.3)\n",
            "Requirement already satisfied: markdown-it-py[linkify]>=2.0.0 in /usr/local/lib/python3.10/dist-packages (from gradio) (2.2.0)\n",
            "Requirement already satisfied: httpx in /usr/local/lib/python3.10/dist-packages (from gradio) (0.24.0)\n",
            "Requirement already satisfied: jinja2 in /usr/local/lib/python3.10/dist-packages (from gradio) (3.1.2)\n",
            "Requirement already satisfied: huggingface-hub>=0.13.0 in /usr/local/lib/python3.10/dist-packages (from gradio) (0.14.1)\n",
            "Requirement already satisfied: pandas in /usr/local/lib/python3.10/dist-packages (from gradio) (1.5.3)\n",
            "Requirement already satisfied: aiofiles in /usr/local/lib/python3.10/dist-packages (from gradio) (23.1.0)\n",
            "Requirement already satisfied: ffmpy in /usr/local/lib/python3.10/dist-packages (from gradio) (0.3.0)\n",
            "Requirement already satisfied: semantic-version in /usr/local/lib/python3.10/dist-packages (from gradio) (2.10.0)\n",
            "Requirement already satisfied: uvicorn in /usr/local/lib/python3.10/dist-packages (from gradio) (0.22.0)\n",
            "Requirement already satisfied: aiohttp in /usr/local/lib/python3.10/dist-packages (from gradio) (3.8.4)\n",
            "Requirement already satisfied: gradio-client>=0.1.3 in /usr/local/lib/python3.10/dist-packages (from gradio) (0.1.4)\n",
            "Requirement already satisfied: orjson in /usr/local/lib/python3.10/dist-packages (from gradio) (3.8.11)\n",
            "Requirement already satisfied: typing-extensions in /usr/local/lib/python3.10/dist-packages (from gradio) (4.5.0)\n",
            "Requirement already satisfied: websockets>=10.0 in /usr/local/lib/python3.10/dist-packages (from gradio) (11.0.2)\n",
            "Requirement already satisfied: pyyaml in /usr/local/lib/python3.10/dist-packages (from gradio) (6.0)\n",
            "Requirement already satisfied: pydantic in /usr/local/lib/python3.10/dist-packages (from gradio) (1.10.7)\n",
            "Requirement already satisfied: python-multipart in /usr/local/lib/python3.10/dist-packages (from gradio) (0.0.6)\n",
            "Requirement already satisfied: requests in /usr/local/lib/python3.10/dist-packages (from gradio) (2.27.1)\n",
            "Requirement already satisfied: matplotlib in /usr/local/lib/python3.10/dist-packages (from gradio) (3.7.1)\n",
            "Requirement already satisfied: pillow in /usr/local/lib/python3.10/dist-packages (from gradio) (8.4.0)\n",
            "Requirement already satisfied: jsonschema>=3.0 in /usr/local/lib/python3.10/dist-packages (from altair>=4.2.0->gradio) (4.3.3)\n",
            "Requirement already satisfied: entrypoints in /usr/local/lib/python3.10/dist-packages (from altair>=4.2.0->gradio) (0.4)\n",
            "Requirement already satisfied: toolz in /usr/local/lib/python3.10/dist-packages (from altair>=4.2.0->gradio) (0.12.0)\n",
            "Requirement already satisfied: fsspec in /usr/local/lib/python3.10/dist-packages (from gradio-client>=0.1.3->gradio) (2023.4.0)\n",
            "Requirement already satisfied: packaging in /usr/local/lib/python3.10/dist-packages (from gradio-client>=0.1.3->gradio) (23.1)\n",
            "Requirement already satisfied: filelock in /usr/local/lib/python3.10/dist-packages (from huggingface-hub>=0.13.0->gradio) (3.12.0)\n",
            "Requirement already satisfied: tqdm>=4.42.1 in /usr/local/lib/python3.10/dist-packages (from huggingface-hub>=0.13.0->gradio) (4.65.0)\n",
            "Requirement already satisfied: mdurl~=0.1 in /usr/local/lib/python3.10/dist-packages (from markdown-it-py[linkify]>=2.0.0->gradio) (0.1.2)\n",
            "Requirement already satisfied: linkify-it-py<3,>=1 in /usr/local/lib/python3.10/dist-packages (from markdown-it-py[linkify]>=2.0.0->gradio) (2.0.0)\n",
            "Requirement already satisfied: python-dateutil>=2.8.1 in /usr/local/lib/python3.10/dist-packages (from pandas->gradio) (2.8.2)\n",
            "Requirement already satisfied: pytz>=2020.1 in /usr/local/lib/python3.10/dist-packages (from pandas->gradio) (2022.7.1)\n",
            "Requirement already satisfied: frozenlist>=1.1.1 in /usr/local/lib/python3.10/dist-packages (from aiohttp->gradio) (1.3.3)\n",
            "Requirement already satisfied: attrs>=17.3.0 in /usr/local/lib/python3.10/dist-packages (from aiohttp->gradio) (23.1.0)\n",
            "Requirement already satisfied: async-timeout<5.0,>=4.0.0a3 in /usr/local/lib/python3.10/dist-packages (from aiohttp->gradio) (4.0.2)\n",
            "Requirement already satisfied: aiosignal>=1.1.2 in /usr/local/lib/python3.10/dist-packages (from aiohttp->gradio) (1.3.1)\n",
            "Requirement already satisfied: multidict<7.0,>=4.5 in /usr/local/lib/python3.10/dist-packages (from aiohttp->gradio) (6.0.4)\n",
            "Requirement already satisfied: charset-normalizer<4.0,>=2.0 in /usr/local/lib/python3.10/dist-packages (from aiohttp->gradio) (2.0.12)\n",
            "Requirement already satisfied: yarl<2.0,>=1.0 in /usr/local/lib/python3.10/dist-packages (from aiohttp->gradio) (1.9.2)\n",
            "Requirement already satisfied: starlette<0.27.0,>=0.26.1 in /usr/local/lib/python3.10/dist-packages (from fastapi->gradio) (0.26.1)\n",
            "Requirement already satisfied: httpcore<0.18.0,>=0.15.0 in /usr/local/lib/python3.10/dist-packages (from httpx->gradio) (0.17.0)\n",
            "Requirement already satisfied: certifi in /usr/local/lib/python3.10/dist-packages (from httpx->gradio) (2022.12.7)\n",
            "Requirement already satisfied: sniffio in /usr/local/lib/python3.10/dist-packages (from httpx->gradio) (1.3.0)\n",
            "Requirement already satisfied: idna in /usr/local/lib/python3.10/dist-packages (from httpx->gradio) (3.4)\n",
            "Requirement already satisfied: fonttools>=4.22.0 in /usr/local/lib/python3.10/dist-packages (from matplotlib->gradio) (4.39.3)\n",
            "Requirement already satisfied: kiwisolver>=1.0.1 in /usr/local/lib/python3.10/dist-packages (from matplotlib->gradio) (1.4.4)\n",
            "Requirement already satisfied: pyparsing>=2.3.1 in /usr/local/lib/python3.10/dist-packages (from matplotlib->gradio) (3.0.9)\n",
            "Requirement already satisfied: cycler>=0.10 in /usr/local/lib/python3.10/dist-packages (from matplotlib->gradio) (0.11.0)\n",
            "Requirement already satisfied: contourpy>=1.0.1 in /usr/local/lib/python3.10/dist-packages (from matplotlib->gradio) (1.0.7)\n",
            "Requirement already satisfied: urllib3<1.27,>=1.21.1 in /usr/local/lib/python3.10/dist-packages (from requests->gradio) (1.26.15)\n",
            "Requirement already satisfied: h11>=0.8 in /usr/local/lib/python3.10/dist-packages (from uvicorn->gradio) (0.14.0)\n",
            "Requirement already satisfied: click>=7.0 in /usr/local/lib/python3.10/dist-packages (from uvicorn->gradio) (8.1.3)\n",
            "Requirement already satisfied: anyio<5.0,>=3.0 in /usr/local/lib/python3.10/dist-packages (from httpcore<0.18.0,>=0.15.0->httpx->gradio) (3.6.2)\n",
            "Requirement already satisfied: pyrsistent!=0.17.0,!=0.17.1,!=0.17.2,>=0.14.0 in /usr/local/lib/python3.10/dist-packages (from jsonschema>=3.0->altair>=4.2.0->gradio) (0.19.3)\n",
            "Requirement already satisfied: uc-micro-py in /usr/local/lib/python3.10/dist-packages (from linkify-it-py<3,>=1->markdown-it-py[linkify]>=2.0.0->gradio) (1.0.1)\n",
            "Requirement already satisfied: six>=1.5 in /usr/local/lib/python3.10/dist-packages (from python-dateutil>=2.8.1->pandas->gradio) (1.16.0)\n"
          ]
        }
      ]
    },
    {
      "cell_type": "markdown",
      "source": [
        "해당 코드는 Python에서 사용할 수 있는 라이브러리들을 설치하는 코드입니다. 각각의 라이브러리는 다음과 같은 역할을 수행합니다.\n",
        "\n",
        "- gtts : Google Text-to-Speech API를 사용하여 텍스트를 음성으로 변환해주는 라이브러리입니다. <br>\n",
        "- IPython : IPython 환경에서 사용할 수 있는 여러 기능들을 제공하는 라이브러리입니다.<br>\n",
        "- gradio : 웹 기반 인터페이스를 제공하는 라이브러리로, 간단한 인터페이스를 통해 모델 테스트, 평가 등을 할 수 있습니다."
      ],
      "metadata": {
        "id": "ryXwTwW7WJS0"
      }
    },
    {
      "cell_type": "code",
      "source": [
        "from gtts import gTTS\n",
        "from IPython.display import Audio, display\n",
        "from ipywidgets import widgets\n",
        "import os\n",
        "import gradio as gr"
      ],
      "metadata": {
        "id": "aDr8Yt5RWXLN"
      },
      "execution_count": 106,
      "outputs": []
    },
    {
      "cell_type": "markdown",
      "source": [
        "이 코드는 GTTS를 사용하여 텍스트를 음성으로 변환하고, IPython.display와 ipywidgets를 사용하여 Colab에서 오디오 재생을 제어하며, Gradio를 사용하여 인터랙티브 웹 애플리케이션을 만들기 위한 필수 라이브러리를 import하는 코드입니다.\n",
        "\n",
        "- gtts는 텍스트를 음성으로 변환해주는 라이브러리입니다.<br>\n",
        "- IPython.display 모듈은 Colab에서 이미지, 오디오 등 다양한 미디어 타입을 출력하는 기능을 제공합니다. <br>\n",
        "- ipywidgets 모듈은 인터랙티브한 위젯을 만들어주는 라이브러리입니다.<br>\n",
        "- gradio는 머신러닝 모델을 쉽게 웹 인터페이스로 구현할 수 있게 해주는 라이브러리입니다."
      ],
      "metadata": {
        "id": "pZZWIngtWhA0"
      }
    },
    {
      "cell_type": "markdown",
      "source": [
        "## Text-to-speach with continue buttons"
      ],
      "metadata": {
        "id": "kWYpahsBW9Yt"
      }
    },
    {
      "cell_type": "code",
      "source": [
        "!pip install gradio"
      ],
      "metadata": {
        "id": "FMUpBwiwYNXq"
      },
      "execution_count": 107,
      "outputs": []
    },
    {
      "cell_type": "code",
      "source": [
        "#@markdown Text-to-Speech with continue buttons (yes or no)\n",
        "\n",
        "def create_and_play_audio(text):\n",
        "    truncated_text = text[:13] if len(text) > 13 else text\n",
        "    filename = f\"{truncated_text}.mp3\"\n",
        "    tts = gTTS(text, lang='en')\n",
        "    tts.save(filename)\n",
        "    return Audio(filename, autoplay=True)\n",
        "\n",
        "def on_button_click(button):\n",
        "    if button.description == \"Yes\":\n",
        "        main()\n",
        "    else:\n",
        "        print(\"Well done!\")\n",
        "        for btn in buttons:\n",
        "            btn.close()\n",
        "\n",
        "def create_buttons():\n",
        "    button_yes = widgets.Button(description=\"Yes\")\n",
        "    button_no = widgets.Button(description=\"No\")\n",
        "    button_yes.on_click(on_button_click)\n",
        "    button_no.on_click(on_button_click)\n",
        "\n",
        "    return [button_yes, button_no]\n",
        "\n",
        "def main():\n",
        "    print(\"Enter the text to convert to speech:\")\n",
        "    text_input = widgets.Text()\n",
        "    display(text_input)\n",
        "\n",
        "    def on_text_submit(sender):\n",
        "        user_text = text_input.value\n",
        "        if user_text:\n",
        "            text_input.value = \"\"\n",
        "            text_input.disabled = True\n",
        "            audio = create_and_play_audio(user_text)\n",
        "            display(audio)\n",
        "\n",
        "            print(\"Do you want to continue?\")\n",
        "            global buttons\n",
        "            buttons = create_buttons()\n",
        "            display(widgets.HBox(buttons))\n",
        "\n",
        "    text_input.on_submit(on_text_submit)\n",
        "\n",
        "if __name__ == \"__main__\":\n",
        "    main()\n"
      ],
      "metadata": {
        "id": "jhisCXeTcOQ9"
      },
      "execution_count": null,
      "outputs": []
    },
    {
      "cell_type": "markdown",
      "source": [
        "## Create a live link of the app using {Gradio}"
      ],
      "metadata": {
        "id": "hbsjfqEdbwK7"
      }
    },
    {
      "cell_type": "code",
      "source": [
        "#@markdown Online text-to-speech\n",
        "\n",
        "def create_and_play_audio(text):\n",
        "    filename = f\"{text[:10]}.mp3\" if len(text) > 10 else f\"{text}.mp3\"\n",
        "    tts = gTTS(text, lang='en')\n",
        "    tts.save(filename)\n",
        "    return filename\n",
        "\n",
        "def tts_app(text):\n",
        "    audio_file = create_and_play_audio(text)\n",
        "    return audio_file\n",
        "\n",
        "iface = gr.Interface(\n",
        "    fn=tts_app,\n",
        "    inputs=gr.inputs.Textbox(lines=3, label=\"Enter text to convert to speech\"),\n",
        "    outputs=gr.outputs.Audio(type=\"filepath\", label=\"Generated speech\"),\n",
        "    title=\"My Text-to-Speech App\",\n",
        "    description=\"A simple Text-to-Speech app using gTTS. This link is for my class, and it expires in 72 hours.\",\n",
        ")\n",
        "\n",
        "iface.launch(share=True)\n"
      ],
      "metadata": {
        "id": "ZrXSbvdBH6YW"
      },
      "execution_count": null,
      "outputs": []
    },
    {
      "cell_type": "markdown",
      "source": [
        "# 05. Control structures: for loops, while loops, and conditional statement (if, elif, else)"
      ],
      "metadata": {
        "id": "tyulZFOmc38G"
      }
    },
    {
      "cell_type": "markdown",
      "source": [
        "##  for loops"
      ],
      "metadata": {
        "id": "lCCdaD14c_xV"
      }
    },
    {
      "cell_type": "code",
      "source": [
        "number = 2\n",
        "print(number**2)"
      ],
      "metadata": {
        "id": "8axdZo8yyK49",
        "outputId": "9c80838a-59c3-4466-8ff7-6d7477d86034",
        "colab": {
          "base_uri": "https://localhost:8080/"
        }
      },
      "execution_count": null,
      "outputs": [
        {
          "output_type": "stream",
          "name": "stdout",
          "text": [
            "4\n"
          ]
        }
      ]
    },
    {
      "cell_type": "markdown",
      "source": [
        "If you want the same process (square of x) for 1, 2, 3, 4, 5"
      ],
      "metadata": {
        "id": "m9sAA43oyUG-"
      }
    },
    {
      "cell_type": "code",
      "source": [
        "# Define a list of numbers\n",
        "numbers = [1, 2, 3, 4, 5]\n",
        "\n",
        "# Use a for loop to iterate through the list\n",
        "for num in numbers:\n",
        "    # Print the square of each number\n",
        "    print(num ** 2)"
      ],
      "metadata": {
        "id": "N1b7Us8myGNK",
        "outputId": "60df1c3f-2c2b-4a1f-f4a9-f38ee1a8b799",
        "colab": {
          "base_uri": "https://localhost:8080/"
        }
      },
      "execution_count": null,
      "outputs": [
        {
          "output_type": "stream",
          "name": "stdout",
          "text": [
            "1\n",
            "4\n",
            "9\n",
            "16\n",
            "25\n"
          ]
        }
      ]
    },
    {
      "cell_type": "code",
      "source": [
        "numbers = [1,2,3,4,5]\n",
        "squared = []\n",
        "\n",
        "for i in numbers:\n",
        "  s = i ** 2\n",
        "  squared.append(s)\n",
        "\n",
        "print(squared)"
      ],
      "metadata": {
        "id": "N6WKYWzAi9zS",
        "outputId": "93cceb5b-2f13-40f7-f9df-a7b97c397aab",
        "colab": {
          "base_uri": "https://localhost:8080/"
        }
      },
      "execution_count": null,
      "outputs": [
        {
          "output_type": "stream",
          "name": "stdout",
          "text": [
            "[1, 4, 9, 16, 25]\n"
          ]
        }
      ]
    },
    {
      "cell_type": "markdown",
      "source": [
        "DIY\n",
        "\n",
        "1. Ask how many to input\n",
        "2. User input name\n",
        "3. Using for loop, append the attendance list\n",
        "\n",
        "\n",
        "\n"
      ],
      "metadata": {
        "id": "eoodtQr3PQZa"
      }
    },
    {
      "cell_type": "code",
      "source": [
        "num_names = input(\"How many names? \")\n",
        "num_names = int(num_names)\n",
        "\n",
        "attendance = []\n",
        "\n",
        "for i in range(0, num_names):\n",
        "  name = input()\n",
        "  attendance.append(name)\n",
        "\n",
        "print(attendance)\n"
      ],
      "metadata": {
        "id": "1h-L7PPzP0o4",
        "outputId": "820010b2-4d01-4b38-b4a4-597bcb2f8f3a",
        "colab": {
          "base_uri": "https://localhost:8080/"
        }
      },
      "execution_count": null,
      "outputs": [
        {
          "output_type": "stream",
          "name": "stdout",
          "text": [
            "How many names? 3\n",
            "Tom\n",
            "Jane\n",
            "Mary\n",
            "['Tom', 'Jane', 'Mary']\n"
          ]
        }
      ]
    },
    {
      "cell_type": "code",
      "source": [
        "len(attendance)"
      ],
      "metadata": {
        "id": "0esSSfGdQOaL",
        "outputId": "f1e19718-f393-4d2f-cbb7-070a11e1f9fe",
        "colab": {
          "base_uri": "https://localhost:8080/"
        }
      },
      "execution_count": null,
      "outputs": [
        {
          "output_type": "execute_result",
          "data": {
            "text/plain": [
              "3"
            ]
          },
          "metadata": {},
          "execution_count": 5
        }
      ]
    },
    {
      "cell_type": "markdown",
      "source": [
        "DIY: using for loop, print odd numbers starting from 17"
      ],
      "metadata": {
        "id": "HR8OoxDK0BIe"
      }
    },
    {
      "cell_type": "code",
      "source": [
        "# start_number = \n",
        "\n",
        "# for i in range(,,):\n",
        "#   print(i)"
      ],
      "metadata": {
        "id": "30AxHsUi0NXY"
      },
      "execution_count": 124,
      "outputs": []
    },
    {
      "cell_type": "code",
      "source": [
        "# DIY how to get a list with numbers 1*1, 2*4, 3*9, 4*16, 5*25 from the above\n",
        "\n",
        "a = numbers\n",
        "b = squared\n",
        "# hint: a[0] = 1, a[2] = 2, b[0]=1, b[1]=4\n",
        "\n",
        "#for i in range(,):\n",
        "#  s = \n",
        "#  print(s)"
      ],
      "metadata": {
        "id": "DUNgA-9Xo0JI"
      },
      "execution_count": null,
      "outputs": []
    },
    {
      "cell_type": "code",
      "source": [
        "a = [1, 2, 3, 4, 5]\n",
        "b = [1, 4, 9, 16, 25]\n",
        "s = [a[i] * b[i] for i in range(len(a))]\n",
        "print(s)"
      ],
      "metadata": {
        "colab": {
          "base_uri": "https://localhost:8080/",
          "height": 209
        },
        "id": "buZASQpte1Fk",
        "outputId": "18c9bd45-cd9c-415e-8543-d4e888c9c128"
      },
      "execution_count": 130,
      "outputs": [
        {
          "output_type": "error",
          "ename": "TypeError",
          "evalue": "ignored",
          "traceback": [
            "\u001b[0;31m---------------------------------------------------------------------------\u001b[0m",
            "\u001b[0;31mTypeError\u001b[0m                                 Traceback (most recent call last)",
            "\u001b[0;32m<ipython-input-130-beb7ec7829f1>\u001b[0m in \u001b[0;36m<cell line: 4>\u001b[0;34m()\u001b[0m\n\u001b[1;32m      2\u001b[0m \u001b[0mb\u001b[0m \u001b[0;34m=\u001b[0m \u001b[0;34m[\u001b[0m\u001b[0;36m1\u001b[0m\u001b[0;34m,\u001b[0m \u001b[0;36m4\u001b[0m\u001b[0;34m,\u001b[0m \u001b[0;36m9\u001b[0m\u001b[0;34m,\u001b[0m \u001b[0;36m16\u001b[0m\u001b[0;34m,\u001b[0m \u001b[0;36m25\u001b[0m\u001b[0;34m]\u001b[0m\u001b[0;34m\u001b[0m\u001b[0;34m\u001b[0m\u001b[0m\n\u001b[1;32m      3\u001b[0m \u001b[0ms\u001b[0m \u001b[0;34m=\u001b[0m \u001b[0;34m[\u001b[0m\u001b[0ma\u001b[0m\u001b[0;34m[\u001b[0m\u001b[0mi\u001b[0m\u001b[0;34m]\u001b[0m \u001b[0;34m*\u001b[0m \u001b[0mb\u001b[0m\u001b[0;34m[\u001b[0m\u001b[0mi\u001b[0m\u001b[0;34m]\u001b[0m \u001b[0;32mfor\u001b[0m \u001b[0mi\u001b[0m \u001b[0;32min\u001b[0m \u001b[0mrange\u001b[0m\u001b[0;34m(\u001b[0m\u001b[0mlen\u001b[0m\u001b[0;34m(\u001b[0m\u001b[0ma\u001b[0m\u001b[0;34m)\u001b[0m\u001b[0;34m)\u001b[0m\u001b[0;34m]\u001b[0m\u001b[0;34m\u001b[0m\u001b[0;34m\u001b[0m\u001b[0m\n\u001b[0;32m----> 4\u001b[0;31m \u001b[0mprint\u001b[0m\u001b[0;34m(\u001b[0m\u001b[0ms\u001b[0m\u001b[0;34m)\u001b[0m\u001b[0;34m\u001b[0m\u001b[0;34m\u001b[0m\u001b[0m\n\u001b[0m",
            "\u001b[0;31mTypeError\u001b[0m: 'list' object is not callable"
          ]
        }
      ]
    }
  ]
}