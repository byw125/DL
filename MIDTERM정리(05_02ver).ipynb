{
  "nbformat": 4,
  "nbformat_minor": 0,
  "metadata": {
    "colab": {
      "provenance": [],
      "collapsed_sections": [
        "-t54x6O5kG2e",
        "JGQzsNiFkVUh",
        "ZInL_my3owGo",
        "AtLHErpzjXDO",
        "T6AcMxdYje49",
        "opLKVCd4oGDF",
        "g9iHNwAxph1n",
        "ID0wThBfp81c"
      ],
      "authorship_tag": "ABX9TyO7MDOp+YJQkFlA6ojiN/eN",
      "include_colab_link": true
    },
    "kernelspec": {
      "name": "python3",
      "display_name": "Python 3"
    },
    "language_info": {
      "name": "python"
    }
  },
  "cells": [
    {
      "cell_type": "markdown",
      "metadata": {
        "id": "view-in-github",
        "colab_type": "text"
      },
      "source": [
        "<a href=\"https://colab.research.google.com/github/byw125/DL/blob/main/MIDTERM%EC%A0%95%EB%A6%AC(05_02ver).ipynb\" target=\"_parent\"><img src=\"https://colab.research.google.com/assets/colab-badge.svg\" alt=\"Open In Colab\"/></a>"
      ]
    },
    {
      "cell_type": "markdown",
      "source": [
        " # 01. How to import a module (like random) and use its functions"
      ],
      "metadata": {
        "id": "GlK_zTvQoP4b"
      }
    },
    {
      "cell_type": "markdown",
      "source": [
        "- 코딩에서 모듈(Module)은 하나의 파이썬 파일(.py)로, 변수, 함수, 클래스 등을 정의하고 실행할 수 있는 코드의 집합.\n",
        "- 다른 파이썬 파일에서 모듈을 사용할 때는 import 문을 사용. \n",
        "- 이 때 import 문 뒤에 모듈의 이름을 지정하면 해당 모듈의 함수, 변수, 클래스 등을 사용할 수 있음."
      ],
      "metadata": {
        "id": "bz-46pgSdKv_"
      }
    },
    {
      "cell_type": "code",
      "execution_count": null,
      "metadata": {
        "colab": {
          "base_uri": "https://localhost:8080/"
        },
        "id": "a_3WFb9HccdA",
        "outputId": "8cab97fc-683b-4e84-83fc-95bf8993f535"
      },
      "outputs": [
        {
          "output_type": "stream",
          "name": "stdout",
          "text": [
            "[2, 1, 3, 5, 4]\n"
          ]
        }
      ],
      "source": [
        "#주어진 숫자를 셔플하여 제공하는 function\n",
        "\n",
        "import random\n",
        "\n",
        "numbers = [1, 2, 3, 4, 5]\n",
        "random.shuffle(numbers)\n",
        "\n",
        "print(numbers)"
      ]
    },
    {
      "cell_type": "code",
      "source": [
        "#주어진 숫자 사이의 한 숫자를 제공하는 function\n",
        "\n",
        "import random\n",
        "\n",
        "random_number = random.randint(1, 10)\n",
        "print(random_number)"
      ],
      "metadata": {
        "colab": {
          "base_uri": "https://localhost:8080/"
        },
        "id": "Nza8ws0Jdtln",
        "outputId": "9dde56ec-0930-4f57-fcda-0af50bf7958b"
      },
      "execution_count": null,
      "outputs": [
        {
          "output_type": "stream",
          "name": "stdout",
          "text": [
            "9\n"
          ]
        }
      ]
    },
    {
      "cell_type": "markdown",
      "source": [
        "# 02. Python basics: Basic data types, variables, and basic input/output functions."
      ],
      "metadata": {
        "id": "PhoZjkxAoKDp"
      }
    },
    {
      "cell_type": "markdown",
      "source": [
        "## 문자열(strings) <br>\n",
        ": 문자(character)들의 시퀀스(sequence)  /  따옴표(' ' 또는 \" \")로 묶인 문자열을 생성 가능<br>\n",
        ": 문자열 내부에는 인덱싱(indexing)과 슬라이싱(slicing)을 통해 특정 문자에 접근할 수 있음. 예를 들어, \"Hello World!\"라는 문자열에서 'W'를 출력하려면 문자열[6]으로 접근 가능.<br>\n",
        ": 문자열 내부에서 \\n을 사용하면 줄바꿈할 수 있음<br>"
      ],
      "metadata": {
        "id": "qPaDQYKmexw-"
      }
    },
    {
      "cell_type": "code",
      "source": [
        "my_string = \"Hello, World!\"\n",
        "print(my_string) # Hello, World!"
      ],
      "metadata": {
        "colab": {
          "base_uri": "https://localhost:8080/"
        },
        "id": "0lG5tvlSljld",
        "outputId": "1b5664d1-b660-4663-ff87-6473d7b17031"
      },
      "execution_count": null,
      "outputs": [
        {
          "output_type": "stream",
          "name": "stdout",
          "text": [
            "Hello, World!\n"
          ]
        }
      ]
    },
    {
      "cell_type": "markdown",
      "source": [
        "## 정수(integers)<br>\n",
        ": 정수형(Integer)과 부동소수점형(Float)은 파이썬에서 사용되는 숫자 데이터 타입 (키워드는 int)<br>\n",
        ": 정수는 소수점 이하가 없는 숫자.<br>\n",
        ": Python에서는 일반적인 사칙연산과 같은 연산자를 사용하여 정수 연산을 수행할 수 있음. <br>\n",
        ": 부동소수점형(Float)은 소수점 이하를 가지는 실수를 표현 (키워드는 float)"
      ],
      "metadata": {
        "id": "-t54x6O5kG2e"
      }
    },
    {
      "cell_type": "code",
      "source": [
        "# 더하기\n",
        "a = 10\n",
        "b = 20\n",
        "c = a + b\n",
        "print(c)   # 30"
      ],
      "metadata": {
        "colab": {
          "base_uri": "https://localhost:8080/"
        },
        "id": "Jb3tc9O4mGe_",
        "outputId": "abb8300c-8d6a-4839-d864-bf20a5a6a12e"
      },
      "execution_count": null,
      "outputs": [
        {
          "output_type": "stream",
          "name": "stdout",
          "text": [
            "30\n"
          ]
        }
      ]
    },
    {
      "cell_type": "code",
      "source": [
        "# 빼기\n",
        "a = 10\n",
        "b = 20\n",
        "c = b - a\n",
        "print(c)   # 10\n"
      ],
      "metadata": {
        "colab": {
          "base_uri": "https://localhost:8080/"
        },
        "id": "UiwoSpjJmLoN",
        "outputId": "4a0ddb5e-4798-4494-d61e-ad1cf857738b"
      },
      "execution_count": null,
      "outputs": [
        {
          "output_type": "stream",
          "name": "stdout",
          "text": [
            "10\n"
          ]
        }
      ]
    },
    {
      "cell_type": "code",
      "source": [
        "# 곱하기\n",
        "a = 10\n",
        "b = 20\n",
        "c = a * b\n",
        "print(c)   # 200"
      ],
      "metadata": {
        "colab": {
          "base_uri": "https://localhost:8080/"
        },
        "id": "gvU_e3_GmUby",
        "outputId": "17d09861-7a76-477c-9636-6c6da8bcd885"
      },
      "execution_count": null,
      "outputs": [
        {
          "output_type": "stream",
          "name": "stdout",
          "text": [
            "200\n"
          ]
        }
      ]
    },
    {
      "cell_type": "code",
      "source": [
        "# (결과값은 실수형이 되고 /자리에 %를 써서 나머지를 반환받을 수 있다.)\n",
        "a = 10\n",
        "b = 20\n",
        "c = b / a\n",
        "print(c)   # 2.0"
      ],
      "metadata": {
        "colab": {
          "base_uri": "https://localhost:8080/"
        },
        "id": "YsLvrwTpmf2N",
        "outputId": "b3838e74-8512-4dc6-bb8d-63ae2f793e97"
      },
      "execution_count": null,
      "outputs": [
        {
          "output_type": "stream",
          "name": "stdout",
          "text": [
            "2.0\n"
          ]
        }
      ]
    },
    {
      "cell_type": "markdown",
      "source": [
        "## 리스트(lists) <br>\n",
        ": 리스트는 대괄호([ ])로 묶인 값들의 시퀀스 (각 값은 쉼표로 구분) <br>\n",
        ": 덱싱과 슬라이싱을 통해 특정 요소에 접근하거나 변경할 수 있음."
      ],
      "metadata": {
        "id": "c65gHsmMkNG2"
      }
    },
    {
      "cell_type": "markdown",
      "source": [
        "list는 프린트 할 수 없음"
      ],
      "metadata": {
        "id": "b12rXIPi9M6Y"
      }
    },
    {
      "cell_type": "code",
      "source": [
        "fruits = ['apple', 'banana', 'cherry']"
      ],
      "metadata": {
        "id": "qJ2N3sM1kUxJ"
      },
      "execution_count": null,
      "outputs": []
    },
    {
      "cell_type": "code",
      "source": [
        "# 리스트의 각 항목에는 인덱스를 사용하여 접근 가능 (인덱스는 0부터 시작)\n",
        "print(fruits[0])   # 'apple'\n",
        "print(fruits[1])   # 'banana'\n",
        "print(fruits[2])   # 'cherry'"
      ],
      "metadata": {
        "colab": {
          "base_uri": "https://localhost:8080/"
        },
        "id": "vPn1Ynm0m7p3",
        "outputId": "eaa55263-557f-4ca1-a401-24f671d8d786"
      },
      "execution_count": null,
      "outputs": [
        {
          "output_type": "stream",
          "name": "stdout",
          "text": [
            "apple\n",
            "banana\n",
            "cherry\n"
          ]
        }
      ]
    },
    {
      "cell_type": "code",
      "source": [
        "# 빈 리스트 만들기\n",
        "empty_list = []\n",
        "\n",
        "# 정수형 데이터를 포함하는 리스트\n",
        "int_list = [1, 2, 3, 4, 5]\n",
        "\n",
        "# 실수형 데이터를 포함하는 리스트\n",
        "float_list = [1.2, 2.3, 3.4, 4.5, 5.6]\n",
        "\n",
        "# 문자열 데이터를 포함하는 리스트\n",
        "string_list = [\"apple\", \"banana\", \"cherry\", \"durian\"]\n",
        "\n",
        "# 혼합 데이터 타입을 포함하는 리스트\n",
        "mixed_list = [1, \"apple\", 2.5, True, \"banana\"]"
      ],
      "metadata": {
        "id": "lEd1t6-29tBM"
      },
      "execution_count": null,
      "outputs": []
    },
    {
      "cell_type": "markdown",
      "source": [
        "\n",
        "## 딕셔너리(dictionaries) <br>\n",
        ": **{'key':'value'}** <br>\n",
        ": 중괄호({ })로 묶인 key-value 쌍의 집합 (각 쌍은 쉼표로 구분됨) <br>\n",
        ": 딕셔너리는 키(key)를 사용하여 값을 저장하고 검색함. 값을 얻으려면 키를 사용하여 해당 값에 엑세스하고 새 항목을 추가하려면 새 키와 값을 지정해야 함."
      ],
      "metadata": {
        "id": "JGQzsNiFkVUh"
      }
    },
    {
      "cell_type": "code",
      "source": [
        "my_dict = {\"apple\": 1, \"banana\": 2, \"orange\": 3}\n",
        "print(my_dict)\n",
        "#  \"apple\", \"banana\", \"orange\"가 키(Key)이며, 각각의 값(Value)은 1, 2, 3"
      ],
      "metadata": {
        "colab": {
          "base_uri": "https://localhost:8080/"
        },
        "id": "GXgXt3DUkuIp",
        "outputId": "6239fb57-dccf-485f-9f8d-3cf8b9cb47f9"
      },
      "execution_count": null,
      "outputs": [
        {
          "output_type": "stream",
          "name": "stdout",
          "text": [
            "{'apple': 1, 'banana': 2, 'orange': 3}\n"
          ]
        }
      ]
    },
    {
      "cell_type": "code",
      "source": [
        "my_dict = {\"apple\": 1, \"banana\": 2, \"orange\": 3}\n",
        "print(my_dict[\"apple\"])   # 1\n",
        "print(my_dict[\"banana\"])  # 2\n",
        "print(my_dict[\"orange\"])  # 3"
      ],
      "metadata": {
        "colab": {
          "base_uri": "https://localhost:8080/"
        },
        "id": "Bg0SSFbNk7pJ",
        "outputId": "947c8477-e4f6-4907-b9ea-3695ab82e47e"
      },
      "execution_count": null,
      "outputs": [
        {
          "output_type": "stream",
          "name": "stdout",
          "text": [
            "1\n",
            "2\n",
            "3\n"
          ]
        }
      ]
    },
    {
      "cell_type": "code",
      "source": [
        "# 새로운 요소를 추가하기 위해서는 딕셔너리의 이름을 사용하여 대괄호([]) 안에 새로운 키를 넣고, 새로운 값을 할당\n",
        "my_dict = {\"apple\": 1, \"banana\": 2, \"orange\": 3}\n",
        "my_dict[\"grape\"] = 4\n",
        "print(my_dict)  "
      ],
      "metadata": {
        "colab": {
          "base_uri": "https://localhost:8080/"
        },
        "id": "Qz1EfRydlBKp",
        "outputId": "4cb75ca9-8b33-44f1-c103-3a4e3eb100f6"
      },
      "execution_count": null,
      "outputs": [
        {
          "output_type": "stream",
          "name": "stdout",
          "text": [
            "{'apple': 1, 'banana': 2, 'orange': 3, 'grape': 4}\n"
          ]
        }
      ]
    },
    {
      "cell_type": "code",
      "source": [
        "# 딕셔너리에서 특정 요소를 삭제하기 위해서는 del 키워드를 사용. 대괄호([]) 안에 삭제할 요소의 키를 넣으면 됨.\n",
        "my_dict = {\"apple\": 1, \"banana\": 2, \"orange\": 3}\n",
        "del my_dict[\"banana\"]\n",
        "print(my_dict)"
      ],
      "metadata": {
        "colab": {
          "base_uri": "https://localhost:8080/"
        },
        "id": "_LnEa1LIlPNV",
        "outputId": "1fba0902-25ab-46db-d82d-2d0b47d2e422"
      },
      "execution_count": null,
      "outputs": [
        {
          "output_type": "stream",
          "name": "stdout",
          "text": [
            "{'apple': 1, 'orange': 3}\n"
          ]
        }
      ]
    },
    {
      "cell_type": "markdown",
      "source": [
        "## 변수(variables) <br>\n",
        ": 데이터를 저장하는 공간 (Python에서 변수는 값을 할당하는 것으로 생성) <br>\n",
        ": 변수는 문자로 시작해야 하며, 숫자와 문자로 구성될 수 있음."
      ],
      "metadata": {
        "id": "EUmDQ-MMkktn"
      }
    },
    {
      "cell_type": "code",
      "source": [
        "x = 5\n",
        "# 변수에 다른 값을 할당하면 이전에 저장된 값은 더 이상 유지되지 않음."
      ],
      "metadata": {
        "id": "JXBgrUjdkgiy"
      },
      "execution_count": null,
      "outputs": []
    },
    {
      "cell_type": "code",
      "source": [
        "# 변수를 사용하여 계산을 수행할 수 있음.\n",
        "x = 5\n",
        "y = 3\n",
        "z = x + y\n",
        "print(z)   # 8"
      ],
      "metadata": {
        "colab": {
          "base_uri": "https://localhost:8080/"
        },
        "id": "sOhiWQ2Cnidk",
        "outputId": "5ec5806a-407a-4f30-9fa5-2c7b90284ae5"
      },
      "execution_count": null,
      "outputs": [
        {
          "output_type": "stream",
          "name": "stdout",
          "text": [
            "8\n"
          ]
        }
      ]
    },
    {
      "cell_type": "markdown",
      "source": [
        "## type() 함수 <br>\n",
        ": 파이썬에서 객체의 데이터 타입을 반환하는 내장 함수"
      ],
      "metadata": {
        "id": "7xFGWKOdrPp7"
      }
    },
    {
      "cell_type": "code",
      "source": [
        "# x의 데이터 타입을 알 수 있음.\n",
        "x = 10\n",
        "print(type(x)) # <class 'int'>"
      ],
      "metadata": {
        "colab": {
          "base_uri": "https://localhost:8080/"
        },
        "id": "_qMxXQTRrkcU",
        "outputId": "7d7d3ed8-255f-4c66-c1ee-7425ab39231d"
      },
      "execution_count": null,
      "outputs": [
        {
          "output_type": "stream",
          "name": "stdout",
          "text": [
            "<class 'int'>\n"
          ]
        }
      ]
    },
    {
      "cell_type": "code",
      "source": [
        "x = \"Hello, World!\"\n",
        "print(type(x)) # <class 'str'>"
      ],
      "metadata": {
        "colab": {
          "base_uri": "https://localhost:8080/"
        },
        "id": "_4qcc-knr5kt",
        "outputId": "535f9407-4801-4b59-950b-fca97adb1253"
      },
      "execution_count": null,
      "outputs": [
        {
          "output_type": "stream",
          "name": "stdout",
          "text": [
            "<class 'str'>\n"
          ]
        }
      ]
    },
    {
      "cell_type": "markdown",
      "source": [
        "\n",
        "## print() 함수 <br>\n",
        ": 괄호 안에 있는 값을 출력 <br>"
      ],
      "metadata": {
        "id": "mpLvO03GkgxC"
      }
    },
    {
      "cell_type": "markdown",
      "source": [
        "## input() 함수 <br>\n",
        ": input() 함수는 사용자로부터 값을 입력 받음. <br>\n",
        ": 함수 호출 시 괄호 안에 사용자에게 보여줄 메시지를 지정할 수 있음. <br>\n",
        ": 사용자가 입력한 값은 문자열(string) 형태로 반환됨. 반환된 문자열을 적절한 데이터 타입으로 변환하여 사용 가능."
      ],
      "metadata": {
        "id": "ZInL_my3owGo"
      }
    },
    {
      "cell_type": "code",
      "source": [
        "name = input(\"이름을 입력하세요: \")\n",
        "print(\"안녕하세요, \" + name + \"님!\")"
      ],
      "metadata": {
        "colab": {
          "base_uri": "https://localhost:8080/"
        },
        "id": "zJnzLVVkn0AF",
        "outputId": "3fb930c1-3fc3-4502-a696-74d4b0e90eb0"
      },
      "execution_count": null,
      "outputs": [
        {
          "output_type": "stream",
          "name": "stdout",
          "text": [
            "이름을 입력하세요: d\n",
            "안녕하세요, d님!\n"
          ]
        }
      ]
    },
    {
      "cell_type": "code",
      "source": [
        "num = input(\"정수를 입력하세요: \")\n",
        "print(\"입력된 정수:\", num)\n",
        "print(\"데이터 타입:\", type(num))"
      ],
      "metadata": {
        "colab": {
          "base_uri": "https://localhost:8080/"
        },
        "id": "OYn7aiFtsiyU",
        "outputId": "07b28721-9d44-4eaa-b0d7-cd5c2fe3191b"
      },
      "execution_count": null,
      "outputs": [
        {
          "output_type": "stream",
          "name": "stdout",
          "text": [
            "정수를 입력하세요: 5\n",
            "입력된 정수: 5\n",
            "데이터 타입: <class 'str'>\n"
          ]
        }
      ]
    },
    {
      "cell_type": "markdown",
      "source": [
        "## 인덱싱(Indexing)\n",
        ": 시퀀스 자료형에서 특정 위치의 값을 가져오는 방법"
      ],
      "metadata": {
        "id": "AtLHErpzjXDO"
      }
    },
    {
      "cell_type": "code",
      "source": [
        "s = \"Hello, World!\"\n",
        "print(s[0])  # 'H'\n",
        "print(s[1])  # 'e'\n",
        "print(s[7])  # 'W'\n",
        "print(s[-1]) # '!'"
      ],
      "metadata": {
        "colab": {
          "base_uri": "https://localhost:8080/"
        },
        "id": "MDS44f62jfY2",
        "outputId": "50c974ec-04f1-4885-f380-eecf58fab318"
      },
      "execution_count": null,
      "outputs": [
        {
          "output_type": "stream",
          "name": "stdout",
          "text": [
            "H\n",
            "e\n",
            "W\n",
            "!\n"
          ]
        }
      ]
    },
    {
      "cell_type": "markdown",
      "source": [
        "## 슬라이싱(Slicing)\n",
        ": 시퀀스 자료형에서 일부분을 가져오는 방법"
      ],
      "metadata": {
        "id": "T6AcMxdYje49"
      }
    },
    {
      "cell_type": "code",
      "source": [
        "s = \"Hello, World!\"\n",
        "print(s[0:5])  # 'Hello'\n",
        "print(s[7:12]) # 'World'\n"
      ],
      "metadata": {
        "colab": {
          "base_uri": "https://localhost:8080/"
        },
        "id": "JJ3kxcXtjsdm",
        "outputId": "8d557464-c6dd-476d-a2aa-42276525d0e4"
      },
      "execution_count": null,
      "outputs": [
        {
          "output_type": "stream",
          "name": "stdout",
          "text": [
            "Hello\n",
            "World\n"
          ]
        }
      ]
    },
    {
      "cell_type": "markdown",
      "source": [
        "# 03.String manipulation: Cover string methods"
      ],
      "metadata": {
        "id": "VoCfuHbooAE6"
      }
    },
    {
      "cell_type": "markdown",
      "source": [
        "## .strip()\n",
        "- 문자열의 양쪽 끝에 있는 공백(띄어쓰기, 탭, 개행 문자 등)을 제거"
      ],
      "metadata": {
        "id": "opLKVCd4oGDF"
      }
    },
    {
      "cell_type": "code",
      "source": [
        "my_str = \"  Hello, World!   \"\n",
        "new_str = my_str.strip()\n",
        "print(new_str) # \"Hello, World!\""
      ],
      "metadata": {
        "id": "s_tWxryapQNg"
      },
      "execution_count": null,
      "outputs": []
    },
    {
      "cell_type": "code",
      "source": [
        "my_sstr = \" Hi, Everyone!  \"\n",
        "new_sstr = my_sstr.strip()\n",
        "print(new_sstr)"
      ],
      "metadata": {
        "colab": {
          "base_uri": "https://localhost:8080/"
        },
        "id": "WFeH4ndR09JR",
        "outputId": "83e17911-5007-425f-8298-f36f52eb6df2"
      },
      "execution_count": null,
      "outputs": [
        {
          "output_type": "stream",
          "name": "stdout",
          "text": [
            "Hi, Everyone!\n"
          ]
        }
      ]
    },
    {
      "cell_type": "markdown",
      "source": [
        "## .lower()\n",
        "- 문자열을 모두 소문자로 변경합니다."
      ],
      "metadata": {
        "id": "g9iHNwAxph1n"
      }
    },
    {
      "cell_type": "code",
      "source": [
        "my_str = \"Hello, World!\"\n",
        "new_str = my_str.lower()\n",
        "print(new_str) # \"hello, world!\""
      ],
      "metadata": {
        "colab": {
          "base_uri": "https://localhost:8080/"
        },
        "id": "3wVKSPgMpVyY",
        "outputId": "fcd4dec2-a608-477e-b572-d23ea0d07992"
      },
      "execution_count": null,
      "outputs": [
        {
          "output_type": "stream",
          "name": "stdout",
          "text": [
            "hello, world!\n"
          ]
        }
      ]
    },
    {
      "cell_type": "markdown",
      "source": [
        "## .upper()\n",
        "-  문자열을 모두 대문자로 변경"
      ],
      "metadata": {
        "id": "ID0wThBfp81c"
      }
    },
    {
      "cell_type": "code",
      "source": [
        "my_str = \"Hello, World!\"\n",
        "new_str = my_str.upper()\n",
        "print(new_str) # \"HELLO, WORLD!\""
      ],
      "metadata": {
        "colab": {
          "base_uri": "https://localhost:8080/"
        },
        "id": "zaa5fmqMqCvN",
        "outputId": "9a0943bb-4582-4a50-c16e-e319d9d921f6"
      },
      "execution_count": null,
      "outputs": [
        {
          "output_type": "stream",
          "name": "stdout",
          "text": [
            "HELLO, WORLD!\n"
          ]
        }
      ]
    },
    {
      "cell_type": "markdown",
      "source": [
        "## .split()"
      ],
      "metadata": {
        "id": "Cw_7yl0V24n3"
      }
    },
    {
      "cell_type": "code",
      "source": [
        "w = \"Hello world, how are you?\"\n",
        "a = w.split()\n",
        "# ['Hello', 'world,', 'how', 'are', 'you?']"
      ],
      "metadata": {
        "id": "76nHdU2e28lJ"
      },
      "execution_count": null,
      "outputs": []
    },
    {
      "cell_type": "markdown",
      "source": [
        "## 응용"
      ],
      "metadata": {
        "id": "Egktqwz-1oyf"
      }
    },
    {
      "cell_type": "code",
      "source": [
        "w = \"Mary is friendly.\"\n",
        "a = w.split()\n",
        "w1 = a[0]; w2 = a[1]; w3 = a[2]\n",
        "\n",
        "nw2 = w2[0].upper() + w2[1:]\n",
        "\n",
        "s = nw2 + ' ' + w1 + ' ' + w3\n",
        "\n",
        "s1 = s[:-1]\n",
        "s2 = s1 + '?'\n",
        "s2"
      ],
      "metadata": {
        "colab": {
          "base_uri": "https://localhost:8080/",
          "height": 35
        },
        "id": "ntVrOOAA1wCJ",
        "outputId": "848a4848-4791-4ab4-a77b-fdafffb6eb35"
      },
      "execution_count": null,
      "outputs": [
        {
          "output_type": "execute_result",
          "data": {
            "text/plain": [
              "'Is Mary friendly?'"
            ],
            "application/vnd.google.colaboratory.intrinsic+json": {
              "type": "string"
            }
          },
          "metadata": {},
          "execution_count": 44
        }
      ]
    },
    {
      "cell_type": "code",
      "source": [
        "m = \"Joey is a student.\"\n",
        "a = m.split()\n",
        "m1 = a[0] ; m2 = a[1] ; m3 = a[2] ; m4 = a[3]\n",
        "\n",
        "nm2 = m2[0].upper() + m2[1:]\n",
        "\n",
        "s = nm2 + \" \" + m1 + \" \" + m3 + \" \" + m4\n",
        "\n",
        "s1 = s[:-1]\n",
        "s2 = s1 + '?'\n",
        "s2"
      ],
      "metadata": {
        "colab": {
          "base_uri": "https://localhost:8080/",
          "height": 35
        },
        "id": "ZwnS9KBy3oqG",
        "outputId": "c55165e5-994c-43bd-e7eb-299d6a9d0285"
      },
      "execution_count": null,
      "outputs": [
        {
          "output_type": "execute_result",
          "data": {
            "text/plain": [
              "'Is Joey a student?'"
            ],
            "application/vnd.google.colaboratory.intrinsic+json": {
              "type": "string"
            }
          },
          "metadata": {},
          "execution_count": 55
        }
      ]
    },
    {
      "cell_type": "code",
      "source": [
        "m = \"Joey is my bestfriend.\"\n",
        "a = m.split()\n",
        "m1 = a[0] ; m2 = a[1] ; m3 = a[2] ; m4 = a[3]\n",
        "\n",
        "nm2 = m2[0].upper() + m2[1:]\n",
        "\n",
        "s = nm2 + \" \" + m1 + \" \" + m3 + \" \" + m4\n",
        "\n",
        "s1 = s[:-1]\n",
        "s2 = s1 + '?'\n",
        "s2"
      ],
      "metadata": {
        "colab": {
          "base_uri": "https://localhost:8080/",
          "height": 35
        },
        "id": "wIaOyJ8_6F6A",
        "outputId": "c757d3bf-731a-4b3a-da7d-6d0d83ea3e3f"
      },
      "execution_count": null,
      "outputs": [
        {
          "output_type": "execute_result",
          "data": {
            "text/plain": [
              "'Is Joey my bestfriend?'"
            ],
            "application/vnd.google.colaboratory.intrinsic+json": {
              "type": "string"
            }
          },
          "metadata": {},
          "execution_count": 56
        }
      ]
    },
    {
      "cell_type": "markdown",
      "source": [],
      "metadata": {
        "id": "St567elz6xLb"
      }
    },
    {
      "cell_type": "markdown",
      "source": [
        "# 04. Text-to-speach app"
      ],
      "metadata": {
        "id": "b9_9lcdrVuSy"
      }
    },
    {
      "cell_type": "markdown",
      "source": [
        "## setting-ups"
      ],
      "metadata": {
        "id": "HKtZg-sbV23Z"
      }
    },
    {
      "cell_type": "code",
      "source": [
        "#@title 기본 제목 텍스트\n",
        "!pip install gtts\n",
        "!pip install IPython\n",
        "!pip install gradio"
      ],
      "metadata": {
        "id": "KUxDOo14V60i"
      },
      "execution_count": null,
      "outputs": []
    },
    {
      "cell_type": "markdown",
      "source": [
        "해당 코드는 Python에서 사용할 수 있는 라이브러리들을 설치하는 코드입니다. 각각의 라이브러리는 다음과 같은 역할을 수행합니다.\n",
        "\n",
        "- gtts : Google Text-to-Speech API를 사용하여 텍스트를 음성으로 변환해주는 라이브러리입니다. <br>\n",
        "- IPython : IPython 환경에서 사용할 수 있는 여러 기능들을 제공하는 라이브러리입니다.<br>\n",
        "- gradio : 웹 기반 인터페이스를 제공하는 라이브러리로, 간단한 인터페이스를 통해 모델 테스트, 평가 등을 할 수 있습니다."
      ],
      "metadata": {
        "id": "ryXwTwW7WJS0"
      }
    },
    {
      "cell_type": "code",
      "source": [
        "from gtts import gTTS\n",
        "from IPython.display import Audio, display\n",
        "from ipywidgets import widgets\n",
        "import os\n",
        "import gradio as gr"
      ],
      "metadata": {
        "id": "aDr8Yt5RWXLN"
      },
      "execution_count": null,
      "outputs": []
    },
    {
      "cell_type": "markdown",
      "source": [
        "이 코드는 GTTS를 사용하여 텍스트를 음성으로 변환하고, IPython.display와 ipywidgets를 사용하여 Colab에서 오디오 재생을 제어하며, Gradio를 사용하여 인터랙티브 웹 애플리케이션을 만들기 위한 필수 라이브러리를 import하는 코드입니다.\n",
        "\n",
        "- gtts는 텍스트를 음성으로 변환해주는 라이브러리입니다.<br>\n",
        "- IPython.display 모듈은 Colab에서 이미지, 오디오 등 다양한 미디어 타입을 출력하는 기능을 제공합니다. <br>\n",
        "- ipywidgets 모듈은 인터랙티브한 위젯을 만들어주는 라이브러리입니다.<br>\n",
        "- gradio는 머신러닝 모델을 쉽게 웹 인터페이스로 구현할 수 있게 해주는 라이브러리입니다."
      ],
      "metadata": {
        "id": "pZZWIngtWhA0"
      }
    },
    {
      "cell_type": "markdown",
      "source": [
        "## Text-to-speach with continue buttons"
      ],
      "metadata": {
        "id": "kWYpahsBW9Yt"
      }
    },
    {
      "cell_type": "code",
      "source": [
        "!pip install gradio"
      ],
      "metadata": {
        "id": "FMUpBwiwYNXq"
      },
      "execution_count": null,
      "outputs": []
    },
    {
      "cell_type": "code",
      "source": [
        "#@markdown Text-to-Speech with continue buttons (yes or no)\n",
        "\n",
        "def create_and_play_audio(text):\n",
        "    truncated_text = text[:13] if len(text) > 13 else text\n",
        "    filename = f\"{truncated_text}.mp3\"\n",
        "    tts = gTTS(text, lang='en')\n",
        "    tts.save(filename)\n",
        "    return Audio(filename, autoplay=True)\n",
        "\n",
        "def on_button_click(button):\n",
        "    if button.description == \"Yes\":\n",
        "        main()\n",
        "    else:\n",
        "        print(\"Well done!\")\n",
        "        for btn in buttons:\n",
        "            btn.close()\n",
        "\n",
        "def create_buttons():\n",
        "    button_yes = widgets.Button(description=\"Yes\")\n",
        "    button_no = widgets.Button(description=\"No\")\n",
        "    button_yes.on_click(on_button_click)\n",
        "    button_no.on_click(on_button_click)\n",
        "\n",
        "    return [button_yes, button_no]\n",
        "\n",
        "def main():\n",
        "    print(\"Enter the text to convert to speech:\")\n",
        "    text_input = widgets.Text()\n",
        "    display(text_input)\n",
        "\n",
        "    def on_text_submit(sender):\n",
        "        user_text = text_input.value\n",
        "        if user_text:\n",
        "            text_input.value = \"\"\n",
        "            text_input.disabled = True\n",
        "            audio = create_and_play_audio(user_text)\n",
        "            display(audio)\n",
        "\n",
        "            print(\"Do you want to continue?\")\n",
        "            global buttons\n",
        "            buttons = create_buttons()\n",
        "            display(widgets.HBox(buttons))\n",
        "\n",
        "    text_input.on_submit(on_text_submit)\n",
        "\n",
        "if __name__ == \"__main__\":\n",
        "    main()\n"
      ],
      "metadata": {
        "id": "jhisCXeTcOQ9"
      },
      "execution_count": null,
      "outputs": []
    },
    {
      "cell_type": "markdown",
      "source": [
        "## Create a live link of the app using {Gradio}"
      ],
      "metadata": {
        "id": "hbsjfqEdbwK7"
      }
    },
    {
      "cell_type": "code",
      "source": [
        "#@markdown Online text-to-speech\n",
        "\n",
        "def create_and_play_audio(text):\n",
        "    filename = f\"{text[:10]}.mp3\" if len(text) > 10 else f\"{text}.mp3\"\n",
        "    tts = gTTS(text, lang='en')\n",
        "    tts.save(filename)\n",
        "    return filename\n",
        "\n",
        "def tts_app(text):\n",
        "    audio_file = create_and_play_audio(text)\n",
        "    return audio_file\n",
        "\n",
        "iface = gr.Interface(\n",
        "    fn=tts_app,\n",
        "    inputs=gr.inputs.Textbox(lines=3, label=\"Enter text to convert to speech\"),\n",
        "    outputs=gr.outputs.Audio(type=\"filepath\", label=\"Generated speech\"),\n",
        "    title=\"My Text-to-Speech App\",\n",
        "    description=\"A simple Text-to-Speech app using gTTS. This link is for my class, and it expires in 72 hours.\",\n",
        ")\n",
        "\n",
        "iface.launch(share=True)\n"
      ],
      "metadata": {
        "id": "ZrXSbvdBH6YW",
        "cellView": "form"
      },
      "execution_count": null,
      "outputs": []
    },
    {
      "cell_type": "markdown",
      "source": [
        "## 🌱 Settings: \n",
        "+ American English: etts(), \n",
        "+ British English: btts(),\n",
        "+ Canadian English: ctts()\n",
        "+ Korean: ktts(),"
      ],
      "metadata": {
        "id": "ax0HlqZv6oHL"
      }
    },
    {
      "cell_type": "code",
      "source": [
        "#@markdown 🔄 Install and import libraries\n",
        "%%capture\n",
        "!pip install gTTS\n",
        "from gtts import gTTS\n",
        "from IPython.display import Audio, Image, YouTubeVideo"
      ],
      "metadata": {
        "cellView": "form",
        "id": "R1QwMFEC6mjr"
      },
      "execution_count": 5,
      "outputs": []
    },
    {
      "cell_type": "code",
      "source": [
        "#@markdown 🔄 Making functions: etts('text'), ktts('text'), btts('text)\n",
        "%%capture\n",
        "!pip install gTTS\n",
        "from gtts import gTTS\n",
        "from IPython.display import Audio\n",
        "\n",
        "def etts(text):\n",
        "  text_to_say = text\n",
        "\n",
        "  gtts_object = gTTS(text = text_to_say,\n",
        "                     lang = \"en\", tld = \"us\",\n",
        "                    slow = False)\n",
        "  \n",
        "  gtts_object.save(\"E-audio.mp3\")\n",
        "  return Audio(\"E-audio.mp3\")\n",
        "\n",
        "def ktts(text):\n",
        "  text_to_say = text\n",
        "\n",
        "  gtts_object = gTTS(text = text_to_say,\n",
        "                     lang = \"ko\",\n",
        "                    slow = False)\n",
        "  \n",
        "  gtts_object.save(\"E-audio.mp3\")\n",
        "  return Audio(\"E-audio.mp3\")\n",
        "\n",
        "def btts(text):\n",
        "  text_to_say = text\n",
        "\n",
        "  gtts_object = gTTS(text = text_to_say,\n",
        "                     lang = \"en\", tld = \"co.uk\",\n",
        "                    slow = False)\n",
        "  \n",
        "  gtts_object.save(\"E-audio.mp3\")\n",
        "  return Audio(\"E-audio.mp3\")\n",
        "\n",
        "def ctts(text):\n",
        "  text_to_say = text\n",
        "\n",
        "  gtts_object = gTTS(text = text_to_say,\n",
        "                     lang = \"en\", tld = \"ca\",\n",
        "                    slow = False)\n",
        "  \n",
        "  gtts_object.save(\"E-audio.mp3\")\n",
        "  return Audio(\"E-audio.mp3\")"
      ],
      "metadata": {
        "cellView": "form",
        "id": "CKzRbgtq6uX_"
      },
      "execution_count": 4,
      "outputs": []
    },
    {
      "cell_type": "code",
      "source": [
        "Intro = \"2\" #@param = [1,2,3,4]\n",
        "n = int(Intro) -1\n",
        "txt = [\"Hi everyone.\", \"Nice to see you.\", \"Let me tell you how to make some codes.\", \"Actually, I don't know well, too.\"]\n",
        "mytxt = txt[n]\n",
        "etts(mytxt)\n",
        "Audio(\"E-audio.mp3\", autoplay = True)"
      ],
      "metadata": {
        "id": "aC3svaOD7dYW",
        "colab": {
          "base_uri": "https://localhost:8080/",
          "height": 74
        },
        "outputId": "a158f318-1fc9-41bd-890f-58625d617f7e"
      },
      "execution_count": 7,
      "outputs": [
        {
          "output_type": "execute_result",
          "data": {
            "text/plain": [
              "<IPython.lib.display.Audio object>"
            ],
            "text/html": [
              "\n",
              "                <audio  controls=\"controls\" autoplay=\"autoplay\">\n",
              "                    <source src=\"data:audio/mpeg;base64,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\" type=\"audio/mpeg\" />\n",
              "                    Your browser does not support the audio element.\n",
              "                </audio>\n",
              "              "
            ]
          },
          "metadata": {},
          "execution_count": 7
        }
      ]
    },
    {
      "cell_type": "code",
      "source": [
        "Intro = \"2\" #@param = [1,2,3,4]\n",
        "n = int(Intro) -1\n",
        "txt = [\"Hi everyone.\", \"Nice to see you.\", \"Let me tell you how to make some codes.\", \"Actually, I don't know well, too.\"]\n",
        "mytxt = txt[n]\n",
        "ktts(mytxt)\n",
        "Audio(\"E-audio.mp3\", autoplay = True)"
      ],
      "metadata": {
        "colab": {
          "base_uri": "https://localhost:8080/",
          "height": 74
        },
        "id": "mGrfB2HT8-AL",
        "outputId": "1d384477-4bee-43ca-9b10-d143fd7dbdc6"
      },
      "execution_count": 8,
      "outputs": [
        {
          "output_type": "execute_result",
          "data": {
            "text/plain": [
              "<IPython.lib.display.Audio object>"
            ],
            "text/html": [
              "\n",
              "                <audio  controls=\"controls\" autoplay=\"autoplay\">\n",
              "                    <source src=\"data:audio/mpeg;base64,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\" type=\"audio/mpeg\" />\n",
              "                    Your browser does not support the audio element.\n",
              "                </audio>\n",
              "              "
            ]
          },
          "metadata": {},
          "execution_count": 8
        }
      ]
    },
    {
      "cell_type": "markdown",
      "source": [
        "# 05. Control structures: for loops, while loops, and conditional statement (if, elif, else)"
      ],
      "metadata": {
        "id": "tyulZFOmc38G"
      }
    },
    {
      "cell_type": "markdown",
      "source": [
        "##  for loops <br>\n",
        "- for 반복문은 파이썬에서 가장 많이 사용되는 반복문 중 하나 <br>\n",
        "- for 반복문은 정해진 범위에서 값을 하나씩 꺼내서 처리할 때 사용 <br>\n",
        "- for 변수 in 시퀀스: <br>\n",
        "    실행할 코드 <br>\n",
        "    위 구문에서 변수는 시퀀스에서 꺼낸 값이 저장될 변수의 이름을 의미합니다. 시퀀스는 반복문을 수행할 대상 데이터를 의미합니다. 실행할 코드는 시퀀스에서 꺼낸 값에 대해 실행할 코드를 작성합니다.\n"
      ],
      "metadata": {
        "id": "lCCdaD14c_xV"
      }
    },
    {
      "cell_type": "code",
      "source": [
        "number = 2\n",
        "print(number**2)"
      ],
      "metadata": {
        "id": "8axdZo8yyK49",
        "outputId": "9c80838a-59c3-4466-8ff7-6d7477d86034",
        "colab": {
          "base_uri": "https://localhost:8080/"
        }
      },
      "execution_count": null,
      "outputs": [
        {
          "output_type": "stream",
          "name": "stdout",
          "text": [
            "4\n"
          ]
        }
      ]
    },
    {
      "cell_type": "markdown",
      "source": [
        "If you want the same process (square of x) for 1, 2, 3, 4, 5"
      ],
      "metadata": {
        "id": "m9sAA43oyUG-"
      }
    },
    {
      "cell_type": "code",
      "source": [
        "# Define a list of numbers\n",
        "numbers = [1, 2, 3, 4, 5]\n",
        "\n",
        "# Use a for loop to iterate through the list\n",
        "for num in numbers:\n",
        "    # Print the square of each number\n",
        "    print(num ** 2)"
      ],
      "metadata": {
        "id": "N1b7Us8myGNK",
        "outputId": "60df1c3f-2c2b-4a1f-f4a9-f38ee1a8b799",
        "colab": {
          "base_uri": "https://localhost:8080/"
        }
      },
      "execution_count": null,
      "outputs": [
        {
          "output_type": "stream",
          "name": "stdout",
          "text": [
            "1\n",
            "4\n",
            "9\n",
            "16\n",
            "25\n"
          ]
        }
      ]
    },
    {
      "cell_type": "markdown",
      "source": [
        "append()는 리스트 객체의 메서드 중 하나로, 리스트의 끝에 새로운 요소를 추가하는 기능을 합니다.\n",
        "\n",
        "리스트의 append() 메서드를 호출할 때 괄호 안에 추가할 요소를 넣으면 리스트의 마지막에 새로운 요소가 추가됩니다."
      ],
      "metadata": {
        "id": "QuegMU2mAKL-"
      }
    },
    {
      "cell_type": "code",
      "source": [
        "numbers = [1,2,3,4,5]\n",
        "squared = []\n",
        "\n",
        "for i in numbers:\n",
        "  s = i ** 2\n",
        "  squared.append(s)\n",
        "\n",
        "print(squared)"
      ],
      "metadata": {
        "id": "N6WKYWzAi9zS",
        "outputId": "93cceb5b-2f13-40f7-f9df-a7b97c397aab",
        "colab": {
          "base_uri": "https://localhost:8080/"
        }
      },
      "execution_count": null,
      "outputs": [
        {
          "output_type": "stream",
          "name": "stdout",
          "text": [
            "[1, 4, 9, 16, 25]\n"
          ]
        }
      ]
    },
    {
      "cell_type": "markdown",
      "source": [
        "DIY\n",
        "\n",
        "1. Ask how many to input\n",
        "2. User input name\n",
        "3. Using for loop, append the attendance list\n",
        "\n",
        "\n",
        "\n"
      ],
      "metadata": {
        "id": "eoodtQr3PQZa"
      }
    },
    {
      "cell_type": "code",
      "source": [
        "num_names = input(\"How many names? \")\n",
        "num_names = int(num_names)\n",
        "\n",
        "attendance = []\n",
        "\n",
        "for i in range(0, num_names):\n",
        "  name = input()\n",
        "  attendance.append(name)\n",
        "\n",
        "print(attendance)\n"
      ],
      "metadata": {
        "id": "1h-L7PPzP0o4",
        "outputId": "1e1b9bdd-9104-4c93-c123-9de9c72484bd",
        "colab": {
          "base_uri": "https://localhost:8080/"
        }
      },
      "execution_count": 4,
      "outputs": [
        {
          "output_type": "stream",
          "name": "stdout",
          "text": [
            "How many names? 2\n",
            "Jane\n",
            "Lisa\n",
            "['Jane', 'Lisa']\n"
          ]
        }
      ]
    },
    {
      "cell_type": "code",
      "source": [
        "len(attendance)"
      ],
      "metadata": {
        "id": "0esSSfGdQOaL",
        "outputId": "d84d0d37-1ad1-487e-c872-9d847ed8fafb",
        "colab": {
          "base_uri": "https://localhost:8080/"
        }
      },
      "execution_count": 5,
      "outputs": [
        {
          "output_type": "execute_result",
          "data": {
            "text/plain": [
              "2"
            ]
          },
          "metadata": {},
          "execution_count": 5
        }
      ]
    },
    {
      "cell_type": "markdown",
      "source": [
        "## range()\n",
        "\n",
        "In Python, the range() function is used to generate a sequence of numbers. It takes three arguments: the start value, the end value (exclusive), and the step value. In the example range(10, 0, -1), the arguments are:\n",
        "\n",
        "- 10: The start value, indicating that the sequence will begin with the number 10.<br>\n",
        "- 0: The end value (exclusive), meaning that the sequence will stop before reaching 0. <br>\n",
        "- -1: The step value, which determines the difference between each number in the sequence. In this case, the step is -1, indicating that the numbers in the sequence will decrease by 1 with each iteration. <br>\n",
        "- So, the range(10, 0, -1) function will generate a sequence of numbers counting down from 10 to 1 in reverse order, like this: 10, 9, 8, 7, 6, 5, 4, 3, 2, 1."
      ],
      "metadata": {
        "id": "6m2rS4rmB4oI"
      }
    },
    {
      "cell_type": "code",
      "source": [
        "# Set the starting number for the countdown\n",
        "sn = 10\n",
        "\n",
        "# Use a for loop to iterate through the countdown\n",
        "for i in range(sn, 0, -1):\n",
        "    # Print the current countdown number\n",
        "    print(i)\n",
        "\n",
        "# Print the final message after the countdown\n",
        "print(\"Blast off!\")"
      ],
      "metadata": {
        "colab": {
          "base_uri": "https://localhost:8080/"
        },
        "id": "Tzw1H2BmCv4y",
        "outputId": "61762383-9a47-42b8-d750-7509c8725418"
      },
      "execution_count": 8,
      "outputs": [
        {
          "output_type": "stream",
          "name": "stdout",
          "text": [
            "10\n",
            "9\n",
            "8\n",
            "7\n",
            "6\n",
            "5\n",
            "4\n",
            "3\n",
            "2\n",
            "1\n",
            "Blast off!\n"
          ]
        }
      ]
    },
    {
      "cell_type": "markdown",
      "source": [
        "DIY: using for loop, print odd numbers starting from 17"
      ],
      "metadata": {
        "id": "HR8OoxDK0BIe"
      }
    },
    {
      "cell_type": "code",
      "source": [
        "for num in range(17, 30, 2):\n",
        "    print(num)"
      ],
      "metadata": {
        "id": "30AxHsUi0NXY",
        "colab": {
          "base_uri": "https://localhost:8080/"
        },
        "outputId": "0d7a6b3a-ed20-4108-8d3c-a0d04194fd43"
      },
      "execution_count": 7,
      "outputs": [
        {
          "output_type": "stream",
          "name": "stdout",
          "text": [
            "17\n",
            "19\n",
            "21\n",
            "23\n",
            "25\n",
            "27\n",
            "29\n",
            "31\n",
            "33\n",
            "35\n",
            "37\n",
            "39\n",
            "41\n",
            "43\n",
            "45\n",
            "47\n",
            "49\n"
          ]
        }
      ]
    },
    {
      "cell_type": "markdown",
      "source": [
        "- range(17, 100, 2)는 17부터 99까지의 홀수를 생성하는 시퀀스를 만듭니다. \n",
        "- range()의 세 번째 인자는 증감폭을 나타내며 2로 설정하여 홀수만 생성합니다.\n",
        "- for 반복문은 range() 함수로 생성된 시퀀스의 각 요소를 반복하여 순회합니다.\n",
        "print(num)은 현재 반복 중인 num 변수를 출력합니다."
      ],
      "metadata": {
        "id": "HFnSImy7CN7N"
      }
    },
    {
      "cell_type": "markdown",
      "source": [
        " DIY how to get a list with numbers 1 * 1, 2 * 4, 3 * 9, 4 * 16, 5 * 25 from the above"
      ],
      "metadata": {
        "id": "qCphIQEqDaEZ"
      }
    },
    {
      "cell_type": "code",
      "source": [
        "numbers = [1, 2, 3, 4, 5]\n",
        "squared = []\n",
        "\n",
        "for num in numbers:\n",
        "  sq = num ** 2\n",
        "  result = num * sq\n",
        "  squared.append(result)\n",
        "\n",
        "print(squared)"
      ],
      "metadata": {
        "id": "DUNgA-9Xo0JI",
        "colab": {
          "base_uri": "https://localhost:8080/"
        },
        "outputId": "fa32089f-22be-4e16-d6d7-cf3d748cd531"
      },
      "execution_count": 12,
      "outputs": [
        {
          "output_type": "stream",
          "name": "stdout",
          "text": [
            "[1, 8, 27, 64, 125]\n"
          ]
        }
      ]
    }
  ]
}