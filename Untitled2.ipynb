{
  "nbformat": 4,
  "nbformat_minor": 0,
  "metadata": {
    "colab": {
      "provenance": [],
      "authorship_tag": "ABX9TyOz2gm2v549Xtlnt1SzWnYO",
      "include_colab_link": true
    },
    "kernelspec": {
      "name": "python3",
      "display_name": "Python 3"
    },
    "language_info": {
      "name": "python"
    }
  },
  "cells": [
    {
      "cell_type": "markdown",
      "metadata": {
        "id": "view-in-github",
        "colab_type": "text"
      },
      "source": [
        "<a href=\"https://colab.research.google.com/github/byw125/DL/blob/main/Untitled2.ipynb\" target=\"_parent\"><img src=\"https://colab.research.google.com/assets/colab-badge.svg\" alt=\"Open In Colab\"/></a>"
      ]
    },
    {
      "cell_type": "code",
      "execution_count": 3,
      "metadata": {
        "id": "hS_ZNd70YEvs"
      },
      "outputs": [],
      "source": [
        "greeting = \"Hello, students!\"\n",
        "year = 2023"
      ]
    },
    {
      "cell_type": "code",
      "source": [
        "print(greeting)\n",
        "print(year)"
      ],
      "metadata": {
        "colab": {
          "base_uri": "https://localhost:8080/"
        },
        "id": "uxG0vkMVYGQR",
        "outputId": "bcc6db4d-1d58-4bd6-8137-bdb424fc7aee"
      },
      "execution_count": 4,
      "outputs": [
        {
          "output_type": "stream",
          "name": "stdout",
          "text": [
            "Hello, students!\n",
            "2023\n"
          ]
        }
      ]
    },
    {
      "cell_type": "code",
      "source": [
        "message = greeting + \" \" + str(year)\n",
        "print(message)"
      ],
      "metadata": {
        "colab": {
          "base_uri": "https://localhost:8080/"
        },
        "id": "x31qvIrJYHru",
        "outputId": "52dbcc89-8e21-4b43-f5ec-446fefea3826"
      },
      "execution_count": 6,
      "outputs": [
        {
          "output_type": "stream",
          "name": "stdout",
          "text": [
            "Hello, students! 2023\n"
          ]
        }
      ]
    },
    {
      "cell_type": "code",
      "source": [
        "num1 = 10\n",
        "num2 = 3\n",
        "print(num1 + num2)"
      ],
      "metadata": {
        "colab": {
          "base_uri": "https://localhost:8080/"
        },
        "id": "BpfoM4mZYSCK",
        "outputId": "8d8708c6-0e00-4565-fb8a-5664823f445e"
      },
      "execution_count": 8,
      "outputs": [
        {
          "output_type": "stream",
          "name": "stdout",
          "text": [
            "13\n"
          ]
        }
      ]
    },
    {
      "cell_type": "code",
      "source": [
        "user_string = input(\"Enter a string: \")\n",
        "user_number = int(input(\"Enter a number: \"))\n",
        "print(user_string * user_number)"
      ],
      "metadata": {
        "id": "TYd1hvB2YVn1"
      },
      "execution_count": null,
      "outputs": []
    },
    {
      "cell_type": "code",
      "source": [
        "sentence = \"Coding is fun and easy to learn!\"\n",
        "word_list = sentence.split()\n",
        "print(word_list)"
      ],
      "metadata": {
        "id": "isSAVcYhZZtu"
      },
      "execution_count": null,
      "outputs": []
    },
    {
      "cell_type": "code",
      "source": [
        "text = \"Coding is Exciting!\"\n",
        "uppercase_text = text.upper()\n",
        "lowercase_text = text.lower()\n",
        "print(\"Uppercase text:\", uppercase_text)\n",
        "print(\"Lowercase text:\", lowercase_text)"
      ],
      "metadata": {
        "id": "Zvgq1cjOaL0v"
      },
      "execution_count": null,
      "outputs": []
    },
    {
      "cell_type": "code",
      "source": [
        "quote = \"The greatest glory in living lies not in never falling, but in rising every time we fall.\"\n",
        "print(\"First character:\", quote[0])\n",
        "print(\"Last character:\", quote[-1])\n",
        "print(\"First 5 characters:\", quote[:5])\n",
        "print(\"From position 5 to the end:\", quote[5:])\n",
        "print(\"Reverse string:\", quote[::-1])"
      ],
      "metadata": {
        "id": "bc2XYxOpajjw"
      },
      "execution_count": null,
      "outputs": []
    }
  ]
}