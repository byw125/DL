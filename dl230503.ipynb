{
  "nbformat": 4,
  "nbformat_minor": 0,
  "metadata": {
    "colab": {
      "provenance": [],
      "include_colab_link": true
    },
    "kernelspec": {
      "name": "python3",
      "display_name": "Python 3"
    },
    "language_info": {
      "name": "python"
    }
  },
  "cells": [
    {
      "cell_type": "markdown",
      "metadata": {
        "id": "view-in-github",
        "colab_type": "text"
      },
      "source": [
        "<a href=\"https://colab.research.google.com/github/byw125/DL/blob/main/dl230503.ipynb\" target=\"_parent\"><img src=\"https://colab.research.google.com/assets/colab-badge.svg\" alt=\"Open In Colab\"/></a>"
      ]
    },
    {
      "cell_type": "markdown",
      "source": [
        "# **Digital Literacy Midterm Spring 2023 (5/3, Wednesday)**\n",
        "\n",
        "There are two parts:\n",
        "\n",
        "🌀**Part I: Coding in Colab (20 questions, 30 points): max 40 mins**\n",
        "\n",
        "+ Q1~10 (1 point each * 10 = 10)\n",
        "+ Q11~Q20 (2 points each * 10 = 20)\n",
        "\n",
        "\n",
        "🌀**Part II: Google Form (30 questions, 30 points)**\n",
        "\n",
        "Total 50 minutes are allowed."
      ],
      "metadata": {
        "id": "uG7ryUj1vrAd"
      }
    },
    {
      "cell_type": "markdown",
      "source": [
        "---\n",
        "##**Instructions**\n",
        "\n",
        "When times up (max 40 mins), save this copy as a pdf file (to upload) AND to your github repository with the following file name format:\n",
        "\n",
        "\n",
        "## 📌 Files: \n",
        "##**1) dl230503_yourid.pdf**\n",
        "##**2) dl230503_yourid.ipynb**\n",
        "---"
      ],
      "metadata": {
        "id": "Nvk-6cX5vzGf"
      }
    },
    {
      "cell_type": "markdown",
      "source": [
        "# 🌀**Part I: Coding in Colab (20 questions, 30 points): max 40 mins**"
      ],
      "metadata": {
        "id": "QXo452swwdC-"
      }
    },
    {
      "cell_type": "code",
      "source": [
        "yourname = input(\"Type your name here: \")"
      ],
      "metadata": {
        "id": "Navu6pa1HRUo",
        "outputId": "d7ceb15d-d494-4587-89bc-ba7896d0b632",
        "colab": {
          "base_uri": "https://localhost:8080/",
          "height": 0
        }
      },
      "execution_count": 2,
      "outputs": [
        {
          "name": "stdout",
          "output_type": "stream",
          "text": [
            "Type your name here: 방예원\n"
          ]
        }
      ]
    },
    {
      "cell_type": "markdown",
      "source": [
        "##Q1. Create a list called fruits and add three of your favorite fruits to it. Then, print the list."
      ],
      "metadata": {
        "id": "f_6UoScV9Egz"
      }
    },
    {
      "cell_type": "code",
      "source": [
        "fruits = ['grape', 'apple', 'kiwi']\n",
        "\n",
        "print(fruits)"
      ],
      "metadata": {
        "id": "7pvq2ocQ9F5z",
        "colab": {
          "base_uri": "https://localhost:8080/",
          "height": 0
        },
        "outputId": "5a477799-a353-4a87-dfca-f3e09cfa82a2"
      },
      "execution_count": 4,
      "outputs": [
        {
          "output_type": "stream",
          "name": "stdout",
          "text": [
            "['grape', 'apple', 'kiwi']\n"
          ]
        }
      ]
    },
    {
      "cell_type": "markdown",
      "source": [
        "##Q2. Create a variable called **_name_** and ask the user to enter their name. Then, print a message that says \"Hello, [name]!\"."
      ],
      "metadata": {
        "id": "PcXue4xzv-Yw"
      }
    },
    {
      "cell_type": "code",
      "source": [
        "print('Hello, ' + input('Write your name'))"
      ],
      "metadata": {
        "id": "giTXfqgOwC0O",
        "colab": {
          "base_uri": "https://localhost:8080/",
          "height": 0
        },
        "outputId": "68d72e8e-e528-4abb-e8a7-c6ab1b7f00ac"
      },
      "execution_count": 41,
      "outputs": [
        {
          "output_type": "stream",
          "name": "stdout",
          "text": [
            "Write your name예원\n",
            "Hello, 예원\n"
          ]
        }
      ]
    },
    {
      "cell_type": "markdown",
      "source": [
        "##Q3. Create a variable called **_age_** and ask the user to enter their age. Then, print a message that says \"You are [age] years old\"."
      ],
      "metadata": {
        "id": "AePeo9Xj81Lq"
      }
    },
    {
      "cell_type": "code",
      "source": [
        "print('You are ' + input('How old are you?') + ' years old..')"
      ],
      "metadata": {
        "id": "-uZrFNqJ8-P1",
        "colab": {
          "base_uri": "https://localhost:8080/",
          "height": 0
        },
        "outputId": "ff8e01c5-6c92-4a96-cb2d-a55feec06ec2"
      },
      "execution_count": 42,
      "outputs": [
        {
          "output_type": "stream",
          "name": "stdout",
          "text": [
            "How old are you?22\n",
            "You are 22 years old..\n"
          ]
        }
      ]
    },
    {
      "cell_type": "markdown",
      "source": [
        "##Q4. Create a dictionary called **_person_** with keys name, age, and ID. Set the values to your own name, age, and address. Then, print the dictionary."
      ],
      "metadata": {
        "id": "em_AuOW78-p2"
      }
    },
    {
      "cell_type": "code",
      "source": [
        "person = {\"name\": '방예원', \"age\": 22, \"ID\": 2021012510}\n",
        "print(person)"
      ],
      "metadata": {
        "id": "RLK7p5Q49cV0",
        "colab": {
          "base_uri": "https://localhost:8080/",
          "height": 0
        },
        "outputId": "848bfac7-1a80-4f17-d452-88d969744a7b"
      },
      "execution_count": 85,
      "outputs": [
        {
          "output_type": "stream",
          "name": "stdout",
          "text": [
            "{'name': '방예원', 'age': 22, 'ID': 2021012510}\n"
          ]
        }
      ]
    },
    {
      "cell_type": "markdown",
      "source": [
        "##Q5. Create a variable called **_num1_** and set it to 5. Create another variable called **_num2_** and set it to 10. Add num1 and num2 together and print the result."
      ],
      "metadata": {
        "id": "d7JQrF_W9b0_"
      }
    },
    {
      "cell_type": "code",
      "source": [
        "num1 = 5\n",
        "num2 = 10\n",
        "\n",
        "print(num1 + num2)"
      ],
      "metadata": {
        "id": "tnZxKJ5D9veI",
        "colab": {
          "base_uri": "https://localhost:8080/",
          "height": 0
        },
        "outputId": "5f53a3cb-30f0-4bcd-b3eb-4dd988bbb40f"
      },
      "execution_count": 14,
      "outputs": [
        {
          "output_type": "stream",
          "name": "stdout",
          "text": [
            "15\n"
          ]
        }
      ]
    },
    {
      "cell_type": "markdown",
      "source": [
        "##Q6. Create a variable called **_num3_** and set it to 3. Create another variable called **_num4_** and set it to 2. Divide num3 by num4 and print the result."
      ],
      "metadata": {
        "id": "-i5804vz9U5q"
      }
    },
    {
      "cell_type": "code",
      "source": [
        "num3 = 3\n",
        "num4 = 2\n",
        "print(num3/num4)"
      ],
      "metadata": {
        "id": "jzdLu_QG9-wY",
        "colab": {
          "base_uri": "https://localhost:8080/",
          "height": 0
        },
        "outputId": "af3e181e-f71e-4cd3-b085-ff4f17a84c8a"
      },
      "execution_count": 16,
      "outputs": [
        {
          "output_type": "stream",
          "name": "stdout",
          "text": [
            "1.5\n"
          ]
        }
      ]
    },
    {
      "cell_type": "markdown",
      "source": [
        "##Q7. Create a variable called **_sentence_** and set it to \"The quick brown fox jumps over the lazy dog\". Use the **split()** function to split the sentence into a list of words. Then, print the list."
      ],
      "metadata": {
        "id": "5s5sjEco9_CM"
      }
    },
    {
      "cell_type": "code",
      "source": [
        "sentence = \"The quick brown fox jumps over the lazy dog.\"\n",
        "print (sentence.split())"
      ],
      "metadata": {
        "id": "RD4gaQKe-KO-",
        "colab": {
          "base_uri": "https://localhost:8080/",
          "height": 0
        },
        "outputId": "5426c991-81db-4f10-b7d2-f84a2d610dbc"
      },
      "execution_count": 19,
      "outputs": [
        {
          "output_type": "stream",
          "name": "stdout",
          "text": [
            "['The', 'quick', 'brown', 'fox', 'jumps', 'over', 'the', 'lazy', 'dog.']\n"
          ]
        }
      ]
    },
    {
      "cell_type": "markdown",
      "source": [
        "##Q8. Create a list called **_colors_** and add three of your favorite colors to it. Use the **join()** function to join the list into a string separated by commas. Then, print the string."
      ],
      "metadata": {
        "id": "LB1OOu5--LEJ"
      }
    },
    {
      "cell_type": "code",
      "source": [
        "colors = ['red', 'green', 'blue']\n",
        "print(colors)"
      ],
      "metadata": {
        "id": "R885XASr-Ttn",
        "colab": {
          "base_uri": "https://localhost:8080/",
          "height": 0
        },
        "outputId": "55f695d3-6935-42fc-cbda-8134aae9b344"
      },
      "execution_count": 80,
      "outputs": [
        {
          "output_type": "stream",
          "name": "stdout",
          "text": [
            "['red', 'green', 'blue']\n"
          ]
        }
      ]
    },
    {
      "cell_type": "markdown",
      "source": [
        "##Q9. Create a variable called **_number_** and set it to 5. Use the **str()** function to convert the number to a string. Then, print number + 7"
      ],
      "metadata": {
        "id": "dAI5abTF-UBn"
      }
    },
    {
      "cell_type": "code",
      "source": [
        "number = 5\n",
        "\n",
        "print(number + 7)"
      ],
      "metadata": {
        "id": "JBBLWa8U-y60",
        "colab": {
          "base_uri": "https://localhost:8080/",
          "height": 211
        },
        "outputId": "c72bd427-afaa-4f63-d700-6e0371dd171f"
      },
      "execution_count": 90,
      "outputs": [
        {
          "output_type": "error",
          "ename": "AttributeError",
          "evalue": "ignored",
          "traceback": [
            "\u001b[0;31m---------------------------------------------------------------------------\u001b[0m",
            "\u001b[0;31mAttributeError\u001b[0m                            Traceback (most recent call last)",
            "\u001b[0;32m<ipython-input-90-44ee5a9bbc7b>\u001b[0m in \u001b[0;36m<cell line: 2>\u001b[0;34m()\u001b[0m\n\u001b[1;32m      1\u001b[0m \u001b[0mnumber\u001b[0m \u001b[0;34m=\u001b[0m \u001b[0;36m5\u001b[0m\u001b[0;34m\u001b[0m\u001b[0;34m\u001b[0m\u001b[0m\n\u001b[0;32m----> 2\u001b[0;31m \u001b[0ma\u001b[0m \u001b[0;34m=\u001b[0m \u001b[0mnumber\u001b[0m\u001b[0;34m.\u001b[0m\u001b[0mstr\u001b[0m\u001b[0;34m(\u001b[0m\u001b[0;34m)\u001b[0m\u001b[0;34m\u001b[0m\u001b[0;34m\u001b[0m\u001b[0m\n\u001b[0m\u001b[1;32m      3\u001b[0m \u001b[0mprint\u001b[0m\u001b[0;34m(\u001b[0m\u001b[0mnumber\u001b[0m \u001b[0;34m+\u001b[0m \u001b[0;36m7\u001b[0m\u001b[0;34m)\u001b[0m\u001b[0;34m\u001b[0m\u001b[0;34m\u001b[0m\u001b[0m\n",
            "\u001b[0;31mAttributeError\u001b[0m: 'int' object has no attribute 'str'"
          ]
        }
      ]
    },
    {
      "cell_type": "markdown",
      "source": [
        "##Q10. Create a variable called **_my_string_** and set it to \"Hello, world!\". Use the index() function to find the index of the letter \"w\" in the string. Then, print the index."
      ],
      "metadata": {
        "id": "p7l0HIDq-zJR"
      }
    },
    {
      "cell_type": "code",
      "source": [
        "my_string = \"Hello, wrold!\"\n",
        "print(my_string[7])\n"
      ],
      "metadata": {
        "id": "EQCj1EFc_wVi",
        "colab": {
          "base_uri": "https://localhost:8080/",
          "height": 0
        },
        "outputId": "b7252920-0bf9-4a8c-88cd-0a6d579535fc"
      },
      "execution_count": 82,
      "outputs": [
        {
          "output_type": "stream",
          "name": "stdout",
          "text": [
            "w\n"
          ]
        }
      ]
    },
    {
      "cell_type": "markdown",
      "source": [
        "##Q11. Create a variable called **_my_list_** and set it to [1, 2, 3, 4, 5]. Use the len() function to find the length of the list. Then, print the length."
      ],
      "metadata": {
        "id": "3cQvEKzw_xGG"
      }
    },
    {
      "cell_type": "code",
      "source": [
        "my_list = [1, 2, 3, 4, 5]\n",
        "\n",
        "print(len(my_list))"
      ],
      "metadata": {
        "id": "XWNin3P8_5N6",
        "colab": {
          "base_uri": "https://localhost:8080/",
          "height": 0
        },
        "outputId": "5d83d202-57bf-498a-8df6-6ebc8209fd2b"
      },
      "execution_count": 88,
      "outputs": [
        {
          "output_type": "stream",
          "name": "stdout",
          "text": [
            "5\n"
          ]
        }
      ]
    },
    {
      "cell_type": "markdown",
      "source": [
        "##Q12. Create a variable called **_my_string_** and set it to \"Hello, world!\". Use slicing to print the first 5 characters of the string."
      ],
      "metadata": {
        "id": "x1wsjbhI_5oA"
      }
    },
    {
      "cell_type": "code",
      "source": [
        "my_string = \"Hello, world!\"\n",
        "\n",
        "print(my_string[0:5])"
      ],
      "metadata": {
        "id": "xw4BY9wJAFzc",
        "colab": {
          "base_uri": "https://localhost:8080/",
          "height": 0
        },
        "outputId": "532fe804-b54f-41d0-abe7-eafe8f2c741d"
      },
      "execution_count": 89,
      "outputs": [
        {
          "output_type": "stream",
          "name": "stdout",
          "text": [
            "Hello\n"
          ]
        }
      ]
    },
    {
      "cell_type": "markdown",
      "source": [
        "##Q13. Create a list called **_numbers_**. Using the random.randint() function, add five random integers to it. Then, print the list. \n",
        "\n",
        "**Note:** You should not write the random number on your own. The code should take the random number and add it to your list."
      ],
      "metadata": {
        "id": "MkzTNSRBAGTM"
      }
    },
    {
      "cell_type": "code",
      "source": [
        "import random\n",
        "\n",
        "numbers = [1, 2, 3, 4, 5]\n",
        "random_numbers = random.randint(1,5)\n",
        "\n",
        "print(random_numbers)"
      ],
      "metadata": {
        "id": "eDwWJE0TAP0u",
        "colab": {
          "base_uri": "https://localhost:8080/",
          "height": 0
        },
        "outputId": "70af33be-c854-40a6-e47d-3b424347c9c7"
      },
      "execution_count": 97,
      "outputs": [
        {
          "output_type": "stream",
          "name": "stdout",
          "text": [
            "3\n"
          ]
        }
      ]
    },
    {
      "cell_type": "markdown",
      "source": [
        "##Q14. [1] Create a list of your favorite colors called **color_list** with at least three colors. [2] Use a **for loop** to iterate through the list and print each color."
      ],
      "metadata": {
        "id": "Bzfbrkc5A7KS"
      }
    },
    {
      "cell_type": "code",
      "source": [
        "color_list = ['red', 'yellow', 'blue']\n",
        "random_color = []\n",
        "\n",
        "import random\n",
        "\n",
        "random_colors = random.randint(color_list)\n",
        "for c in color_list :\n",
        "\n",
        "print([])"
      ],
      "metadata": {
        "id": "xAAf0Ez6BXII",
        "colab": {
          "base_uri": "https://localhost:8080/",
          "height": 137
        },
        "outputId": "b79d0928-9f82-4b4c-927a-abda0a8f08ca"
      },
      "execution_count": 100,
      "outputs": [
        {
          "output_type": "error",
          "ename": "IndentationError",
          "evalue": "ignored",
          "traceback": [
            "\u001b[0;36m  File \u001b[0;32m\"<ipython-input-100-e2d764544fd8>\"\u001b[0;36m, line \u001b[0;32m9\u001b[0m\n\u001b[0;31m    print([])\u001b[0m\n\u001b[0m    ^\u001b[0m\n\u001b[0;31mIndentationError\u001b[0m\u001b[0;31m:\u001b[0m expected an indented block after 'for' statement on line 7\n"
          ]
        }
      ]
    },
    {
      "cell_type": "markdown",
      "source": [
        "## Q15. Create a list of your favorite foods called **food_list** with at least three foods. Use a **for loop** to iterate through the list and print each food in uppercase letters."
      ],
      "metadata": {
        "id": "PBeXyJjdBXjq"
      }
    },
    {
      "cell_type": "code",
      "source": [
        "food_list = ['rice', 'soup', 'bread']\n"
      ],
      "metadata": {
        "id": "x7Ci5q0pBkui",
        "colab": {
          "base_uri": "https://localhost:8080/",
          "height": 137
        },
        "outputId": "ca658ea4-1ce2-42c3-b9b1-39b4fe019420"
      },
      "execution_count": 46,
      "outputs": [
        {
          "output_type": "error",
          "ename": "SyntaxError",
          "evalue": "ignored",
          "traceback": [
            "\u001b[0;36m  File \u001b[0;32m\"<ipython-input-46-703101730e5d>\"\u001b[0;36m, line \u001b[0;32m3\u001b[0m\n\u001b[0;31m    for food_list in .upper()\u001b[0m\n\u001b[0m                     ^\u001b[0m\n\u001b[0;31mSyntaxError\u001b[0m\u001b[0;31m:\u001b[0m invalid syntax\n"
          ]
        }
      ]
    },
    {
      "cell_type": "markdown",
      "source": [
        "##Q16.Create a list of your favorite animals called **animal_list** with at least three animals. Use a **for loop** to iterate through the list and print each animal, along with a message saying \"I love [animal]!\"\n",
        "\n"
      ],
      "metadata": {
        "id": "2l_4Ae3uBnQ0"
      }
    },
    {
      "cell_type": "code",
      "source": [
        "animal_list = ['cat', 'dog', 'rabbit']\n",
        "\n",
        "print(\"I love \" + for animal_list +\".\")\n"
      ],
      "metadata": {
        "id": "RWBlkXMqB6py",
        "colab": {
          "base_uri": "https://localhost:8080/",
          "height": 137
        },
        "outputId": "784a0d1d-0edb-40cc-ce84-9628acc481cd"
      },
      "execution_count": 47,
      "outputs": [
        {
          "output_type": "error",
          "ename": "SyntaxError",
          "evalue": "ignored",
          "traceback": [
            "\u001b[0;36m  File \u001b[0;32m\"<ipython-input-47-7fdffdf0b4a5>\"\u001b[0;36m, line \u001b[0;32m3\u001b[0m\n\u001b[0;31m    print(\"I love \" + for animal_list +\".\")\u001b[0m\n\u001b[0m                      ^\u001b[0m\n\u001b[0;31mSyntaxError\u001b[0m\u001b[0;31m:\u001b[0m invalid syntax\n"
          ]
        }
      ]
    },
    {
      "cell_type": "markdown",
      "source": [
        "##Q17. The following code should create a list of numbers from 1 to 5 and print the sum of the numbers, but there is an error. Identify and fix the error so that the code runs with no error.\n",
        "\n"
      ],
      "metadata": {
        "id": "YzWHkQmPCr4p"
      }
    },
    {
      "cell_type": "code",
      "source": [
        "my_list = [1, 2, 3, 4, 5]\n",
        "total = sum(my_list)\n",
        "print(\"The sum is: \" + '15')"
      ],
      "metadata": {
        "id": "wKMgVa5FDmdm",
        "outputId": "a8428aa7-5897-404a-c50b-bef693a52f2f",
        "colab": {
          "base_uri": "https://localhost:8080/",
          "height": 0
        }
      },
      "execution_count": 52,
      "outputs": [
        {
          "output_type": "stream",
          "name": "stdout",
          "text": [
            "The sum is: 15\n"
          ]
        }
      ]
    },
    {
      "cell_type": "markdown",
      "source": [
        "##Q18. The following code should create a dictionary of fruit names and their corresponding colors, and then print the color of the fruit \"banana\", but there is an error. Identify and fix the error so that the code runs with no error."
      ],
      "metadata": {
        "id": "pMFKmV7YD1dA"
      }
    },
    {
      "cell_type": "code",
      "source": [
        "fruit_dict = {'apple': 'red', 'banana': 'yellow', 'orange': 'orange'}\n",
        "print(fruit_dict[banana])"
      ],
      "metadata": {
        "id": "NCluyxSSD4QU",
        "outputId": "c3c1383e-d9ec-4ae9-b20b-0bb455761499",
        "colab": {
          "base_uri": "https://localhost:8080/",
          "height": 185
        }
      },
      "execution_count": null,
      "outputs": [
        {
          "output_type": "error",
          "ename": "NameError",
          "evalue": "ignored",
          "traceback": [
            "\u001b[0;31m---------------------------------------------------------------------------\u001b[0m",
            "\u001b[0;31mNameError\u001b[0m                                 Traceback (most recent call last)",
            "\u001b[0;32m<ipython-input-2-3aa606bc8c58>\u001b[0m in \u001b[0;36m<cell line: 2>\u001b[0;34m()\u001b[0m\n\u001b[1;32m      1\u001b[0m \u001b[0mfruit_dict\u001b[0m \u001b[0;34m=\u001b[0m \u001b[0;34m{\u001b[0m\u001b[0;34m'apple'\u001b[0m\u001b[0;34m:\u001b[0m \u001b[0;34m'red'\u001b[0m\u001b[0;34m,\u001b[0m \u001b[0;34m'banana'\u001b[0m\u001b[0;34m:\u001b[0m \u001b[0;34m'yellow'\u001b[0m\u001b[0;34m,\u001b[0m \u001b[0;34m'orange'\u001b[0m\u001b[0;34m:\u001b[0m \u001b[0;34m'orange'\u001b[0m\u001b[0;34m}\u001b[0m\u001b[0;34m\u001b[0m\u001b[0;34m\u001b[0m\u001b[0m\n\u001b[0;32m----> 2\u001b[0;31m \u001b[0mprint\u001b[0m\u001b[0;34m(\u001b[0m\u001b[0mfruit_dict\u001b[0m\u001b[0;34m[\u001b[0m\u001b[0mbanana\u001b[0m\u001b[0;34m]\u001b[0m\u001b[0;34m)\u001b[0m\u001b[0;34m\u001b[0m\u001b[0;34m\u001b[0m\u001b[0m\n\u001b[0m",
            "\u001b[0;31mNameError\u001b[0m: name 'banana' is not defined"
          ]
        }
      ]
    },
    {
      "cell_type": "markdown",
      "source": [
        "## Q19. Read the code below and identify the error. Then, fix the error so that the program outputs the fourth item (i.e., 'grape') in the list."
      ],
      "metadata": {
        "id": "89SBCwZH2AmN"
      }
    },
    {
      "cell_type": "code",
      "source": [
        "fruit = [\"apple\", \"banana\", \"orange\", \"grape\"]\n",
        "a = fruit.split()\n",
        "a"
      ],
      "metadata": {
        "id": "QFkH3Crf1_-c",
        "outputId": "2375ba08-fdf2-4aff-e091-2c5365d6f397",
        "colab": {
          "base_uri": "https://localhost:8080/",
          "height": 211
        }
      },
      "execution_count": 79,
      "outputs": [
        {
          "output_type": "error",
          "ename": "AttributeError",
          "evalue": "ignored",
          "traceback": [
            "\u001b[0;31m---------------------------------------------------------------------------\u001b[0m",
            "\u001b[0;31mAttributeError\u001b[0m                            Traceback (most recent call last)",
            "\u001b[0;32m<ipython-input-79-f284b9c67b26>\u001b[0m in \u001b[0;36m<cell line: 2>\u001b[0;34m()\u001b[0m\n\u001b[1;32m      1\u001b[0m \u001b[0mfruit\u001b[0m \u001b[0;34m=\u001b[0m \u001b[0;34m[\u001b[0m\u001b[0;34m\"apple\"\u001b[0m\u001b[0;34m,\u001b[0m \u001b[0;34m\"banana\"\u001b[0m\u001b[0;34m,\u001b[0m \u001b[0;34m\"orange\"\u001b[0m\u001b[0;34m,\u001b[0m \u001b[0;34m\"grape\"\u001b[0m\u001b[0;34m]\u001b[0m\u001b[0;34m\u001b[0m\u001b[0;34m\u001b[0m\u001b[0m\n\u001b[0;32m----> 2\u001b[0;31m \u001b[0ma\u001b[0m\u001b[0;34m=\u001b[0m\u001b[0mfruit\u001b[0m\u001b[0;34m.\u001b[0m\u001b[0msplit\u001b[0m\u001b[0;34m(\u001b[0m\u001b[0;34m)\u001b[0m\u001b[0;34m\u001b[0m\u001b[0;34m\u001b[0m\u001b[0m\n\u001b[0m\u001b[1;32m      3\u001b[0m \u001b[0ma\u001b[0m\u001b[0;34m\u001b[0m\u001b[0;34m\u001b[0m\u001b[0m\n",
            "\u001b[0;31mAttributeError\u001b[0m: 'list' object has no attribute 'split'"
          ]
        }
      ]
    },
    {
      "cell_type": "markdown",
      "source": [
        "##Q19. The following code should create a string containing the words \"apple\", \"banana\", and \"orange\" separated by commas. Split the string into a list of the individual words, so that the output becomes [\"apple\", \"banana\", \"orange\"] and not [\"apple,banana,orange\"]."
      ],
      "metadata": {
        "id": "cqhaBl5yD_Zb"
      }
    },
    {
      "cell_type": "code",
      "source": [
        "my_string = \"apple,banana,orange\"\n",
        "my_list = my_string.split()\n",
        "print(my_list)"
      ],
      "metadata": {
        "id": "SsjNp-jUEC3t",
        "outputId": "f023760e-b83a-410e-d82f-da5bf6c00801",
        "colab": {
          "base_uri": "https://localhost:8080/",
          "height": 0
        }
      },
      "execution_count": 65,
      "outputs": [
        {
          "output_type": "stream",
          "name": "stdout",
          "text": [
            "['apple,banana,orange']\n"
          ]
        }
      ]
    },
    {
      "cell_type": "markdown",
      "source": [
        "##Q20. Create a language application that changes a declarative sentence to an imperative sentence. Test the app with the following sentences: \n",
        "\n",
        "1. \"You take your seat.\" > (output) Take your seat!\n",
        "2. \"You bring your book.\" > (output) Bring your book!\n",
        "\n",
        "+ Step1. Start with the first sentence, and add code lines in order to get the output ('Take your seat!')\n",
        "+ Step2. Make another code cell and make a user interactive app using input(). Here you should be able to get the output of the second sentence when the user type the second sentence."
      ],
      "metadata": {
        "id": "uHHgSSliE8o8"
      }
    },
    {
      "cell_type": "code",
      "source": [
        "s = \"You take your seat.\"\n",
        "s.split()\n",
        "a=s.split()\n",
        "a1 = a[0]; a2 = a[1]; a3 = a[2]; a4 = a[3]\n",
        "aa2 = a2[0].upper() + a2[1:]\n",
        "aa4 = a4[:-1]\n",
        "s1 = aa2 + ' '+ a3 + ' ' + aa4\n",
        "s2 = s1+'!'\n",
        "\n",
        "print(s2)"
      ],
      "metadata": {
        "id": "rQlNj2QqFlT_",
        "outputId": "819080f9-3134-457f-e919-579fee7b692f",
        "colab": {
          "base_uri": "https://localhost:8080/",
          "height": 0
        }
      },
      "execution_count": 75,
      "outputs": [
        {
          "output_type": "stream",
          "name": "stdout",
          "text": [
            "Take your seat!\n"
          ]
        }
      ]
    },
    {
      "cell_type": "code",
      "source": [
        "s = \"You bring your book.\"\n",
        "s.split()\n",
        "a=s.split()\n",
        "a1 = a[0]; a2 = a[1]; a3 = a[2]; a4 = a[3]\n",
        "aa2 = a2[0].upper() + a2[1:]\n",
        "aa4 = a4[:-1]\n",
        "s1 = aa2 + ' '+ a3 + ' ' + aa4\n",
        "s2 = s1+'!'\n",
        "\n",
        "print(s2)\n",
        "\n",
        "\n",
        "\n"
      ],
      "metadata": {
        "colab": {
          "base_uri": "https://localhost:8080/",
          "height": 0
        },
        "id": "OPX8_wf8ywIJ",
        "outputId": "7474931c-f68b-482b-c35a-5c1cd6c1b24d"
      },
      "execution_count": 77,
      "outputs": [
        {
          "output_type": "stream",
          "name": "stdout",
          "text": [
            "Bring your book!\n"
          ]
        }
      ]
    },
    {
      "cell_type": "markdown",
      "source": [
        "---\n",
        "# 📌Submission: 2 submissions\n",
        "\n",
        "[1] pdf submission (File > Print > pdf print), save pdf on the desktop, get it ready to upload your file to the google form below. \n",
        "+ File name: dl230503_yourid.pdf\n",
        "\n",
        "[2] Save this file in your github repository. \n",
        "+ File name: dl230503_yourid.ipynb"
      ],
      "metadata": {
        "id": "Pr37pv-b2wu-"
      }
    },
    {
      "cell_type": "markdown",
      "source": [
        "# 🌀 **Part II: Using a Google form (30 questions, 30 points)**\n",
        "\n",
        "[Click here to start](https://forms.gle/eidnsEzd4VkRXC4i7)\n"
      ],
      "metadata": {
        "id": "y8Uj1W9w4p-f"
      }
    }
  ]
}